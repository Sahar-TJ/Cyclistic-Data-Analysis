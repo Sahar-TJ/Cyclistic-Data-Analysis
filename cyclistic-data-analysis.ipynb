{
 "cells": [
  {
   "cell_type": "markdown",
   "id": "ed3cec6a",
   "metadata": {
    "papermill": {
     "duration": 0.040213,
     "end_time": "2021-06-13T14:00:18.035626",
     "exception": false,
     "start_time": "2021-06-13T14:00:17.995413",
     "status": "completed"
    },
    "tags": []
   },
   "source": [
    "# Cyclistic Data Analysis\n",
    "---\n",
    "## How does Bike-Share Navigate speedy Success?\n",
    "##  ----------------------------------------------  By Sahar Tosif Jamal\n",
    "## Google Data Analysis Professional Certificate"
   ]
  },
  {
   "cell_type": "markdown",
   "id": "ef73e7c7",
   "metadata": {
    "papermill": {
     "duration": 0.039366,
     "end_time": "2021-06-13T14:00:18.114512",
     "exception": false,
     "start_time": "2021-06-13T14:00:18.075146",
     "status": "completed"
    },
    "tags": []
   },
   "source": [
    "# Ask\n",
    "\n",
    "**Business Task**- To know how do annual members and casual riders use Cyclistic Bikes differently. Analyze their trends and how we can encourage casual riders to buy Cyclistic Annual membership.\n",
    "\n",
    "__Audience__- Mrs. Lily Monero and the executive team"
   ]
  },
  {
   "cell_type": "markdown",
   "id": "334aa68d",
   "metadata": {
    "papermill": {
     "duration": 0.03838,
     "end_time": "2021-06-13T14:00:18.191746",
     "exception": false,
     "start_time": "2021-06-13T14:00:18.153366",
     "status": "completed"
    },
    "tags": []
   },
   "source": [
    "## Importing Libraries"
   ]
  },
  {
   "cell_type": "code",
   "execution_count": 1,
   "id": "ffaa4339",
   "metadata": {
    "_execution_state": "idle",
    "_uuid": "051d70d956493feee0c6d64651c6a088724dca2a",
    "execution": {
     "iopub.execute_input": "2021-06-13T14:00:18.275240Z",
     "iopub.status.busy": "2021-06-13T14:00:18.273027Z",
     "iopub.status.idle": "2021-06-13T14:00:19.710522Z",
     "shell.execute_reply": "2021-06-13T14:00:19.709071Z"
    },
    "papermill": {
     "duration": 1.4803,
     "end_time": "2021-06-13T14:00:19.710709",
     "exception": false,
     "start_time": "2021-06-13T14:00:18.230409",
     "status": "completed"
    },
    "tags": []
   },
   "outputs": [
    {
     "name": "stderr",
     "output_type": "stream",
     "text": [
      "── \u001b[1mAttaching packages\u001b[22m ─────────────────────────────────────── tidyverse 1.3.0 ──\n",
      "\n",
      "\u001b[32m✔\u001b[39m \u001b[34mggplot2\u001b[39m 3.3.3     \u001b[32m✔\u001b[39m \u001b[34mpurrr  \u001b[39m 0.3.4\n",
      "\u001b[32m✔\u001b[39m \u001b[34mtibble \u001b[39m 3.1.1     \u001b[32m✔\u001b[39m \u001b[34mdplyr  \u001b[39m 1.0.5\n",
      "\u001b[32m✔\u001b[39m \u001b[34mtidyr  \u001b[39m 1.1.3     \u001b[32m✔\u001b[39m \u001b[34mstringr\u001b[39m 1.4.0\n",
      "\u001b[32m✔\u001b[39m \u001b[34mreadr  \u001b[39m 1.4.0     \u001b[32m✔\u001b[39m \u001b[34mforcats\u001b[39m 0.5.0\n",
      "\n",
      "── \u001b[1mConflicts\u001b[22m ────────────────────────────────────────── tidyverse_conflicts() ──\n",
      "\u001b[31m✖\u001b[39m \u001b[34mdplyr\u001b[39m::\u001b[32mfilter()\u001b[39m masks \u001b[34mstats\u001b[39m::filter()\n",
      "\u001b[31m✖\u001b[39m \u001b[34mdplyr\u001b[39m::\u001b[32mlag()\u001b[39m    masks \u001b[34mstats\u001b[39m::lag()\n",
      "\n"
     ]
    },
    {
     "data": {
      "text/html": [
       "'divvy-chicago-bikesharing-data'"
      ],
      "text/latex": [
       "'divvy-chicago-bikesharing-data'"
      ],
      "text/markdown": [
       "'divvy-chicago-bikesharing-data'"
      ],
      "text/plain": [
       "[1] \"divvy-chicago-bikesharing-data\""
      ]
     },
     "metadata": {},
     "output_type": "display_data"
    }
   ],
   "source": [
    "library(tidyverse) # metapackage of all tidyverse packages\n",
    "\n",
    "list.files(path = \"../input\")\n"
   ]
  },
  {
   "cell_type": "code",
   "execution_count": 2,
   "id": "147dc27f",
   "metadata": {
    "execution": {
     "iopub.execute_input": "2021-06-13T14:00:19.833299Z",
     "iopub.status.busy": "2021-06-13T14:00:19.796057Z",
     "iopub.status.idle": "2021-06-13T14:00:20.083039Z",
     "shell.execute_reply": "2021-06-13T14:00:20.081448Z"
    },
    "papermill": {
     "duration": 0.331593,
     "end_time": "2021-06-13T14:00:20.083181",
     "exception": false,
     "start_time": "2021-06-13T14:00:19.751588",
     "status": "completed"
    },
    "tags": []
   },
   "outputs": [
    {
     "name": "stderr",
     "output_type": "stream",
     "text": [
      "\n",
      "Attaching package: ‘janitor’\n",
      "\n",
      "\n",
      "The following objects are masked from ‘package:stats’:\n",
      "\n",
      "    chisq.test, fisher.test\n",
      "\n",
      "\n",
      "\n",
      "Attaching package: ‘lubridate’\n",
      "\n",
      "\n",
      "The following objects are masked from ‘package:base’:\n",
      "\n",
      "    date, intersect, setdiff, union\n",
      "\n",
      "\n",
      "\n",
      "Attaching package: ‘zoo’\n",
      "\n",
      "\n",
      "The following objects are masked from ‘package:base’:\n",
      "\n",
      "    as.Date, as.Date.numeric\n",
      "\n",
      "\n",
      "\n",
      "Attaching package: ‘data.table’\n",
      "\n",
      "\n",
      "The following objects are masked from ‘package:lubridate’:\n",
      "\n",
      "    hour, isoweek, mday, minute, month, quarter, second, wday, week,\n",
      "    yday, year\n",
      "\n",
      "\n",
      "The following objects are masked from ‘package:dplyr’:\n",
      "\n",
      "    between, first, last\n",
      "\n",
      "\n",
      "The following object is masked from ‘package:purrr’:\n",
      "\n",
      "    transpose\n",
      "\n",
      "\n"
     ]
    }
   ],
   "source": [
    "#install.pacakages(tidyverse)\n",
    "library(tidyverse)\n",
    "#install.pacakages(readr)\n",
    "library(readr)\n",
    "#install.pacakages(ggplot2)\n",
    "library(ggplot2)\n",
    "#install.pacakages(tidyr)\n",
    "library(tidyr)\n",
    "#install.pacakages(janitor)\n",
    "library(janitor)\n",
    "#install.packages(lubridate)\n",
    "library(lubridate)\n",
    "library(zoo)\n",
    "library(dplyr)\n",
    "library(data.table)"
   ]
  },
  {
   "cell_type": "markdown",
   "id": "3ff4c32f",
   "metadata": {
    "papermill": {
     "duration": 0.043408,
     "end_time": "2021-06-13T14:00:20.169867",
     "exception": false,
     "start_time": "2021-06-13T14:00:20.126459",
     "status": "completed"
    },
    "tags": []
   },
   "source": [
    "# Prepare\n",
    "\n",
    "In this process we will import all the dataset that are arranged monthly wise from April 2020 to March 2021.\n",
    "\n",
    "The dataset is Reliable, Original, Comprehensive, Current and Cited. The data has been made available by Motivate International In. under a Licence. The dataset hasn't revealed any private information of the users."
   ]
  },
  {
   "cell_type": "code",
   "execution_count": 3,
   "id": "a0ff4cff",
   "metadata": {
    "execution": {
     "iopub.execute_input": "2021-06-13T14:00:20.261751Z",
     "iopub.status.busy": "2021-06-13T14:00:20.260422Z",
     "iopub.status.idle": "2021-06-13T14:00:46.949165Z",
     "shell.execute_reply": "2021-06-13T14:00:46.947927Z"
    },
    "papermill": {
     "duration": 26.73617,
     "end_time": "2021-06-13T14:00:46.949336",
     "exception": false,
     "start_time": "2021-06-13T14:00:20.213166",
     "status": "completed"
    },
    "tags": []
   },
   "outputs": [
    {
     "name": "stderr",
     "output_type": "stream",
     "text": [
      "\n",
      "\u001b[36m──\u001b[39m \u001b[1m\u001b[1mColumn specification\u001b[1m\u001b[22m \u001b[36m────────────────────────────────────────────────────────\u001b[39m\n",
      "cols(\n",
      "  ride_id = \u001b[31mcol_character()\u001b[39m,\n",
      "  rideable_type = \u001b[31mcol_character()\u001b[39m,\n",
      "  started_at = \u001b[34mcol_datetime(format = \"\")\u001b[39m,\n",
      "  ended_at = \u001b[34mcol_datetime(format = \"\")\u001b[39m,\n",
      "  start_station_name = \u001b[31mcol_character()\u001b[39m,\n",
      "  start_station_id = \u001b[32mcol_double()\u001b[39m,\n",
      "  end_station_name = \u001b[31mcol_character()\u001b[39m,\n",
      "  end_station_id = \u001b[32mcol_double()\u001b[39m,\n",
      "  start_lat = \u001b[32mcol_double()\u001b[39m,\n",
      "  start_lng = \u001b[32mcol_double()\u001b[39m,\n",
      "  end_lat = \u001b[32mcol_double()\u001b[39m,\n",
      "  end_lng = \u001b[32mcol_double()\u001b[39m,\n",
      "  member_casual = \u001b[31mcol_character()\u001b[39m\n",
      ")\n",
      "\n",
      "\n",
      "\n",
      "\u001b[36m──\u001b[39m \u001b[1m\u001b[1mColumn specification\u001b[1m\u001b[22m \u001b[36m────────────────────────────────────────────────────────\u001b[39m\n",
      "cols(\n",
      "  ride_id = \u001b[31mcol_character()\u001b[39m,\n",
      "  rideable_type = \u001b[31mcol_character()\u001b[39m,\n",
      "  started_at = \u001b[34mcol_datetime(format = \"\")\u001b[39m,\n",
      "  ended_at = \u001b[34mcol_datetime(format = \"\")\u001b[39m,\n",
      "  start_station_name = \u001b[31mcol_character()\u001b[39m,\n",
      "  start_station_id = \u001b[32mcol_double()\u001b[39m,\n",
      "  end_station_name = \u001b[31mcol_character()\u001b[39m,\n",
      "  end_station_id = \u001b[32mcol_double()\u001b[39m,\n",
      "  start_lat = \u001b[32mcol_double()\u001b[39m,\n",
      "  start_lng = \u001b[32mcol_double()\u001b[39m,\n",
      "  end_lat = \u001b[32mcol_double()\u001b[39m,\n",
      "  end_lng = \u001b[32mcol_double()\u001b[39m,\n",
      "  member_casual = \u001b[31mcol_character()\u001b[39m\n",
      ")\n",
      "\n",
      "\n",
      "\n",
      "\u001b[36m──\u001b[39m \u001b[1m\u001b[1mColumn specification\u001b[1m\u001b[22m \u001b[36m────────────────────────────────────────────────────────\u001b[39m\n",
      "cols(\n",
      "  ride_id = \u001b[31mcol_character()\u001b[39m,\n",
      "  rideable_type = \u001b[31mcol_character()\u001b[39m,\n",
      "  started_at = \u001b[34mcol_datetime(format = \"\")\u001b[39m,\n",
      "  ended_at = \u001b[34mcol_datetime(format = \"\")\u001b[39m,\n",
      "  start_station_name = \u001b[31mcol_character()\u001b[39m,\n",
      "  start_station_id = \u001b[32mcol_double()\u001b[39m,\n",
      "  end_station_name = \u001b[31mcol_character()\u001b[39m,\n",
      "  end_station_id = \u001b[32mcol_double()\u001b[39m,\n",
      "  start_lat = \u001b[32mcol_double()\u001b[39m,\n",
      "  start_lng = \u001b[32mcol_double()\u001b[39m,\n",
      "  end_lat = \u001b[32mcol_double()\u001b[39m,\n",
      "  end_lng = \u001b[32mcol_double()\u001b[39m,\n",
      "  member_casual = \u001b[31mcol_character()\u001b[39m\n",
      ")\n",
      "\n",
      "\n",
      "\n",
      "\u001b[36m──\u001b[39m \u001b[1m\u001b[1mColumn specification\u001b[1m\u001b[22m \u001b[36m────────────────────────────────────────────────────────\u001b[39m\n",
      "cols(\n",
      "  ride_id = \u001b[31mcol_character()\u001b[39m,\n",
      "  rideable_type = \u001b[31mcol_character()\u001b[39m,\n",
      "  started_at = \u001b[34mcol_datetime(format = \"\")\u001b[39m,\n",
      "  ended_at = \u001b[34mcol_datetime(format = \"\")\u001b[39m,\n",
      "  start_station_name = \u001b[31mcol_character()\u001b[39m,\n",
      "  start_station_id = \u001b[32mcol_double()\u001b[39m,\n",
      "  end_station_name = \u001b[31mcol_character()\u001b[39m,\n",
      "  end_station_id = \u001b[32mcol_double()\u001b[39m,\n",
      "  start_lat = \u001b[32mcol_double()\u001b[39m,\n",
      "  start_lng = \u001b[32mcol_double()\u001b[39m,\n",
      "  end_lat = \u001b[32mcol_double()\u001b[39m,\n",
      "  end_lng = \u001b[32mcol_double()\u001b[39m,\n",
      "  member_casual = \u001b[31mcol_character()\u001b[39m\n",
      ")\n",
      "\n",
      "\n",
      "\n",
      "\u001b[36m──\u001b[39m \u001b[1m\u001b[1mColumn specification\u001b[1m\u001b[22m \u001b[36m────────────────────────────────────────────────────────\u001b[39m\n",
      "cols(\n",
      "  ride_id = \u001b[31mcol_character()\u001b[39m,\n",
      "  rideable_type = \u001b[31mcol_character()\u001b[39m,\n",
      "  started_at = \u001b[34mcol_datetime(format = \"\")\u001b[39m,\n",
      "  ended_at = \u001b[34mcol_datetime(format = \"\")\u001b[39m,\n",
      "  start_station_name = \u001b[31mcol_character()\u001b[39m,\n",
      "  start_station_id = \u001b[32mcol_double()\u001b[39m,\n",
      "  end_station_name = \u001b[31mcol_character()\u001b[39m,\n",
      "  end_station_id = \u001b[32mcol_double()\u001b[39m,\n",
      "  start_lat = \u001b[32mcol_double()\u001b[39m,\n",
      "  start_lng = \u001b[32mcol_double()\u001b[39m,\n",
      "  end_lat = \u001b[32mcol_double()\u001b[39m,\n",
      "  end_lng = \u001b[32mcol_double()\u001b[39m,\n",
      "  member_casual = \u001b[31mcol_character()\u001b[39m\n",
      ")\n",
      "\n",
      "\n",
      "\n",
      "\u001b[36m──\u001b[39m \u001b[1m\u001b[1mColumn specification\u001b[1m\u001b[22m \u001b[36m────────────────────────────────────────────────────────\u001b[39m\n",
      "cols(\n",
      "  ride_id = \u001b[31mcol_character()\u001b[39m,\n",
      "  rideable_type = \u001b[31mcol_character()\u001b[39m,\n",
      "  started_at = \u001b[34mcol_datetime(format = \"\")\u001b[39m,\n",
      "  ended_at = \u001b[34mcol_datetime(format = \"\")\u001b[39m,\n",
      "  start_station_name = \u001b[31mcol_character()\u001b[39m,\n",
      "  start_station_id = \u001b[32mcol_double()\u001b[39m,\n",
      "  end_station_name = \u001b[31mcol_character()\u001b[39m,\n",
      "  end_station_id = \u001b[32mcol_double()\u001b[39m,\n",
      "  start_lat = \u001b[32mcol_double()\u001b[39m,\n",
      "  start_lng = \u001b[32mcol_double()\u001b[39m,\n",
      "  end_lat = \u001b[32mcol_double()\u001b[39m,\n",
      "  end_lng = \u001b[32mcol_double()\u001b[39m,\n",
      "  member_casual = \u001b[31mcol_character()\u001b[39m\n",
      ")\n",
      "\n",
      "\n",
      "\n",
      "\u001b[36m──\u001b[39m \u001b[1m\u001b[1mColumn specification\u001b[1m\u001b[22m \u001b[36m────────────────────────────────────────────────────────\u001b[39m\n",
      "cols(\n",
      "  ride_id = \u001b[31mcol_character()\u001b[39m,\n",
      "  rideable_type = \u001b[31mcol_character()\u001b[39m,\n",
      "  started_at = \u001b[34mcol_datetime(format = \"\")\u001b[39m,\n",
      "  ended_at = \u001b[34mcol_datetime(format = \"\")\u001b[39m,\n",
      "  start_station_name = \u001b[31mcol_character()\u001b[39m,\n",
      "  start_station_id = \u001b[32mcol_double()\u001b[39m,\n",
      "  end_station_name = \u001b[31mcol_character()\u001b[39m,\n",
      "  end_station_id = \u001b[32mcol_double()\u001b[39m,\n",
      "  start_lat = \u001b[32mcol_double()\u001b[39m,\n",
      "  start_lng = \u001b[32mcol_double()\u001b[39m,\n",
      "  end_lat = \u001b[32mcol_double()\u001b[39m,\n",
      "  end_lng = \u001b[32mcol_double()\u001b[39m,\n",
      "  member_casual = \u001b[31mcol_character()\u001b[39m\n",
      ")\n",
      "\n",
      "\n",
      "\n",
      "\u001b[36m──\u001b[39m \u001b[1m\u001b[1mColumn specification\u001b[1m\u001b[22m \u001b[36m────────────────────────────────────────────────────────\u001b[39m\n",
      "cols(\n",
      "  ride_id = \u001b[31mcol_character()\u001b[39m,\n",
      "  rideable_type = \u001b[31mcol_character()\u001b[39m,\n",
      "  started_at = \u001b[34mcol_datetime(format = \"\")\u001b[39m,\n",
      "  ended_at = \u001b[34mcol_datetime(format = \"\")\u001b[39m,\n",
      "  start_station_name = \u001b[31mcol_character()\u001b[39m,\n",
      "  start_station_id = \u001b[32mcol_double()\u001b[39m,\n",
      "  end_station_name = \u001b[31mcol_character()\u001b[39m,\n",
      "  end_station_id = \u001b[32mcol_double()\u001b[39m,\n",
      "  start_lat = \u001b[32mcol_double()\u001b[39m,\n",
      "  start_lng = \u001b[32mcol_double()\u001b[39m,\n",
      "  end_lat = \u001b[32mcol_double()\u001b[39m,\n",
      "  end_lng = \u001b[32mcol_double()\u001b[39m,\n",
      "  member_casual = \u001b[31mcol_character()\u001b[39m\n",
      ")\n",
      "\n",
      "\n",
      "\n",
      "\u001b[36m──\u001b[39m \u001b[1m\u001b[1mColumn specification\u001b[1m\u001b[22m \u001b[36m────────────────────────────────────────────────────────\u001b[39m\n",
      "cols(\n",
      "  ride_id = \u001b[31mcol_character()\u001b[39m,\n",
      "  rideable_type = \u001b[31mcol_character()\u001b[39m,\n",
      "  started_at = \u001b[34mcol_datetime(format = \"\")\u001b[39m,\n",
      "  ended_at = \u001b[34mcol_datetime(format = \"\")\u001b[39m,\n",
      "  start_station_name = \u001b[31mcol_character()\u001b[39m,\n",
      "  start_station_id = \u001b[31mcol_character()\u001b[39m,\n",
      "  end_station_name = \u001b[31mcol_character()\u001b[39m,\n",
      "  end_station_id = \u001b[31mcol_character()\u001b[39m,\n",
      "  start_lat = \u001b[32mcol_double()\u001b[39m,\n",
      "  start_lng = \u001b[32mcol_double()\u001b[39m,\n",
      "  end_lat = \u001b[32mcol_double()\u001b[39m,\n",
      "  end_lng = \u001b[32mcol_double()\u001b[39m,\n",
      "  member_casual = \u001b[31mcol_character()\u001b[39m\n",
      ")\n",
      "\n",
      "\n",
      "\n",
      "\u001b[36m──\u001b[39m \u001b[1m\u001b[1mColumn specification\u001b[1m\u001b[22m \u001b[36m────────────────────────────────────────────────────────\u001b[39m\n",
      "cols(\n",
      "  ride_id = \u001b[31mcol_character()\u001b[39m,\n",
      "  rideable_type = \u001b[31mcol_character()\u001b[39m,\n",
      "  started_at = \u001b[34mcol_datetime(format = \"\")\u001b[39m,\n",
      "  ended_at = \u001b[34mcol_datetime(format = \"\")\u001b[39m,\n",
      "  start_station_name = \u001b[31mcol_character()\u001b[39m,\n",
      "  start_station_id = \u001b[31mcol_character()\u001b[39m,\n",
      "  end_station_name = \u001b[31mcol_character()\u001b[39m,\n",
      "  end_station_id = \u001b[31mcol_character()\u001b[39m,\n",
      "  start_lat = \u001b[32mcol_double()\u001b[39m,\n",
      "  start_lng = \u001b[32mcol_double()\u001b[39m,\n",
      "  end_lat = \u001b[32mcol_double()\u001b[39m,\n",
      "  end_lng = \u001b[32mcol_double()\u001b[39m,\n",
      "  member_casual = \u001b[31mcol_character()\u001b[39m\n",
      ")\n",
      "\n",
      "\n",
      "\n",
      "\u001b[36m──\u001b[39m \u001b[1m\u001b[1mColumn specification\u001b[1m\u001b[22m \u001b[36m────────────────────────────────────────────────────────\u001b[39m\n",
      "cols(\n",
      "  ride_id = \u001b[31mcol_character()\u001b[39m,\n",
      "  rideable_type = \u001b[31mcol_character()\u001b[39m,\n",
      "  started_at = \u001b[34mcol_datetime(format = \"\")\u001b[39m,\n",
      "  ended_at = \u001b[34mcol_datetime(format = \"\")\u001b[39m,\n",
      "  start_station_name = \u001b[31mcol_character()\u001b[39m,\n",
      "  start_station_id = \u001b[31mcol_character()\u001b[39m,\n",
      "  end_station_name = \u001b[31mcol_character()\u001b[39m,\n",
      "  end_station_id = \u001b[31mcol_character()\u001b[39m,\n",
      "  start_lat = \u001b[32mcol_double()\u001b[39m,\n",
      "  start_lng = \u001b[32mcol_double()\u001b[39m,\n",
      "  end_lat = \u001b[32mcol_double()\u001b[39m,\n",
      "  end_lng = \u001b[32mcol_double()\u001b[39m,\n",
      "  member_casual = \u001b[31mcol_character()\u001b[39m\n",
      ")\n",
      "\n",
      "\n",
      "\n",
      "\u001b[36m──\u001b[39m \u001b[1m\u001b[1mColumn specification\u001b[1m\u001b[22m \u001b[36m────────────────────────────────────────────────────────\u001b[39m\n",
      "cols(\n",
      "  ride_id = \u001b[31mcol_character()\u001b[39m,\n",
      "  rideable_type = \u001b[31mcol_character()\u001b[39m,\n",
      "  started_at = \u001b[34mcol_datetime(format = \"\")\u001b[39m,\n",
      "  ended_at = \u001b[34mcol_datetime(format = \"\")\u001b[39m,\n",
      "  start_station_name = \u001b[31mcol_character()\u001b[39m,\n",
      "  start_station_id = \u001b[31mcol_character()\u001b[39m,\n",
      "  end_station_name = \u001b[31mcol_character()\u001b[39m,\n",
      "  end_station_id = \u001b[31mcol_character()\u001b[39m,\n",
      "  start_lat = \u001b[32mcol_double()\u001b[39m,\n",
      "  start_lng = \u001b[32mcol_double()\u001b[39m,\n",
      "  end_lat = \u001b[32mcol_double()\u001b[39m,\n",
      "  end_lng = \u001b[32mcol_double()\u001b[39m,\n",
      "  member_casual = \u001b[31mcol_character()\u001b[39m\n",
      ")\n",
      "\n",
      "\n"
     ]
    }
   ],
   "source": [
    "apr20 <- read_csv(\"../input/divvy-chicago-bikesharing-data/202004-divvy-tripdata/202004-divvy-tripdata.csv\")\n",
    "may20 <- read_csv(\"../input/divvy-chicago-bikesharing-data/202005-divvy-tripdata/202005-divvy-tripdata.csv\")\n",
    "jun20 <- read_csv(\"../input/divvy-chicago-bikesharing-data/202006-divvy-tripdata/202006-divvy-tripdata.csv\")\n",
    "jul20 <- read_csv(\"../input/divvy-chicago-bikesharing-data/202007-divvy-tripdata/202007-divvy-tripdata.csv\")\n",
    "aug20 <- read_csv(\"../input/divvy-chicago-bikesharing-data/202008-divvy-tripdata/202008-divvy-tripdata.csv\")\n",
    "sept20 <- read_csv(\"../input/divvy-chicago-bikesharing-data/202009-divvy-tripdata/202009-divvy-tripdata.csv\")\n",
    "oct20 <- read_csv(\"../input/divvy-chicago-bikesharing-data/202010-divvy-tripdata/202010-divvy-tripdata.csv\")\n",
    "nov20 <- read_csv(\"../input/divvy-chicago-bikesharing-data/202011-divvy-tripdata/202011-divvy-tripdata.csv\")\n",
    "dec20 <- read_csv(\"../input/divvy-chicago-bikesharing-data/202012-divvy-tripdata/202012-divvy-tripdata.csv\")\n",
    "jan21 <- read_csv(\"../input/divvy-chicago-bikesharing-data/202101-divvy-tripdata/202101-divvy-tripdata.csv\")\n",
    "feb21 <- read_csv(\"../input/divvy-chicago-bikesharing-data/202102-divvy-tripdata/202102-divvy-tripdata.csv\")\n",
    "mar21 <- read_csv(\"../input/divvy-chicago-bikesharing-data/202103-divvy-tripdata/202103-divvy-tripdata.csv\")"
   ]
  },
  {
   "cell_type": "markdown",
   "id": "c712396c",
   "metadata": {
    "papermill": {
     "duration": 0.0473,
     "end_time": "2021-06-13T14:00:47.044540",
     "exception": false,
     "start_time": "2021-06-13T14:00:46.997240",
     "status": "completed"
    },
    "tags": []
   },
   "source": [
    "### Cheking if the all column names of each tables are same. If so, then the column names are printed!"
   ]
  },
  {
   "cell_type": "code",
   "execution_count": 4,
   "id": "e0660f31",
   "metadata": {
    "execution": {
     "iopub.execute_input": "2021-06-13T14:00:47.145323Z",
     "iopub.status.busy": "2021-06-13T14:00:47.144056Z",
     "iopub.status.idle": "2021-06-13T14:00:47.166355Z",
     "shell.execute_reply": "2021-06-13T14:00:47.164839Z"
    },
    "papermill": {
     "duration": 0.072902,
     "end_time": "2021-06-13T14:00:47.166496",
     "exception": false,
     "start_time": "2021-06-13T14:00:47.093594",
     "status": "completed"
    },
    "tags": []
   },
   "outputs": [
    {
     "data": {
      "text/html": [
       "'All tables have same column names!'"
      ],
      "text/latex": [
       "'All tables have same column names!'"
      ],
      "text/markdown": [
       "'All tables have same column names!'"
      ],
      "text/plain": [
       "[1] \"All tables have same column names!\""
      ]
     },
     "metadata": {},
     "output_type": "display_data"
    },
    {
     "data": {
      "text/html": [
       "<style>\n",
       ".list-inline {list-style: none; margin:0; padding: 0}\n",
       ".list-inline>li {display: inline-block}\n",
       ".list-inline>li:not(:last-child)::after {content: \"\\00b7\"; padding: 0 .5ex}\n",
       "</style>\n",
       "<ol class=list-inline><li>'ride_id'</li><li>'rideable_type'</li><li>'started_at'</li><li>'ended_at'</li><li>'start_station_name'</li><li>'start_station_id'</li><li>'end_station_name'</li><li>'end_station_id'</li><li>'start_lat'</li><li>'start_lng'</li><li>'end_lat'</li><li>'end_lng'</li><li>'member_casual'</li></ol>\n"
      ],
      "text/latex": [
       "\\begin{enumerate*}\n",
       "\\item 'ride\\_id'\n",
       "\\item 'rideable\\_type'\n",
       "\\item 'started\\_at'\n",
       "\\item 'ended\\_at'\n",
       "\\item 'start\\_station\\_name'\n",
       "\\item 'start\\_station\\_id'\n",
       "\\item 'end\\_station\\_name'\n",
       "\\item 'end\\_station\\_id'\n",
       "\\item 'start\\_lat'\n",
       "\\item 'start\\_lng'\n",
       "\\item 'end\\_lat'\n",
       "\\item 'end\\_lng'\n",
       "\\item 'member\\_casual'\n",
       "\\end{enumerate*}\n"
      ],
      "text/markdown": [
       "1. 'ride_id'\n",
       "2. 'rideable_type'\n",
       "3. 'started_at'\n",
       "4. 'ended_at'\n",
       "5. 'start_station_name'\n",
       "6. 'start_station_id'\n",
       "7. 'end_station_name'\n",
       "8. 'end_station_id'\n",
       "9. 'start_lat'\n",
       "10. 'start_lng'\n",
       "11. 'end_lat'\n",
       "12. 'end_lng'\n",
       "13. 'member_casual'\n",
       "\n",
       "\n"
      ],
      "text/plain": [
       " [1] \"ride_id\"            \"rideable_type\"      \"started_at\"        \n",
       " [4] \"ended_at\"           \"start_station_name\" \"start_station_id\"  \n",
       " [7] \"end_station_name\"   \"end_station_id\"     \"start_lat\"         \n",
       "[10] \"start_lng\"          \"end_lat\"            \"end_lng\"           \n",
       "[13] \"member_casual\"     "
      ]
     },
     "metadata": {},
     "output_type": "display_data"
    }
   ],
   "source": [
    "if(colnames(apr20)==colnames(may20) && colnames(jun20)==colnames(jul20) && colnames(aug20)==colnames(sept20)&&colnames(oct20)==colnames(nov20)&&colnames(dec20)==colnames(jan21)&&colnames(feb21)==colnames(mar21))\n",
    "    {    return(\"All tables have same column names!\")  }\n",
    "\n",
    "colnames(apr20)"
   ]
  },
  {
   "cell_type": "markdown",
   "id": "ccd08e48",
   "metadata": {
    "papermill": {
     "duration": 0.048166,
     "end_time": "2021-06-13T14:00:47.262573",
     "exception": false,
     "start_time": "2021-06-13T14:00:47.214407",
     "status": "completed"
    },
    "tags": []
   },
   "source": [
    "### Printing the first few rows"
   ]
  },
  {
   "cell_type": "code",
   "execution_count": 5,
   "id": "d6b6a36c",
   "metadata": {
    "execution": {
     "iopub.execute_input": "2021-06-13T14:00:47.364500Z",
     "iopub.status.busy": "2021-06-13T14:00:47.362760Z",
     "iopub.status.idle": "2021-06-13T14:00:47.671557Z",
     "shell.execute_reply": "2021-06-13T14:00:47.669994Z"
    },
    "papermill": {
     "duration": 0.360649,
     "end_time": "2021-06-13T14:00:47.671702",
     "exception": false,
     "start_time": "2021-06-13T14:00:47.311053",
     "status": "completed"
    },
    "tags": []
   },
   "outputs": [
    {
     "name": "stdout",
     "output_type": "stream",
     "text": [
      "[1] \"April 2020\"\n"
     ]
    },
    {
     "data": {
      "text/html": [
       "<table class=\"dataframe\">\n",
       "<caption>A tibble: 6 × 13</caption>\n",
       "<thead>\n",
       "\t<tr><th scope=col>ride_id</th><th scope=col>rideable_type</th><th scope=col>started_at</th><th scope=col>ended_at</th><th scope=col>start_station_name</th><th scope=col>start_station_id</th><th scope=col>end_station_name</th><th scope=col>end_station_id</th><th scope=col>start_lat</th><th scope=col>start_lng</th><th scope=col>end_lat</th><th scope=col>end_lng</th><th scope=col>member_casual</th></tr>\n",
       "\t<tr><th scope=col>&lt;chr&gt;</th><th scope=col>&lt;chr&gt;</th><th scope=col>&lt;dttm&gt;</th><th scope=col>&lt;dttm&gt;</th><th scope=col>&lt;chr&gt;</th><th scope=col>&lt;dbl&gt;</th><th scope=col>&lt;chr&gt;</th><th scope=col>&lt;dbl&gt;</th><th scope=col>&lt;dbl&gt;</th><th scope=col>&lt;dbl&gt;</th><th scope=col>&lt;dbl&gt;</th><th scope=col>&lt;dbl&gt;</th><th scope=col>&lt;chr&gt;</th></tr>\n",
       "</thead>\n",
       "<tbody>\n",
       "\t<tr><td>A847FADBBC638E45</td><td>docked_bike</td><td>2020-04-26 17:45:14</td><td>2020-04-26 18:12:03</td><td><span style=white-space:pre-wrap>Eckhart Park                       </span></td><td> 86</td><td>Lincoln Ave &amp; Diversey Pkwy</td><td>152</td><td>41.8964</td><td>-87.6610</td><td>41.9322</td><td>-87.6586</td><td>member</td></tr>\n",
       "\t<tr><td>5405B80E996FF60D</td><td>docked_bike</td><td>2020-04-17 17:08:54</td><td>2020-04-17 17:17:03</td><td><span style=white-space:pre-wrap>Drake Ave &amp; Fullerton Ave          </span></td><td>503</td><td><span style=white-space:pre-wrap>Kosciuszko Park            </span></td><td>499</td><td>41.9244</td><td>-87.7154</td><td>41.9306</td><td>-87.7238</td><td>member</td></tr>\n",
       "\t<tr><td>5DD24A79A4E006F4</td><td>docked_bike</td><td>2020-04-01 17:54:13</td><td>2020-04-01 18:08:36</td><td><span style=white-space:pre-wrap>McClurg Ct &amp; Erie St               </span></td><td>142</td><td>Indiana Ave &amp; Roosevelt Rd </td><td>255</td><td>41.8945</td><td>-87.6179</td><td>41.8679</td><td>-87.6230</td><td>member</td></tr>\n",
       "\t<tr><td>2A59BBDF5CDBA725</td><td>docked_bike</td><td>2020-04-07 12:50:19</td><td>2020-04-07 13:02:31</td><td><span style=white-space:pre-wrap>California Ave &amp; Division St       </span></td><td>216</td><td><span style=white-space:pre-wrap>Wood St &amp; Augusta Blvd     </span></td><td>657</td><td>41.9030</td><td>-87.6975</td><td>41.8992</td><td>-87.6722</td><td>member</td></tr>\n",
       "\t<tr><td>27AD306C119C6158</td><td>docked_bike</td><td>2020-04-18 10:22:59</td><td>2020-04-18 11:15:54</td><td><span style=white-space:pre-wrap>Rush St &amp; Hubbard St               </span></td><td>125</td><td>Sheridan Rd &amp; Lawrence Ave </td><td>323</td><td>41.8902</td><td>-87.6262</td><td>41.9695</td><td>-87.6547</td><td>casual</td></tr>\n",
       "\t<tr><td>356216E875132F61</td><td>docked_bike</td><td>2020-04-30 17:55:47</td><td>2020-04-30 18:01:11</td><td>Mies van der Rohe Way &amp; Chicago Ave</td><td>173</td><td><span style=white-space:pre-wrap>Streeter Dr &amp; Grand Ave    </span></td><td> 35</td><td>41.8969</td><td>-87.6217</td><td>41.8923</td><td>-87.6120</td><td>member</td></tr>\n",
       "</tbody>\n",
       "</table>\n"
      ],
      "text/latex": [
       "A tibble: 6 × 13\n",
       "\\begin{tabular}{lllllllllllll}\n",
       " ride\\_id & rideable\\_type & started\\_at & ended\\_at & start\\_station\\_name & start\\_station\\_id & end\\_station\\_name & end\\_station\\_id & start\\_lat & start\\_lng & end\\_lat & end\\_lng & member\\_casual\\\\\n",
       " <chr> & <chr> & <dttm> & <dttm> & <chr> & <dbl> & <chr> & <dbl> & <dbl> & <dbl> & <dbl> & <dbl> & <chr>\\\\\n",
       "\\hline\n",
       "\t A847FADBBC638E45 & docked\\_bike & 2020-04-26 17:45:14 & 2020-04-26 18:12:03 & Eckhart Park                        &  86 & Lincoln Ave \\& Diversey Pkwy & 152 & 41.8964 & -87.6610 & 41.9322 & -87.6586 & member\\\\\n",
       "\t 5405B80E996FF60D & docked\\_bike & 2020-04-17 17:08:54 & 2020-04-17 17:17:03 & Drake Ave \\& Fullerton Ave           & 503 & Kosciuszko Park             & 499 & 41.9244 & -87.7154 & 41.9306 & -87.7238 & member\\\\\n",
       "\t 5DD24A79A4E006F4 & docked\\_bike & 2020-04-01 17:54:13 & 2020-04-01 18:08:36 & McClurg Ct \\& Erie St                & 142 & Indiana Ave \\& Roosevelt Rd  & 255 & 41.8945 & -87.6179 & 41.8679 & -87.6230 & member\\\\\n",
       "\t 2A59BBDF5CDBA725 & docked\\_bike & 2020-04-07 12:50:19 & 2020-04-07 13:02:31 & California Ave \\& Division St        & 216 & Wood St \\& Augusta Blvd      & 657 & 41.9030 & -87.6975 & 41.8992 & -87.6722 & member\\\\\n",
       "\t 27AD306C119C6158 & docked\\_bike & 2020-04-18 10:22:59 & 2020-04-18 11:15:54 & Rush St \\& Hubbard St                & 125 & Sheridan Rd \\& Lawrence Ave  & 323 & 41.8902 & -87.6262 & 41.9695 & -87.6547 & casual\\\\\n",
       "\t 356216E875132F61 & docked\\_bike & 2020-04-30 17:55:47 & 2020-04-30 18:01:11 & Mies van der Rohe Way \\& Chicago Ave & 173 & Streeter Dr \\& Grand Ave     &  35 & 41.8969 & -87.6217 & 41.8923 & -87.6120 & member\\\\\n",
       "\\end{tabular}\n"
      ],
      "text/markdown": [
       "\n",
       "A tibble: 6 × 13\n",
       "\n",
       "| ride_id &lt;chr&gt; | rideable_type &lt;chr&gt; | started_at &lt;dttm&gt; | ended_at &lt;dttm&gt; | start_station_name &lt;chr&gt; | start_station_id &lt;dbl&gt; | end_station_name &lt;chr&gt; | end_station_id &lt;dbl&gt; | start_lat &lt;dbl&gt; | start_lng &lt;dbl&gt; | end_lat &lt;dbl&gt; | end_lng &lt;dbl&gt; | member_casual &lt;chr&gt; |\n",
       "|---|---|---|---|---|---|---|---|---|---|---|---|---|\n",
       "| A847FADBBC638E45 | docked_bike | 2020-04-26 17:45:14 | 2020-04-26 18:12:03 | Eckhart Park                        |  86 | Lincoln Ave &amp; Diversey Pkwy | 152 | 41.8964 | -87.6610 | 41.9322 | -87.6586 | member |\n",
       "| 5405B80E996FF60D | docked_bike | 2020-04-17 17:08:54 | 2020-04-17 17:17:03 | Drake Ave &amp; Fullerton Ave           | 503 | Kosciuszko Park             | 499 | 41.9244 | -87.7154 | 41.9306 | -87.7238 | member |\n",
       "| 5DD24A79A4E006F4 | docked_bike | 2020-04-01 17:54:13 | 2020-04-01 18:08:36 | McClurg Ct &amp; Erie St                | 142 | Indiana Ave &amp; Roosevelt Rd  | 255 | 41.8945 | -87.6179 | 41.8679 | -87.6230 | member |\n",
       "| 2A59BBDF5CDBA725 | docked_bike | 2020-04-07 12:50:19 | 2020-04-07 13:02:31 | California Ave &amp; Division St        | 216 | Wood St &amp; Augusta Blvd      | 657 | 41.9030 | -87.6975 | 41.8992 | -87.6722 | member |\n",
       "| 27AD306C119C6158 | docked_bike | 2020-04-18 10:22:59 | 2020-04-18 11:15:54 | Rush St &amp; Hubbard St                | 125 | Sheridan Rd &amp; Lawrence Ave  | 323 | 41.8902 | -87.6262 | 41.9695 | -87.6547 | casual |\n",
       "| 356216E875132F61 | docked_bike | 2020-04-30 17:55:47 | 2020-04-30 18:01:11 | Mies van der Rohe Way &amp; Chicago Ave | 173 | Streeter Dr &amp; Grand Ave     |  35 | 41.8969 | -87.6217 | 41.8923 | -87.6120 | member |\n",
       "\n"
      ],
      "text/plain": [
       "  ride_id          rideable_type started_at          ended_at           \n",
       "1 A847FADBBC638E45 docked_bike   2020-04-26 17:45:14 2020-04-26 18:12:03\n",
       "2 5405B80E996FF60D docked_bike   2020-04-17 17:08:54 2020-04-17 17:17:03\n",
       "3 5DD24A79A4E006F4 docked_bike   2020-04-01 17:54:13 2020-04-01 18:08:36\n",
       "4 2A59BBDF5CDBA725 docked_bike   2020-04-07 12:50:19 2020-04-07 13:02:31\n",
       "5 27AD306C119C6158 docked_bike   2020-04-18 10:22:59 2020-04-18 11:15:54\n",
       "6 356216E875132F61 docked_bike   2020-04-30 17:55:47 2020-04-30 18:01:11\n",
       "  start_station_name                  start_station_id\n",
       "1 Eckhart Park                         86             \n",
       "2 Drake Ave & Fullerton Ave           503             \n",
       "3 McClurg Ct & Erie St                142             \n",
       "4 California Ave & Division St        216             \n",
       "5 Rush St & Hubbard St                125             \n",
       "6 Mies van der Rohe Way & Chicago Ave 173             \n",
       "  end_station_name            end_station_id start_lat start_lng end_lat\n",
       "1 Lincoln Ave & Diversey Pkwy 152            41.8964   -87.6610  41.9322\n",
       "2 Kosciuszko Park             499            41.9244   -87.7154  41.9306\n",
       "3 Indiana Ave & Roosevelt Rd  255            41.8945   -87.6179  41.8679\n",
       "4 Wood St & Augusta Blvd      657            41.9030   -87.6975  41.8992\n",
       "5 Sheridan Rd & Lawrence Ave  323            41.8902   -87.6262  41.9695\n",
       "6 Streeter Dr & Grand Ave      35            41.8969   -87.6217  41.8923\n",
       "  end_lng  member_casual\n",
       "1 -87.6586 member       \n",
       "2 -87.7238 member       \n",
       "3 -87.6230 member       \n",
       "4 -87.6722 member       \n",
       "5 -87.6547 casual       \n",
       "6 -87.6120 member       "
      ]
     },
     "metadata": {},
     "output_type": "display_data"
    },
    {
     "name": "stdout",
     "output_type": "stream",
     "text": [
      "[1] \"May 2020\"\n"
     ]
    },
    {
     "data": {
      "text/html": [
       "<table class=\"dataframe\">\n",
       "<caption>A tibble: 6 × 13</caption>\n",
       "<thead>\n",
       "\t<tr><th scope=col>ride_id</th><th scope=col>rideable_type</th><th scope=col>started_at</th><th scope=col>ended_at</th><th scope=col>start_station_name</th><th scope=col>start_station_id</th><th scope=col>end_station_name</th><th scope=col>end_station_id</th><th scope=col>start_lat</th><th scope=col>start_lng</th><th scope=col>end_lat</th><th scope=col>end_lng</th><th scope=col>member_casual</th></tr>\n",
       "\t<tr><th scope=col>&lt;chr&gt;</th><th scope=col>&lt;chr&gt;</th><th scope=col>&lt;dttm&gt;</th><th scope=col>&lt;dttm&gt;</th><th scope=col>&lt;chr&gt;</th><th scope=col>&lt;dbl&gt;</th><th scope=col>&lt;chr&gt;</th><th scope=col>&lt;dbl&gt;</th><th scope=col>&lt;dbl&gt;</th><th scope=col>&lt;dbl&gt;</th><th scope=col>&lt;dbl&gt;</th><th scope=col>&lt;dbl&gt;</th><th scope=col>&lt;chr&gt;</th></tr>\n",
       "</thead>\n",
       "<tbody>\n",
       "\t<tr><td>02668AD35674B983</td><td>docked_bike</td><td>2020-05-27 10:03:52</td><td>2020-05-27 10:16:49</td><td>Franklin St &amp; Jackson Blvd</td><td> 36</td><td><span style=white-space:pre-wrap>Wabash Ave &amp; Grand Ave        </span></td><td>199</td><td>41.8777</td><td>-87.6353</td><td>41.8915</td><td>-87.6268</td><td>member</td></tr>\n",
       "\t<tr><td>7A50CCAF1EDDB28F</td><td>docked_bike</td><td>2020-05-25 10:47:11</td><td>2020-05-25 11:05:40</td><td>Clark St &amp; Wrightwood Ave </td><td>340</td><td><span style=white-space:pre-wrap>Clark St &amp; Leland Ave         </span></td><td>326</td><td>41.9295</td><td>-87.6431</td><td>41.9671</td><td>-87.6674</td><td>casual</td></tr>\n",
       "\t<tr><td>2FFCDFDB91FE9A52</td><td>docked_bike</td><td>2020-05-02 14:11:03</td><td>2020-05-02 15:48:21</td><td>Kedzie Ave &amp; Milwaukee Ave</td><td>260</td><td><span style=white-space:pre-wrap>Kedzie Ave &amp; Milwaukee Ave    </span></td><td>260</td><td>41.9296</td><td>-87.7079</td><td>41.9296</td><td>-87.7079</td><td>casual</td></tr>\n",
       "\t<tr><td>58991CF1DB75BA84</td><td>docked_bike</td><td>2020-05-02 16:25:36</td><td>2020-05-02 16:39:28</td><td>Clarendon Ave &amp; Leland Ave</td><td>251</td><td>Lake Shore Dr &amp; Wellington Ave</td><td>157</td><td>41.9680</td><td>-87.6500</td><td>41.9367</td><td>-87.6368</td><td>casual</td></tr>\n",
       "\t<tr><td>A79651EFECC268CD</td><td>docked_bike</td><td>2020-05-29 12:49:54</td><td>2020-05-29 13:27:11</td><td><span style=white-space:pre-wrap>Hermitage Ave &amp; Polk St   </span></td><td>261</td><td><span style=white-space:pre-wrap>Halsted St &amp; Archer Ave       </span></td><td>206</td><td>41.8715</td><td>-87.6699</td><td>41.8472</td><td>-87.6468</td><td>member</td></tr>\n",
       "\t<tr><td>1466C5B39F68F746</td><td>docked_bike</td><td>2020-05-29 13:27:24</td><td>2020-05-29 14:14:45</td><td><span style=white-space:pre-wrap>Halsted St &amp; Archer Ave   </span></td><td>206</td><td><span style=white-space:pre-wrap>May St &amp; Taylor St            </span></td><td> 22</td><td>41.8472</td><td>-87.6468</td><td>41.8695</td><td>-87.6555</td><td>member</td></tr>\n",
       "</tbody>\n",
       "</table>\n"
      ],
      "text/latex": [
       "A tibble: 6 × 13\n",
       "\\begin{tabular}{lllllllllllll}\n",
       " ride\\_id & rideable\\_type & started\\_at & ended\\_at & start\\_station\\_name & start\\_station\\_id & end\\_station\\_name & end\\_station\\_id & start\\_lat & start\\_lng & end\\_lat & end\\_lng & member\\_casual\\\\\n",
       " <chr> & <chr> & <dttm> & <dttm> & <chr> & <dbl> & <chr> & <dbl> & <dbl> & <dbl> & <dbl> & <dbl> & <chr>\\\\\n",
       "\\hline\n",
       "\t 02668AD35674B983 & docked\\_bike & 2020-05-27 10:03:52 & 2020-05-27 10:16:49 & Franklin St \\& Jackson Blvd &  36 & Wabash Ave \\& Grand Ave         & 199 & 41.8777 & -87.6353 & 41.8915 & -87.6268 & member\\\\\n",
       "\t 7A50CCAF1EDDB28F & docked\\_bike & 2020-05-25 10:47:11 & 2020-05-25 11:05:40 & Clark St \\& Wrightwood Ave  & 340 & Clark St \\& Leland Ave          & 326 & 41.9295 & -87.6431 & 41.9671 & -87.6674 & casual\\\\\n",
       "\t 2FFCDFDB91FE9A52 & docked\\_bike & 2020-05-02 14:11:03 & 2020-05-02 15:48:21 & Kedzie Ave \\& Milwaukee Ave & 260 & Kedzie Ave \\& Milwaukee Ave     & 260 & 41.9296 & -87.7079 & 41.9296 & -87.7079 & casual\\\\\n",
       "\t 58991CF1DB75BA84 & docked\\_bike & 2020-05-02 16:25:36 & 2020-05-02 16:39:28 & Clarendon Ave \\& Leland Ave & 251 & Lake Shore Dr \\& Wellington Ave & 157 & 41.9680 & -87.6500 & 41.9367 & -87.6368 & casual\\\\\n",
       "\t A79651EFECC268CD & docked\\_bike & 2020-05-29 12:49:54 & 2020-05-29 13:27:11 & Hermitage Ave \\& Polk St    & 261 & Halsted St \\& Archer Ave        & 206 & 41.8715 & -87.6699 & 41.8472 & -87.6468 & member\\\\\n",
       "\t 1466C5B39F68F746 & docked\\_bike & 2020-05-29 13:27:24 & 2020-05-29 14:14:45 & Halsted St \\& Archer Ave    & 206 & May St \\& Taylor St             &  22 & 41.8472 & -87.6468 & 41.8695 & -87.6555 & member\\\\\n",
       "\\end{tabular}\n"
      ],
      "text/markdown": [
       "\n",
       "A tibble: 6 × 13\n",
       "\n",
       "| ride_id &lt;chr&gt; | rideable_type &lt;chr&gt; | started_at &lt;dttm&gt; | ended_at &lt;dttm&gt; | start_station_name &lt;chr&gt; | start_station_id &lt;dbl&gt; | end_station_name &lt;chr&gt; | end_station_id &lt;dbl&gt; | start_lat &lt;dbl&gt; | start_lng &lt;dbl&gt; | end_lat &lt;dbl&gt; | end_lng &lt;dbl&gt; | member_casual &lt;chr&gt; |\n",
       "|---|---|---|---|---|---|---|---|---|---|---|---|---|\n",
       "| 02668AD35674B983 | docked_bike | 2020-05-27 10:03:52 | 2020-05-27 10:16:49 | Franklin St &amp; Jackson Blvd |  36 | Wabash Ave &amp; Grand Ave         | 199 | 41.8777 | -87.6353 | 41.8915 | -87.6268 | member |\n",
       "| 7A50CCAF1EDDB28F | docked_bike | 2020-05-25 10:47:11 | 2020-05-25 11:05:40 | Clark St &amp; Wrightwood Ave  | 340 | Clark St &amp; Leland Ave          | 326 | 41.9295 | -87.6431 | 41.9671 | -87.6674 | casual |\n",
       "| 2FFCDFDB91FE9A52 | docked_bike | 2020-05-02 14:11:03 | 2020-05-02 15:48:21 | Kedzie Ave &amp; Milwaukee Ave | 260 | Kedzie Ave &amp; Milwaukee Ave     | 260 | 41.9296 | -87.7079 | 41.9296 | -87.7079 | casual |\n",
       "| 58991CF1DB75BA84 | docked_bike | 2020-05-02 16:25:36 | 2020-05-02 16:39:28 | Clarendon Ave &amp; Leland Ave | 251 | Lake Shore Dr &amp; Wellington Ave | 157 | 41.9680 | -87.6500 | 41.9367 | -87.6368 | casual |\n",
       "| A79651EFECC268CD | docked_bike | 2020-05-29 12:49:54 | 2020-05-29 13:27:11 | Hermitage Ave &amp; Polk St    | 261 | Halsted St &amp; Archer Ave        | 206 | 41.8715 | -87.6699 | 41.8472 | -87.6468 | member |\n",
       "| 1466C5B39F68F746 | docked_bike | 2020-05-29 13:27:24 | 2020-05-29 14:14:45 | Halsted St &amp; Archer Ave    | 206 | May St &amp; Taylor St             |  22 | 41.8472 | -87.6468 | 41.8695 | -87.6555 | member |\n",
       "\n"
      ],
      "text/plain": [
       "  ride_id          rideable_type started_at          ended_at           \n",
       "1 02668AD35674B983 docked_bike   2020-05-27 10:03:52 2020-05-27 10:16:49\n",
       "2 7A50CCAF1EDDB28F docked_bike   2020-05-25 10:47:11 2020-05-25 11:05:40\n",
       "3 2FFCDFDB91FE9A52 docked_bike   2020-05-02 14:11:03 2020-05-02 15:48:21\n",
       "4 58991CF1DB75BA84 docked_bike   2020-05-02 16:25:36 2020-05-02 16:39:28\n",
       "5 A79651EFECC268CD docked_bike   2020-05-29 12:49:54 2020-05-29 13:27:11\n",
       "6 1466C5B39F68F746 docked_bike   2020-05-29 13:27:24 2020-05-29 14:14:45\n",
       "  start_station_name         start_station_id end_station_name              \n",
       "1 Franklin St & Jackson Blvd  36              Wabash Ave & Grand Ave        \n",
       "2 Clark St & Wrightwood Ave  340              Clark St & Leland Ave         \n",
       "3 Kedzie Ave & Milwaukee Ave 260              Kedzie Ave & Milwaukee Ave    \n",
       "4 Clarendon Ave & Leland Ave 251              Lake Shore Dr & Wellington Ave\n",
       "5 Hermitage Ave & Polk St    261              Halsted St & Archer Ave       \n",
       "6 Halsted St & Archer Ave    206              May St & Taylor St            \n",
       "  end_station_id start_lat start_lng end_lat end_lng  member_casual\n",
       "1 199            41.8777   -87.6353  41.8915 -87.6268 member       \n",
       "2 326            41.9295   -87.6431  41.9671 -87.6674 casual       \n",
       "3 260            41.9296   -87.7079  41.9296 -87.7079 casual       \n",
       "4 157            41.9680   -87.6500  41.9367 -87.6368 casual       \n",
       "5 206            41.8715   -87.6699  41.8472 -87.6468 member       \n",
       "6  22            41.8472   -87.6468  41.8695 -87.6555 member       "
      ]
     },
     "metadata": {},
     "output_type": "display_data"
    },
    {
     "name": "stdout",
     "output_type": "stream",
     "text": [
      "[1] \"June 2020\"\n"
     ]
    },
    {
     "data": {
      "text/html": [
       "<table class=\"dataframe\">\n",
       "<caption>A tibble: 6 × 13</caption>\n",
       "<thead>\n",
       "\t<tr><th scope=col>ride_id</th><th scope=col>rideable_type</th><th scope=col>started_at</th><th scope=col>ended_at</th><th scope=col>start_station_name</th><th scope=col>start_station_id</th><th scope=col>end_station_name</th><th scope=col>end_station_id</th><th scope=col>start_lat</th><th scope=col>start_lng</th><th scope=col>end_lat</th><th scope=col>end_lng</th><th scope=col>member_casual</th></tr>\n",
       "\t<tr><th scope=col>&lt;chr&gt;</th><th scope=col>&lt;chr&gt;</th><th scope=col>&lt;dttm&gt;</th><th scope=col>&lt;dttm&gt;</th><th scope=col>&lt;chr&gt;</th><th scope=col>&lt;dbl&gt;</th><th scope=col>&lt;chr&gt;</th><th scope=col>&lt;dbl&gt;</th><th scope=col>&lt;dbl&gt;</th><th scope=col>&lt;dbl&gt;</th><th scope=col>&lt;dbl&gt;</th><th scope=col>&lt;dbl&gt;</th><th scope=col>&lt;chr&gt;</th></tr>\n",
       "</thead>\n",
       "<tbody>\n",
       "\t<tr><td>8CD5DE2C2B6C4CFC</td><td>docked_bike</td><td>2020-06-13 23:24:48</td><td>2020-06-13 23:36:55</td><td><span style=white-space:pre-wrap>Wilton Ave &amp; Belmont Ave   </span></td><td>117</td><td>Damen Ave &amp; Clybourn Ave</td><td>163</td><td>41.94018</td><td>-87.65304</td><td>41.93193</td><td>-87.67786</td><td>casual</td></tr>\n",
       "\t<tr><td>9A191EB2C751D85D</td><td>docked_bike</td><td>2020-06-26 07:26:10</td><td>2020-06-26 07:31:58</td><td><span style=white-space:pre-wrap>Federal St &amp; Polk St       </span></td><td> 41</td><td><span style=white-space:pre-wrap>Daley Center Plaza      </span></td><td> 81</td><td>41.87208</td><td>-87.62954</td><td>41.88424</td><td>-87.62963</td><td>member</td></tr>\n",
       "\t<tr><td>F37D14B0B5659BCF</td><td>docked_bike</td><td>2020-06-23 17:12:41</td><td>2020-06-23 17:21:14</td><td><span style=white-space:pre-wrap>Daley Center Plaza         </span></td><td> 81</td><td><span style=white-space:pre-wrap>State St &amp; Harrison St  </span></td><td><span style=white-space:pre-wrap>  5</span></td><td>41.88424</td><td>-87.62963</td><td>41.87405</td><td>-87.62772</td><td>member</td></tr>\n",
       "\t<tr><td>C41237B506E85FA1</td><td>docked_bike</td><td>2020-06-20 01:09:35</td><td>2020-06-20 01:28:24</td><td><span style=white-space:pre-wrap>Broadway &amp; Cornelia Ave    </span></td><td>303</td><td><span style=white-space:pre-wrap>Broadway &amp; Berwyn Ave   </span></td><td>294</td><td>41.94553</td><td>-87.64644</td><td>41.97835</td><td>-87.65975</td><td>casual</td></tr>\n",
       "\t<tr><td>4B51B3B0BDA7787C</td><td>docked_bike</td><td>2020-06-25 16:59:25</td><td>2020-06-25 17:08:48</td><td>Sheffield Ave &amp; Webster Ave</td><td>327</td><td>Wilton Ave &amp; Belmont Ave</td><td>117</td><td>41.92154</td><td>-87.65382</td><td>41.94018</td><td>-87.65304</td><td>casual</td></tr>\n",
       "\t<tr><td>D50DF288196B53BE</td><td>docked_bike</td><td>2020-06-17 18:07:18</td><td>2020-06-17 18:18:14</td><td>Sheffield Ave &amp; Webster Ave</td><td>327</td><td>Wilton Ave &amp; Belmont Ave</td><td>117</td><td>41.92154</td><td>-87.65382</td><td>41.94018</td><td>-87.65304</td><td>casual</td></tr>\n",
       "</tbody>\n",
       "</table>\n"
      ],
      "text/latex": [
       "A tibble: 6 × 13\n",
       "\\begin{tabular}{lllllllllllll}\n",
       " ride\\_id & rideable\\_type & started\\_at & ended\\_at & start\\_station\\_name & start\\_station\\_id & end\\_station\\_name & end\\_station\\_id & start\\_lat & start\\_lng & end\\_lat & end\\_lng & member\\_casual\\\\\n",
       " <chr> & <chr> & <dttm> & <dttm> & <chr> & <dbl> & <chr> & <dbl> & <dbl> & <dbl> & <dbl> & <dbl> & <chr>\\\\\n",
       "\\hline\n",
       "\t 8CD5DE2C2B6C4CFC & docked\\_bike & 2020-06-13 23:24:48 & 2020-06-13 23:36:55 & Wilton Ave \\& Belmont Ave    & 117 & Damen Ave \\& Clybourn Ave & 163 & 41.94018 & -87.65304 & 41.93193 & -87.67786 & casual\\\\\n",
       "\t 9A191EB2C751D85D & docked\\_bike & 2020-06-26 07:26:10 & 2020-06-26 07:31:58 & Federal St \\& Polk St        &  41 & Daley Center Plaza       &  81 & 41.87208 & -87.62954 & 41.88424 & -87.62963 & member\\\\\n",
       "\t F37D14B0B5659BCF & docked\\_bike & 2020-06-23 17:12:41 & 2020-06-23 17:21:14 & Daley Center Plaza          &  81 & State St \\& Harrison St   &   5 & 41.88424 & -87.62963 & 41.87405 & -87.62772 & member\\\\\n",
       "\t C41237B506E85FA1 & docked\\_bike & 2020-06-20 01:09:35 & 2020-06-20 01:28:24 & Broadway \\& Cornelia Ave     & 303 & Broadway \\& Berwyn Ave    & 294 & 41.94553 & -87.64644 & 41.97835 & -87.65975 & casual\\\\\n",
       "\t 4B51B3B0BDA7787C & docked\\_bike & 2020-06-25 16:59:25 & 2020-06-25 17:08:48 & Sheffield Ave \\& Webster Ave & 327 & Wilton Ave \\& Belmont Ave & 117 & 41.92154 & -87.65382 & 41.94018 & -87.65304 & casual\\\\\n",
       "\t D50DF288196B53BE & docked\\_bike & 2020-06-17 18:07:18 & 2020-06-17 18:18:14 & Sheffield Ave \\& Webster Ave & 327 & Wilton Ave \\& Belmont Ave & 117 & 41.92154 & -87.65382 & 41.94018 & -87.65304 & casual\\\\\n",
       "\\end{tabular}\n"
      ],
      "text/markdown": [
       "\n",
       "A tibble: 6 × 13\n",
       "\n",
       "| ride_id &lt;chr&gt; | rideable_type &lt;chr&gt; | started_at &lt;dttm&gt; | ended_at &lt;dttm&gt; | start_station_name &lt;chr&gt; | start_station_id &lt;dbl&gt; | end_station_name &lt;chr&gt; | end_station_id &lt;dbl&gt; | start_lat &lt;dbl&gt; | start_lng &lt;dbl&gt; | end_lat &lt;dbl&gt; | end_lng &lt;dbl&gt; | member_casual &lt;chr&gt; |\n",
       "|---|---|---|---|---|---|---|---|---|---|---|---|---|\n",
       "| 8CD5DE2C2B6C4CFC | docked_bike | 2020-06-13 23:24:48 | 2020-06-13 23:36:55 | Wilton Ave &amp; Belmont Ave    | 117 | Damen Ave &amp; Clybourn Ave | 163 | 41.94018 | -87.65304 | 41.93193 | -87.67786 | casual |\n",
       "| 9A191EB2C751D85D | docked_bike | 2020-06-26 07:26:10 | 2020-06-26 07:31:58 | Federal St &amp; Polk St        |  41 | Daley Center Plaza       |  81 | 41.87208 | -87.62954 | 41.88424 | -87.62963 | member |\n",
       "| F37D14B0B5659BCF | docked_bike | 2020-06-23 17:12:41 | 2020-06-23 17:21:14 | Daley Center Plaza          |  81 | State St &amp; Harrison St   |   5 | 41.88424 | -87.62963 | 41.87405 | -87.62772 | member |\n",
       "| C41237B506E85FA1 | docked_bike | 2020-06-20 01:09:35 | 2020-06-20 01:28:24 | Broadway &amp; Cornelia Ave     | 303 | Broadway &amp; Berwyn Ave    | 294 | 41.94553 | -87.64644 | 41.97835 | -87.65975 | casual |\n",
       "| 4B51B3B0BDA7787C | docked_bike | 2020-06-25 16:59:25 | 2020-06-25 17:08:48 | Sheffield Ave &amp; Webster Ave | 327 | Wilton Ave &amp; Belmont Ave | 117 | 41.92154 | -87.65382 | 41.94018 | -87.65304 | casual |\n",
       "| D50DF288196B53BE | docked_bike | 2020-06-17 18:07:18 | 2020-06-17 18:18:14 | Sheffield Ave &amp; Webster Ave | 327 | Wilton Ave &amp; Belmont Ave | 117 | 41.92154 | -87.65382 | 41.94018 | -87.65304 | casual |\n",
       "\n"
      ],
      "text/plain": [
       "  ride_id          rideable_type started_at          ended_at           \n",
       "1 8CD5DE2C2B6C4CFC docked_bike   2020-06-13 23:24:48 2020-06-13 23:36:55\n",
       "2 9A191EB2C751D85D docked_bike   2020-06-26 07:26:10 2020-06-26 07:31:58\n",
       "3 F37D14B0B5659BCF docked_bike   2020-06-23 17:12:41 2020-06-23 17:21:14\n",
       "4 C41237B506E85FA1 docked_bike   2020-06-20 01:09:35 2020-06-20 01:28:24\n",
       "5 4B51B3B0BDA7787C docked_bike   2020-06-25 16:59:25 2020-06-25 17:08:48\n",
       "6 D50DF288196B53BE docked_bike   2020-06-17 18:07:18 2020-06-17 18:18:14\n",
       "  start_station_name          start_station_id end_station_name        \n",
       "1 Wilton Ave & Belmont Ave    117              Damen Ave & Clybourn Ave\n",
       "2 Federal St & Polk St         41              Daley Center Plaza      \n",
       "3 Daley Center Plaza           81              State St & Harrison St  \n",
       "4 Broadway & Cornelia Ave     303              Broadway & Berwyn Ave   \n",
       "5 Sheffield Ave & Webster Ave 327              Wilton Ave & Belmont Ave\n",
       "6 Sheffield Ave & Webster Ave 327              Wilton Ave & Belmont Ave\n",
       "  end_station_id start_lat start_lng end_lat  end_lng   member_casual\n",
       "1 163            41.94018  -87.65304 41.93193 -87.67786 casual       \n",
       "2  81            41.87208  -87.62954 41.88424 -87.62963 member       \n",
       "3   5            41.88424  -87.62963 41.87405 -87.62772 member       \n",
       "4 294            41.94553  -87.64644 41.97835 -87.65975 casual       \n",
       "5 117            41.92154  -87.65382 41.94018 -87.65304 casual       \n",
       "6 117            41.92154  -87.65382 41.94018 -87.65304 casual       "
      ]
     },
     "metadata": {},
     "output_type": "display_data"
    },
    {
     "name": "stdout",
     "output_type": "stream",
     "text": [
      "[1] \"July 2020\"\n"
     ]
    },
    {
     "data": {
      "text/html": [
       "<table class=\"dataframe\">\n",
       "<caption>A tibble: 6 × 13</caption>\n",
       "<thead>\n",
       "\t<tr><th scope=col>ride_id</th><th scope=col>rideable_type</th><th scope=col>started_at</th><th scope=col>ended_at</th><th scope=col>start_station_name</th><th scope=col>start_station_id</th><th scope=col>end_station_name</th><th scope=col>end_station_id</th><th scope=col>start_lat</th><th scope=col>start_lng</th><th scope=col>end_lat</th><th scope=col>end_lng</th><th scope=col>member_casual</th></tr>\n",
       "\t<tr><th scope=col>&lt;chr&gt;</th><th scope=col>&lt;chr&gt;</th><th scope=col>&lt;dttm&gt;</th><th scope=col>&lt;dttm&gt;</th><th scope=col>&lt;chr&gt;</th><th scope=col>&lt;dbl&gt;</th><th scope=col>&lt;chr&gt;</th><th scope=col>&lt;dbl&gt;</th><th scope=col>&lt;dbl&gt;</th><th scope=col>&lt;dbl&gt;</th><th scope=col>&lt;dbl&gt;</th><th scope=col>&lt;dbl&gt;</th><th scope=col>&lt;chr&gt;</th></tr>\n",
       "</thead>\n",
       "<tbody>\n",
       "\t<tr><td>762198876D69004D</td><td>docked_bike</td><td>2020-07-09 15:22:02</td><td>2020-07-09 15:25:52</td><td><span style=white-space:pre-wrap>Ritchie Ct &amp; Banks St        </span></td><td>180</td><td>Wells St &amp; Evergreen Ave </td><td>291</td><td>41.90687</td><td>-87.62622</td><td>41.90672</td><td>-87.63483</td><td>member</td></tr>\n",
       "\t<tr><td>BEC9C9FBA0D4CF1B</td><td>docked_bike</td><td>2020-07-24 23:56:30</td><td>2020-07-25 00:20:17</td><td><span style=white-space:pre-wrap>Halsted St &amp; Roscoe St       </span></td><td>299</td><td><span style=white-space:pre-wrap>Broadway &amp; Ridge Ave     </span></td><td>461</td><td>41.94367</td><td>-87.64895</td><td>41.98404</td><td>-87.66027</td><td>member</td></tr>\n",
       "\t<tr><td>D2FD8EA432C77EC1</td><td>docked_bike</td><td>2020-07-08 19:49:07</td><td>2020-07-08 19:56:22</td><td>Lake Shore Dr &amp; Diversey Pkwy</td><td>329</td><td>Clark St &amp; Wellington Ave</td><td>156</td><td>41.93259</td><td>-87.63643</td><td>41.93650</td><td>-87.64754</td><td>casual</td></tr>\n",
       "\t<tr><td>54AE594E20B35881</td><td>docked_bike</td><td>2020-07-17 19:06:42</td><td>2020-07-17 19:27:38</td><td><span style=white-space:pre-wrap>LaSalle St &amp; Illinois St     </span></td><td>181</td><td><span style=white-space:pre-wrap>Clark St &amp; Armitage Ave  </span></td><td> 94</td><td>41.89076</td><td>-87.63170</td><td>41.91831</td><td>-87.63628</td><td>casual</td></tr>\n",
       "\t<tr><td>54025FDC7440B56F</td><td>docked_bike</td><td>2020-07-04 10:39:57</td><td>2020-07-04 10:45:05</td><td><span style=white-space:pre-wrap>Lake Shore Dr &amp; North Blvd   </span></td><td>268</td><td><span style=white-space:pre-wrap>Clark St &amp; Schiller St   </span></td><td>301</td><td>41.91172</td><td>-87.62680</td><td>41.90799</td><td>-87.63150</td><td>member</td></tr>\n",
       "\t<tr><td>65636B619E24257F</td><td>docked_bike</td><td>2020-07-28 16:33:03</td><td>2020-07-28 16:49:10</td><td><span style=white-space:pre-wrap>Fairbanks St &amp; Superior St   </span></td><td>635</td><td><span style=white-space:pre-wrap>Wells St &amp; Concord Ln    </span></td><td>289</td><td>41.89575</td><td>-87.62010</td><td>41.91213</td><td>-87.63466</td><td>casual</td></tr>\n",
       "</tbody>\n",
       "</table>\n"
      ],
      "text/latex": [
       "A tibble: 6 × 13\n",
       "\\begin{tabular}{lllllllllllll}\n",
       " ride\\_id & rideable\\_type & started\\_at & ended\\_at & start\\_station\\_name & start\\_station\\_id & end\\_station\\_name & end\\_station\\_id & start\\_lat & start\\_lng & end\\_lat & end\\_lng & member\\_casual\\\\\n",
       " <chr> & <chr> & <dttm> & <dttm> & <chr> & <dbl> & <chr> & <dbl> & <dbl> & <dbl> & <dbl> & <dbl> & <chr>\\\\\n",
       "\\hline\n",
       "\t 762198876D69004D & docked\\_bike & 2020-07-09 15:22:02 & 2020-07-09 15:25:52 & Ritchie Ct \\& Banks St         & 180 & Wells St \\& Evergreen Ave  & 291 & 41.90687 & -87.62622 & 41.90672 & -87.63483 & member\\\\\n",
       "\t BEC9C9FBA0D4CF1B & docked\\_bike & 2020-07-24 23:56:30 & 2020-07-25 00:20:17 & Halsted St \\& Roscoe St        & 299 & Broadway \\& Ridge Ave      & 461 & 41.94367 & -87.64895 & 41.98404 & -87.66027 & member\\\\\n",
       "\t D2FD8EA432C77EC1 & docked\\_bike & 2020-07-08 19:49:07 & 2020-07-08 19:56:22 & Lake Shore Dr \\& Diversey Pkwy & 329 & Clark St \\& Wellington Ave & 156 & 41.93259 & -87.63643 & 41.93650 & -87.64754 & casual\\\\\n",
       "\t 54AE594E20B35881 & docked\\_bike & 2020-07-17 19:06:42 & 2020-07-17 19:27:38 & LaSalle St \\& Illinois St      & 181 & Clark St \\& Armitage Ave   &  94 & 41.89076 & -87.63170 & 41.91831 & -87.63628 & casual\\\\\n",
       "\t 54025FDC7440B56F & docked\\_bike & 2020-07-04 10:39:57 & 2020-07-04 10:45:05 & Lake Shore Dr \\& North Blvd    & 268 & Clark St \\& Schiller St    & 301 & 41.91172 & -87.62680 & 41.90799 & -87.63150 & member\\\\\n",
       "\t 65636B619E24257F & docked\\_bike & 2020-07-28 16:33:03 & 2020-07-28 16:49:10 & Fairbanks St \\& Superior St    & 635 & Wells St \\& Concord Ln     & 289 & 41.89575 & -87.62010 & 41.91213 & -87.63466 & casual\\\\\n",
       "\\end{tabular}\n"
      ],
      "text/markdown": [
       "\n",
       "A tibble: 6 × 13\n",
       "\n",
       "| ride_id &lt;chr&gt; | rideable_type &lt;chr&gt; | started_at &lt;dttm&gt; | ended_at &lt;dttm&gt; | start_station_name &lt;chr&gt; | start_station_id &lt;dbl&gt; | end_station_name &lt;chr&gt; | end_station_id &lt;dbl&gt; | start_lat &lt;dbl&gt; | start_lng &lt;dbl&gt; | end_lat &lt;dbl&gt; | end_lng &lt;dbl&gt; | member_casual &lt;chr&gt; |\n",
       "|---|---|---|---|---|---|---|---|---|---|---|---|---|\n",
       "| 762198876D69004D | docked_bike | 2020-07-09 15:22:02 | 2020-07-09 15:25:52 | Ritchie Ct &amp; Banks St         | 180 | Wells St &amp; Evergreen Ave  | 291 | 41.90687 | -87.62622 | 41.90672 | -87.63483 | member |\n",
       "| BEC9C9FBA0D4CF1B | docked_bike | 2020-07-24 23:56:30 | 2020-07-25 00:20:17 | Halsted St &amp; Roscoe St        | 299 | Broadway &amp; Ridge Ave      | 461 | 41.94367 | -87.64895 | 41.98404 | -87.66027 | member |\n",
       "| D2FD8EA432C77EC1 | docked_bike | 2020-07-08 19:49:07 | 2020-07-08 19:56:22 | Lake Shore Dr &amp; Diversey Pkwy | 329 | Clark St &amp; Wellington Ave | 156 | 41.93259 | -87.63643 | 41.93650 | -87.64754 | casual |\n",
       "| 54AE594E20B35881 | docked_bike | 2020-07-17 19:06:42 | 2020-07-17 19:27:38 | LaSalle St &amp; Illinois St      | 181 | Clark St &amp; Armitage Ave   |  94 | 41.89076 | -87.63170 | 41.91831 | -87.63628 | casual |\n",
       "| 54025FDC7440B56F | docked_bike | 2020-07-04 10:39:57 | 2020-07-04 10:45:05 | Lake Shore Dr &amp; North Blvd    | 268 | Clark St &amp; Schiller St    | 301 | 41.91172 | -87.62680 | 41.90799 | -87.63150 | member |\n",
       "| 65636B619E24257F | docked_bike | 2020-07-28 16:33:03 | 2020-07-28 16:49:10 | Fairbanks St &amp; Superior St    | 635 | Wells St &amp; Concord Ln     | 289 | 41.89575 | -87.62010 | 41.91213 | -87.63466 | casual |\n",
       "\n"
      ],
      "text/plain": [
       "  ride_id          rideable_type started_at          ended_at           \n",
       "1 762198876D69004D docked_bike   2020-07-09 15:22:02 2020-07-09 15:25:52\n",
       "2 BEC9C9FBA0D4CF1B docked_bike   2020-07-24 23:56:30 2020-07-25 00:20:17\n",
       "3 D2FD8EA432C77EC1 docked_bike   2020-07-08 19:49:07 2020-07-08 19:56:22\n",
       "4 54AE594E20B35881 docked_bike   2020-07-17 19:06:42 2020-07-17 19:27:38\n",
       "5 54025FDC7440B56F docked_bike   2020-07-04 10:39:57 2020-07-04 10:45:05\n",
       "6 65636B619E24257F docked_bike   2020-07-28 16:33:03 2020-07-28 16:49:10\n",
       "  start_station_name            start_station_id end_station_name         \n",
       "1 Ritchie Ct & Banks St         180              Wells St & Evergreen Ave \n",
       "2 Halsted St & Roscoe St        299              Broadway & Ridge Ave     \n",
       "3 Lake Shore Dr & Diversey Pkwy 329              Clark St & Wellington Ave\n",
       "4 LaSalle St & Illinois St      181              Clark St & Armitage Ave  \n",
       "5 Lake Shore Dr & North Blvd    268              Clark St & Schiller St   \n",
       "6 Fairbanks St & Superior St    635              Wells St & Concord Ln    \n",
       "  end_station_id start_lat start_lng end_lat  end_lng   member_casual\n",
       "1 291            41.90687  -87.62622 41.90672 -87.63483 member       \n",
       "2 461            41.94367  -87.64895 41.98404 -87.66027 member       \n",
       "3 156            41.93259  -87.63643 41.93650 -87.64754 casual       \n",
       "4  94            41.89076  -87.63170 41.91831 -87.63628 casual       \n",
       "5 301            41.91172  -87.62680 41.90799 -87.63150 member       \n",
       "6 289            41.89575  -87.62010 41.91213 -87.63466 casual       "
      ]
     },
     "metadata": {},
     "output_type": "display_data"
    },
    {
     "name": "stdout",
     "output_type": "stream",
     "text": [
      "[1] \"August 2020\"\n"
     ]
    },
    {
     "data": {
      "text/html": [
       "<table class=\"dataframe\">\n",
       "<caption>A tibble: 6 × 13</caption>\n",
       "<thead>\n",
       "\t<tr><th scope=col>ride_id</th><th scope=col>rideable_type</th><th scope=col>started_at</th><th scope=col>ended_at</th><th scope=col>start_station_name</th><th scope=col>start_station_id</th><th scope=col>end_station_name</th><th scope=col>end_station_id</th><th scope=col>start_lat</th><th scope=col>start_lng</th><th scope=col>end_lat</th><th scope=col>end_lng</th><th scope=col>member_casual</th></tr>\n",
       "\t<tr><th scope=col>&lt;chr&gt;</th><th scope=col>&lt;chr&gt;</th><th scope=col>&lt;dttm&gt;</th><th scope=col>&lt;dttm&gt;</th><th scope=col>&lt;chr&gt;</th><th scope=col>&lt;dbl&gt;</th><th scope=col>&lt;chr&gt;</th><th scope=col>&lt;dbl&gt;</th><th scope=col>&lt;dbl&gt;</th><th scope=col>&lt;dbl&gt;</th><th scope=col>&lt;dbl&gt;</th><th scope=col>&lt;dbl&gt;</th><th scope=col>&lt;chr&gt;</th></tr>\n",
       "</thead>\n",
       "<tbody>\n",
       "\t<tr><td>322BD23D287743ED</td><td><span style=white-space:pre-wrap>docked_bike  </span></td><td>2020-08-20 18:08:14</td><td>2020-08-20 18:17:51</td><td>Lake Shore Dr &amp; Diversey Pkwy</td><td>329</td><td><span style=white-space:pre-wrap>Clark St &amp; Lincoln Ave  </span></td><td>141</td><td>41.93259</td><td>-87.63643</td><td>41.91569</td><td>-87.63460</td><td>member</td></tr>\n",
       "\t<tr><td>2A3AEF1AB9054D8B</td><td>electric_bike</td><td>2020-08-27 18:46:04</td><td>2020-08-27 19:54:51</td><td><span style=white-space:pre-wrap>Michigan Ave &amp; 14th St       </span></td><td>168</td><td><span style=white-space:pre-wrap>Michigan Ave &amp; 14th St  </span></td><td>168</td><td>41.86438</td><td>-87.62368</td><td>41.86422</td><td>-87.62344</td><td>casual</td></tr>\n",
       "\t<tr><td>67DC1D133E8B5816</td><td>electric_bike</td><td>2020-08-26 19:44:14</td><td>2020-08-26 21:53:07</td><td><span style=white-space:pre-wrap>Columbus Dr &amp; Randolph St    </span></td><td>195</td><td><span style=white-space:pre-wrap>State St &amp; Randolph St  </span></td><td> 44</td><td>41.88464</td><td>-87.61955</td><td>41.88497</td><td>-87.62757</td><td>casual</td></tr>\n",
       "\t<tr><td>C79FBBD412E578A7</td><td>electric_bike</td><td>2020-08-27 12:05:41</td><td>2020-08-27 12:53:45</td><td><span style=white-space:pre-wrap>Daley Center Plaza           </span></td><td> 81</td><td><span style=white-space:pre-wrap>State St &amp; Kinzie St    </span></td><td> 47</td><td>41.88409</td><td>-87.62964</td><td>41.88958</td><td>-87.62754</td><td>casual</td></tr>\n",
       "\t<tr><td>13814D3D661ECADB</td><td>electric_bike</td><td>2020-08-27 16:49:02</td><td>2020-08-27 16:59:49</td><td><span style=white-space:pre-wrap>Leavitt St &amp; Division St     </span></td><td>658</td><td>Leavitt St &amp; Division St</td><td>658</td><td>41.90299</td><td>-87.68377</td><td>41.90300</td><td>-87.68384</td><td>casual</td></tr>\n",
       "\t<tr><td>56349A5A42F0AE51</td><td>electric_bike</td><td>2020-08-27 17:26:23</td><td>2020-08-27 18:07:50</td><td><span style=white-space:pre-wrap>Leavitt St &amp; Division St     </span></td><td>658</td><td>Leavitt St &amp; Division St</td><td>658</td><td>41.90302</td><td>-87.68373</td><td>41.90309</td><td>-87.68363</td><td>casual</td></tr>\n",
       "</tbody>\n",
       "</table>\n"
      ],
      "text/latex": [
       "A tibble: 6 × 13\n",
       "\\begin{tabular}{lllllllllllll}\n",
       " ride\\_id & rideable\\_type & started\\_at & ended\\_at & start\\_station\\_name & start\\_station\\_id & end\\_station\\_name & end\\_station\\_id & start\\_lat & start\\_lng & end\\_lat & end\\_lng & member\\_casual\\\\\n",
       " <chr> & <chr> & <dttm> & <dttm> & <chr> & <dbl> & <chr> & <dbl> & <dbl> & <dbl> & <dbl> & <dbl> & <chr>\\\\\n",
       "\\hline\n",
       "\t 322BD23D287743ED & docked\\_bike   & 2020-08-20 18:08:14 & 2020-08-20 18:17:51 & Lake Shore Dr \\& Diversey Pkwy & 329 & Clark St \\& Lincoln Ave   & 141 & 41.93259 & -87.63643 & 41.91569 & -87.63460 & member\\\\\n",
       "\t 2A3AEF1AB9054D8B & electric\\_bike & 2020-08-27 18:46:04 & 2020-08-27 19:54:51 & Michigan Ave \\& 14th St        & 168 & Michigan Ave \\& 14th St   & 168 & 41.86438 & -87.62368 & 41.86422 & -87.62344 & casual\\\\\n",
       "\t 67DC1D133E8B5816 & electric\\_bike & 2020-08-26 19:44:14 & 2020-08-26 21:53:07 & Columbus Dr \\& Randolph St     & 195 & State St \\& Randolph St   &  44 & 41.88464 & -87.61955 & 41.88497 & -87.62757 & casual\\\\\n",
       "\t C79FBBD412E578A7 & electric\\_bike & 2020-08-27 12:05:41 & 2020-08-27 12:53:45 & Daley Center Plaza            &  81 & State St \\& Kinzie St     &  47 & 41.88409 & -87.62964 & 41.88958 & -87.62754 & casual\\\\\n",
       "\t 13814D3D661ECADB & electric\\_bike & 2020-08-27 16:49:02 & 2020-08-27 16:59:49 & Leavitt St \\& Division St      & 658 & Leavitt St \\& Division St & 658 & 41.90299 & -87.68377 & 41.90300 & -87.68384 & casual\\\\\n",
       "\t 56349A5A42F0AE51 & electric\\_bike & 2020-08-27 17:26:23 & 2020-08-27 18:07:50 & Leavitt St \\& Division St      & 658 & Leavitt St \\& Division St & 658 & 41.90302 & -87.68373 & 41.90309 & -87.68363 & casual\\\\\n",
       "\\end{tabular}\n"
      ],
      "text/markdown": [
       "\n",
       "A tibble: 6 × 13\n",
       "\n",
       "| ride_id &lt;chr&gt; | rideable_type &lt;chr&gt; | started_at &lt;dttm&gt; | ended_at &lt;dttm&gt; | start_station_name &lt;chr&gt; | start_station_id &lt;dbl&gt; | end_station_name &lt;chr&gt; | end_station_id &lt;dbl&gt; | start_lat &lt;dbl&gt; | start_lng &lt;dbl&gt; | end_lat &lt;dbl&gt; | end_lng &lt;dbl&gt; | member_casual &lt;chr&gt; |\n",
       "|---|---|---|---|---|---|---|---|---|---|---|---|---|\n",
       "| 322BD23D287743ED | docked_bike   | 2020-08-20 18:08:14 | 2020-08-20 18:17:51 | Lake Shore Dr &amp; Diversey Pkwy | 329 | Clark St &amp; Lincoln Ave   | 141 | 41.93259 | -87.63643 | 41.91569 | -87.63460 | member |\n",
       "| 2A3AEF1AB9054D8B | electric_bike | 2020-08-27 18:46:04 | 2020-08-27 19:54:51 | Michigan Ave &amp; 14th St        | 168 | Michigan Ave &amp; 14th St   | 168 | 41.86438 | -87.62368 | 41.86422 | -87.62344 | casual |\n",
       "| 67DC1D133E8B5816 | electric_bike | 2020-08-26 19:44:14 | 2020-08-26 21:53:07 | Columbus Dr &amp; Randolph St     | 195 | State St &amp; Randolph St   |  44 | 41.88464 | -87.61955 | 41.88497 | -87.62757 | casual |\n",
       "| C79FBBD412E578A7 | electric_bike | 2020-08-27 12:05:41 | 2020-08-27 12:53:45 | Daley Center Plaza            |  81 | State St &amp; Kinzie St     |  47 | 41.88409 | -87.62964 | 41.88958 | -87.62754 | casual |\n",
       "| 13814D3D661ECADB | electric_bike | 2020-08-27 16:49:02 | 2020-08-27 16:59:49 | Leavitt St &amp; Division St      | 658 | Leavitt St &amp; Division St | 658 | 41.90299 | -87.68377 | 41.90300 | -87.68384 | casual |\n",
       "| 56349A5A42F0AE51 | electric_bike | 2020-08-27 17:26:23 | 2020-08-27 18:07:50 | Leavitt St &amp; Division St      | 658 | Leavitt St &amp; Division St | 658 | 41.90302 | -87.68373 | 41.90309 | -87.68363 | casual |\n",
       "\n"
      ],
      "text/plain": [
       "  ride_id          rideable_type started_at          ended_at           \n",
       "1 322BD23D287743ED docked_bike   2020-08-20 18:08:14 2020-08-20 18:17:51\n",
       "2 2A3AEF1AB9054D8B electric_bike 2020-08-27 18:46:04 2020-08-27 19:54:51\n",
       "3 67DC1D133E8B5816 electric_bike 2020-08-26 19:44:14 2020-08-26 21:53:07\n",
       "4 C79FBBD412E578A7 electric_bike 2020-08-27 12:05:41 2020-08-27 12:53:45\n",
       "5 13814D3D661ECADB electric_bike 2020-08-27 16:49:02 2020-08-27 16:59:49\n",
       "6 56349A5A42F0AE51 electric_bike 2020-08-27 17:26:23 2020-08-27 18:07:50\n",
       "  start_station_name            start_station_id end_station_name        \n",
       "1 Lake Shore Dr & Diversey Pkwy 329              Clark St & Lincoln Ave  \n",
       "2 Michigan Ave & 14th St        168              Michigan Ave & 14th St  \n",
       "3 Columbus Dr & Randolph St     195              State St & Randolph St  \n",
       "4 Daley Center Plaza             81              State St & Kinzie St    \n",
       "5 Leavitt St & Division St      658              Leavitt St & Division St\n",
       "6 Leavitt St & Division St      658              Leavitt St & Division St\n",
       "  end_station_id start_lat start_lng end_lat  end_lng   member_casual\n",
       "1 141            41.93259  -87.63643 41.91569 -87.63460 member       \n",
       "2 168            41.86438  -87.62368 41.86422 -87.62344 casual       \n",
       "3  44            41.88464  -87.61955 41.88497 -87.62757 casual       \n",
       "4  47            41.88409  -87.62964 41.88958 -87.62754 casual       \n",
       "5 658            41.90299  -87.68377 41.90300 -87.68384 casual       \n",
       "6 658            41.90302  -87.68373 41.90309 -87.68363 casual       "
      ]
     },
     "metadata": {},
     "output_type": "display_data"
    },
    {
     "name": "stdout",
     "output_type": "stream",
     "text": [
      "[1] \"September 2020\"\n"
     ]
    },
    {
     "data": {
      "text/html": [
       "<table class=\"dataframe\">\n",
       "<caption>A tibble: 6 × 13</caption>\n",
       "<thead>\n",
       "\t<tr><th scope=col>ride_id</th><th scope=col>rideable_type</th><th scope=col>started_at</th><th scope=col>ended_at</th><th scope=col>start_station_name</th><th scope=col>start_station_id</th><th scope=col>end_station_name</th><th scope=col>end_station_id</th><th scope=col>start_lat</th><th scope=col>start_lng</th><th scope=col>end_lat</th><th scope=col>end_lng</th><th scope=col>member_casual</th></tr>\n",
       "\t<tr><th scope=col>&lt;chr&gt;</th><th scope=col>&lt;chr&gt;</th><th scope=col>&lt;dttm&gt;</th><th scope=col>&lt;dttm&gt;</th><th scope=col>&lt;chr&gt;</th><th scope=col>&lt;dbl&gt;</th><th scope=col>&lt;chr&gt;</th><th scope=col>&lt;dbl&gt;</th><th scope=col>&lt;dbl&gt;</th><th scope=col>&lt;dbl&gt;</th><th scope=col>&lt;dbl&gt;</th><th scope=col>&lt;dbl&gt;</th><th scope=col>&lt;chr&gt;</th></tr>\n",
       "</thead>\n",
       "<tbody>\n",
       "\t<tr><td>2B22BD5F95FB2629</td><td>electric_bike</td><td>2020-09-17 14:27:11</td><td>2020-09-17 14:44:24</td><td><span style=white-space:pre-wrap>Michigan Ave &amp; Lake St        </span></td><td> 52</td><td><span style=white-space:pre-wrap>Green St &amp; Randolph St    </span></td><td>112</td><td>41.88669</td><td>-87.62356</td><td>41.88357</td><td>-87.64873</td><td>casual</td></tr>\n",
       "\t<tr><td>A7FB70B4AFC6CAF2</td><td>electric_bike</td><td>2020-09-17 15:07:31</td><td>2020-09-17 15:07:45</td><td><span style=white-space:pre-wrap>W Oakdale Ave &amp; N Broadway    </span></td><td> NA</td><td>W Oakdale Ave &amp; N Broadway</td><td> NA</td><td>41.94000</td><td>-87.64000</td><td>41.94000</td><td>-87.64000</td><td>casual</td></tr>\n",
       "\t<tr><td>86057FA01BAC778E</td><td>electric_bike</td><td>2020-09-17 15:09:04</td><td>2020-09-17 15:09:35</td><td><span style=white-space:pre-wrap>W Oakdale Ave &amp; N Broadway    </span></td><td> NA</td><td>W Oakdale Ave &amp; N Broadway</td><td> NA</td><td>41.94000</td><td>-87.64000</td><td>41.94000</td><td>-87.64000</td><td>casual</td></tr>\n",
       "\t<tr><td>57F6DC9A153DB98C</td><td>electric_bike</td><td>2020-09-17 18:10:46</td><td>2020-09-17 18:35:49</td><td>Ashland Ave &amp; Belle Plaine Ave</td><td>246</td><td><span style=white-space:pre-wrap>Montrose Harbor           </span></td><td>249</td><td>41.95606</td><td>-87.66892</td><td>41.96398</td><td>-87.63822</td><td>casual</td></tr>\n",
       "\t<tr><td>B9C4712F78C1AE68</td><td>electric_bike</td><td>2020-09-17 15:16:13</td><td>2020-09-17 15:52:55</td><td><span style=white-space:pre-wrap>Fairbanks Ct &amp; Grand Ave      </span></td><td> 24</td><td><span style=white-space:pre-wrap>Fairbanks Ct &amp; Grand Ave  </span></td><td> 24</td><td>41.89186</td><td>-87.62101</td><td>41.89135</td><td>-87.62032</td><td>casual</td></tr>\n",
       "\t<tr><td>378BBCE1E444EB80</td><td>electric_bike</td><td>2020-09-17 18:37:04</td><td>2020-09-17 19:23:28</td><td><span style=white-space:pre-wrap>Clark St &amp; Armitage Ave       </span></td><td> 94</td><td><span style=white-space:pre-wrap>NA                        </span></td><td> NA</td><td>41.91826</td><td>-87.63636</td><td>41.88000</td><td>-87.62000</td><td>casual</td></tr>\n",
       "</tbody>\n",
       "</table>\n"
      ],
      "text/latex": [
       "A tibble: 6 × 13\n",
       "\\begin{tabular}{lllllllllllll}\n",
       " ride\\_id & rideable\\_type & started\\_at & ended\\_at & start\\_station\\_name & start\\_station\\_id & end\\_station\\_name & end\\_station\\_id & start\\_lat & start\\_lng & end\\_lat & end\\_lng & member\\_casual\\\\\n",
       " <chr> & <chr> & <dttm> & <dttm> & <chr> & <dbl> & <chr> & <dbl> & <dbl> & <dbl> & <dbl> & <dbl> & <chr>\\\\\n",
       "\\hline\n",
       "\t 2B22BD5F95FB2629 & electric\\_bike & 2020-09-17 14:27:11 & 2020-09-17 14:44:24 & Michigan Ave \\& Lake St         &  52 & Green St \\& Randolph St     & 112 & 41.88669 & -87.62356 & 41.88357 & -87.64873 & casual\\\\\n",
       "\t A7FB70B4AFC6CAF2 & electric\\_bike & 2020-09-17 15:07:31 & 2020-09-17 15:07:45 & W Oakdale Ave \\& N Broadway     &  NA & W Oakdale Ave \\& N Broadway &  NA & 41.94000 & -87.64000 & 41.94000 & -87.64000 & casual\\\\\n",
       "\t 86057FA01BAC778E & electric\\_bike & 2020-09-17 15:09:04 & 2020-09-17 15:09:35 & W Oakdale Ave \\& N Broadway     &  NA & W Oakdale Ave \\& N Broadway &  NA & 41.94000 & -87.64000 & 41.94000 & -87.64000 & casual\\\\\n",
       "\t 57F6DC9A153DB98C & electric\\_bike & 2020-09-17 18:10:46 & 2020-09-17 18:35:49 & Ashland Ave \\& Belle Plaine Ave & 246 & Montrose Harbor            & 249 & 41.95606 & -87.66892 & 41.96398 & -87.63822 & casual\\\\\n",
       "\t B9C4712F78C1AE68 & electric\\_bike & 2020-09-17 15:16:13 & 2020-09-17 15:52:55 & Fairbanks Ct \\& Grand Ave       &  24 & Fairbanks Ct \\& Grand Ave   &  24 & 41.89186 & -87.62101 & 41.89135 & -87.62032 & casual\\\\\n",
       "\t 378BBCE1E444EB80 & electric\\_bike & 2020-09-17 18:37:04 & 2020-09-17 19:23:28 & Clark St \\& Armitage Ave        &  94 & NA                         &  NA & 41.91826 & -87.63636 & 41.88000 & -87.62000 & casual\\\\\n",
       "\\end{tabular}\n"
      ],
      "text/markdown": [
       "\n",
       "A tibble: 6 × 13\n",
       "\n",
       "| ride_id &lt;chr&gt; | rideable_type &lt;chr&gt; | started_at &lt;dttm&gt; | ended_at &lt;dttm&gt; | start_station_name &lt;chr&gt; | start_station_id &lt;dbl&gt; | end_station_name &lt;chr&gt; | end_station_id &lt;dbl&gt; | start_lat &lt;dbl&gt; | start_lng &lt;dbl&gt; | end_lat &lt;dbl&gt; | end_lng &lt;dbl&gt; | member_casual &lt;chr&gt; |\n",
       "|---|---|---|---|---|---|---|---|---|---|---|---|---|\n",
       "| 2B22BD5F95FB2629 | electric_bike | 2020-09-17 14:27:11 | 2020-09-17 14:44:24 | Michigan Ave &amp; Lake St         |  52 | Green St &amp; Randolph St     | 112 | 41.88669 | -87.62356 | 41.88357 | -87.64873 | casual |\n",
       "| A7FB70B4AFC6CAF2 | electric_bike | 2020-09-17 15:07:31 | 2020-09-17 15:07:45 | W Oakdale Ave &amp; N Broadway     |  NA | W Oakdale Ave &amp; N Broadway |  NA | 41.94000 | -87.64000 | 41.94000 | -87.64000 | casual |\n",
       "| 86057FA01BAC778E | electric_bike | 2020-09-17 15:09:04 | 2020-09-17 15:09:35 | W Oakdale Ave &amp; N Broadway     |  NA | W Oakdale Ave &amp; N Broadway |  NA | 41.94000 | -87.64000 | 41.94000 | -87.64000 | casual |\n",
       "| 57F6DC9A153DB98C | electric_bike | 2020-09-17 18:10:46 | 2020-09-17 18:35:49 | Ashland Ave &amp; Belle Plaine Ave | 246 | Montrose Harbor            | 249 | 41.95606 | -87.66892 | 41.96398 | -87.63822 | casual |\n",
       "| B9C4712F78C1AE68 | electric_bike | 2020-09-17 15:16:13 | 2020-09-17 15:52:55 | Fairbanks Ct &amp; Grand Ave       |  24 | Fairbanks Ct &amp; Grand Ave   |  24 | 41.89186 | -87.62101 | 41.89135 | -87.62032 | casual |\n",
       "| 378BBCE1E444EB80 | electric_bike | 2020-09-17 18:37:04 | 2020-09-17 19:23:28 | Clark St &amp; Armitage Ave        |  94 | NA                         |  NA | 41.91826 | -87.63636 | 41.88000 | -87.62000 | casual |\n",
       "\n"
      ],
      "text/plain": [
       "  ride_id          rideable_type started_at          ended_at           \n",
       "1 2B22BD5F95FB2629 electric_bike 2020-09-17 14:27:11 2020-09-17 14:44:24\n",
       "2 A7FB70B4AFC6CAF2 electric_bike 2020-09-17 15:07:31 2020-09-17 15:07:45\n",
       "3 86057FA01BAC778E electric_bike 2020-09-17 15:09:04 2020-09-17 15:09:35\n",
       "4 57F6DC9A153DB98C electric_bike 2020-09-17 18:10:46 2020-09-17 18:35:49\n",
       "5 B9C4712F78C1AE68 electric_bike 2020-09-17 15:16:13 2020-09-17 15:52:55\n",
       "6 378BBCE1E444EB80 electric_bike 2020-09-17 18:37:04 2020-09-17 19:23:28\n",
       "  start_station_name             start_station_id end_station_name          \n",
       "1 Michigan Ave & Lake St          52              Green St & Randolph St    \n",
       "2 W Oakdale Ave & N Broadway      NA              W Oakdale Ave & N Broadway\n",
       "3 W Oakdale Ave & N Broadway      NA              W Oakdale Ave & N Broadway\n",
       "4 Ashland Ave & Belle Plaine Ave 246              Montrose Harbor           \n",
       "5 Fairbanks Ct & Grand Ave        24              Fairbanks Ct & Grand Ave  \n",
       "6 Clark St & Armitage Ave         94              NA                        \n",
       "  end_station_id start_lat start_lng end_lat  end_lng   member_casual\n",
       "1 112            41.88669  -87.62356 41.88357 -87.64873 casual       \n",
       "2  NA            41.94000  -87.64000 41.94000 -87.64000 casual       \n",
       "3  NA            41.94000  -87.64000 41.94000 -87.64000 casual       \n",
       "4 249            41.95606  -87.66892 41.96398 -87.63822 casual       \n",
       "5  24            41.89186  -87.62101 41.89135 -87.62032 casual       \n",
       "6  NA            41.91826  -87.63636 41.88000 -87.62000 casual       "
      ]
     },
     "metadata": {},
     "output_type": "display_data"
    },
    {
     "name": "stdout",
     "output_type": "stream",
     "text": [
      "[1] \"October 2020\"\n"
     ]
    },
    {
     "data": {
      "text/html": [
       "<table class=\"dataframe\">\n",
       "<caption>A tibble: 6 × 13</caption>\n",
       "<thead>\n",
       "\t<tr><th scope=col>ride_id</th><th scope=col>rideable_type</th><th scope=col>started_at</th><th scope=col>ended_at</th><th scope=col>start_station_name</th><th scope=col>start_station_id</th><th scope=col>end_station_name</th><th scope=col>end_station_id</th><th scope=col>start_lat</th><th scope=col>start_lng</th><th scope=col>end_lat</th><th scope=col>end_lng</th><th scope=col>member_casual</th></tr>\n",
       "\t<tr><th scope=col>&lt;chr&gt;</th><th scope=col>&lt;chr&gt;</th><th scope=col>&lt;dttm&gt;</th><th scope=col>&lt;dttm&gt;</th><th scope=col>&lt;chr&gt;</th><th scope=col>&lt;dbl&gt;</th><th scope=col>&lt;chr&gt;</th><th scope=col>&lt;dbl&gt;</th><th scope=col>&lt;dbl&gt;</th><th scope=col>&lt;dbl&gt;</th><th scope=col>&lt;dbl&gt;</th><th scope=col>&lt;dbl&gt;</th><th scope=col>&lt;chr&gt;</th></tr>\n",
       "</thead>\n",
       "<tbody>\n",
       "\t<tr><td>ACB6B40CF5B9044C</td><td>electric_bike</td><td>2020-10-31 19:39:43</td><td>2020-10-31 19:57:12</td><td>Lakeview Ave &amp; Fullerton Pkwy </td><td>313</td><td><span style=white-space:pre-wrap>Rush St &amp; Hubbard St      </span></td><td>125</td><td>41.92610</td><td>-87.63898</td><td>41.89035</td><td>-87.62607</td><td>casual</td></tr>\n",
       "\t<tr><td>DF450C72FD109C01</td><td>electric_bike</td><td>2020-10-31 23:50:08</td><td>2020-11-01 00:04:16</td><td><span style=white-space:pre-wrap>Southport Ave &amp; Waveland Ave  </span></td><td>227</td><td>Kedzie Ave &amp; Milwaukee Ave</td><td>260</td><td>41.94817</td><td>-87.66391</td><td>41.92953</td><td>-87.70782</td><td>casual</td></tr>\n",
       "\t<tr><td>B6396B54A15AC0DF</td><td>electric_bike</td><td>2020-10-31 23:00:01</td><td>2020-10-31 23:08:22</td><td><span style=white-space:pre-wrap>Stony Island Ave &amp; 67th St    </span></td><td>102</td><td><span style=white-space:pre-wrap>University Ave &amp; 57th St  </span></td><td>423</td><td>41.77346</td><td>-87.58537</td><td>41.79145</td><td>-87.60005</td><td>casual</td></tr>\n",
       "\t<tr><td>44A4AEE261B9E854</td><td>electric_bike</td><td>2020-10-31 22:16:43</td><td>2020-10-31 22:19:35</td><td><span style=white-space:pre-wrap>Clark St &amp; Grace St           </span></td><td>165</td><td><span style=white-space:pre-wrap>Broadway &amp; Sheridan Rd    </span></td><td>256</td><td>41.95085</td><td>-87.65924</td><td>41.95281</td><td>-87.65010</td><td>casual</td></tr>\n",
       "\t<tr><td>10B7DD76A6A2EB95</td><td>electric_bike</td><td>2020-10-31 19:38:19</td><td>2020-10-31 19:54:32</td><td>Southport Ave &amp; Wrightwood Ave</td><td>190</td><td><span style=white-space:pre-wrap>Stave St &amp; Armitage Ave   </span></td><td>185</td><td>41.92886</td><td>-87.66396</td><td>41.91778</td><td>-87.69143</td><td>casual</td></tr>\n",
       "\t<tr><td>DA6C3759660133DA</td><td>electric_bike</td><td>2020-10-29 17:38:04</td><td>2020-10-29 17:45:43</td><td><span style=white-space:pre-wrap>Larrabee St &amp; Division St     </span></td><td>359</td><td><span style=white-space:pre-wrap>Wells St &amp; Huron St       </span></td><td> 53</td><td>41.90353</td><td>-87.64335</td><td>41.89440</td><td>-87.63431</td><td>casual</td></tr>\n",
       "</tbody>\n",
       "</table>\n"
      ],
      "text/latex": [
       "A tibble: 6 × 13\n",
       "\\begin{tabular}{lllllllllllll}\n",
       " ride\\_id & rideable\\_type & started\\_at & ended\\_at & start\\_station\\_name & start\\_station\\_id & end\\_station\\_name & end\\_station\\_id & start\\_lat & start\\_lng & end\\_lat & end\\_lng & member\\_casual\\\\\n",
       " <chr> & <chr> & <dttm> & <dttm> & <chr> & <dbl> & <chr> & <dbl> & <dbl> & <dbl> & <dbl> & <dbl> & <chr>\\\\\n",
       "\\hline\n",
       "\t ACB6B40CF5B9044C & electric\\_bike & 2020-10-31 19:39:43 & 2020-10-31 19:57:12 & Lakeview Ave \\& Fullerton Pkwy  & 313 & Rush St \\& Hubbard St       & 125 & 41.92610 & -87.63898 & 41.89035 & -87.62607 & casual\\\\\n",
       "\t DF450C72FD109C01 & electric\\_bike & 2020-10-31 23:50:08 & 2020-11-01 00:04:16 & Southport Ave \\& Waveland Ave   & 227 & Kedzie Ave \\& Milwaukee Ave & 260 & 41.94817 & -87.66391 & 41.92953 & -87.70782 & casual\\\\\n",
       "\t B6396B54A15AC0DF & electric\\_bike & 2020-10-31 23:00:01 & 2020-10-31 23:08:22 & Stony Island Ave \\& 67th St     & 102 & University Ave \\& 57th St   & 423 & 41.77346 & -87.58537 & 41.79145 & -87.60005 & casual\\\\\n",
       "\t 44A4AEE261B9E854 & electric\\_bike & 2020-10-31 22:16:43 & 2020-10-31 22:19:35 & Clark St \\& Grace St            & 165 & Broadway \\& Sheridan Rd     & 256 & 41.95085 & -87.65924 & 41.95281 & -87.65010 & casual\\\\\n",
       "\t 10B7DD76A6A2EB95 & electric\\_bike & 2020-10-31 19:38:19 & 2020-10-31 19:54:32 & Southport Ave \\& Wrightwood Ave & 190 & Stave St \\& Armitage Ave    & 185 & 41.92886 & -87.66396 & 41.91778 & -87.69143 & casual\\\\\n",
       "\t DA6C3759660133DA & electric\\_bike & 2020-10-29 17:38:04 & 2020-10-29 17:45:43 & Larrabee St \\& Division St      & 359 & Wells St \\& Huron St        &  53 & 41.90353 & -87.64335 & 41.89440 & -87.63431 & casual\\\\\n",
       "\\end{tabular}\n"
      ],
      "text/markdown": [
       "\n",
       "A tibble: 6 × 13\n",
       "\n",
       "| ride_id &lt;chr&gt; | rideable_type &lt;chr&gt; | started_at &lt;dttm&gt; | ended_at &lt;dttm&gt; | start_station_name &lt;chr&gt; | start_station_id &lt;dbl&gt; | end_station_name &lt;chr&gt; | end_station_id &lt;dbl&gt; | start_lat &lt;dbl&gt; | start_lng &lt;dbl&gt; | end_lat &lt;dbl&gt; | end_lng &lt;dbl&gt; | member_casual &lt;chr&gt; |\n",
       "|---|---|---|---|---|---|---|---|---|---|---|---|---|\n",
       "| ACB6B40CF5B9044C | electric_bike | 2020-10-31 19:39:43 | 2020-10-31 19:57:12 | Lakeview Ave &amp; Fullerton Pkwy  | 313 | Rush St &amp; Hubbard St       | 125 | 41.92610 | -87.63898 | 41.89035 | -87.62607 | casual |\n",
       "| DF450C72FD109C01 | electric_bike | 2020-10-31 23:50:08 | 2020-11-01 00:04:16 | Southport Ave &amp; Waveland Ave   | 227 | Kedzie Ave &amp; Milwaukee Ave | 260 | 41.94817 | -87.66391 | 41.92953 | -87.70782 | casual |\n",
       "| B6396B54A15AC0DF | electric_bike | 2020-10-31 23:00:01 | 2020-10-31 23:08:22 | Stony Island Ave &amp; 67th St     | 102 | University Ave &amp; 57th St   | 423 | 41.77346 | -87.58537 | 41.79145 | -87.60005 | casual |\n",
       "| 44A4AEE261B9E854 | electric_bike | 2020-10-31 22:16:43 | 2020-10-31 22:19:35 | Clark St &amp; Grace St            | 165 | Broadway &amp; Sheridan Rd     | 256 | 41.95085 | -87.65924 | 41.95281 | -87.65010 | casual |\n",
       "| 10B7DD76A6A2EB95 | electric_bike | 2020-10-31 19:38:19 | 2020-10-31 19:54:32 | Southport Ave &amp; Wrightwood Ave | 190 | Stave St &amp; Armitage Ave    | 185 | 41.92886 | -87.66396 | 41.91778 | -87.69143 | casual |\n",
       "| DA6C3759660133DA | electric_bike | 2020-10-29 17:38:04 | 2020-10-29 17:45:43 | Larrabee St &amp; Division St      | 359 | Wells St &amp; Huron St        |  53 | 41.90353 | -87.64335 | 41.89440 | -87.63431 | casual |\n",
       "\n"
      ],
      "text/plain": [
       "  ride_id          rideable_type started_at          ended_at           \n",
       "1 ACB6B40CF5B9044C electric_bike 2020-10-31 19:39:43 2020-10-31 19:57:12\n",
       "2 DF450C72FD109C01 electric_bike 2020-10-31 23:50:08 2020-11-01 00:04:16\n",
       "3 B6396B54A15AC0DF electric_bike 2020-10-31 23:00:01 2020-10-31 23:08:22\n",
       "4 44A4AEE261B9E854 electric_bike 2020-10-31 22:16:43 2020-10-31 22:19:35\n",
       "5 10B7DD76A6A2EB95 electric_bike 2020-10-31 19:38:19 2020-10-31 19:54:32\n",
       "6 DA6C3759660133DA electric_bike 2020-10-29 17:38:04 2020-10-29 17:45:43\n",
       "  start_station_name             start_station_id end_station_name          \n",
       "1 Lakeview Ave & Fullerton Pkwy  313              Rush St & Hubbard St      \n",
       "2 Southport Ave & Waveland Ave   227              Kedzie Ave & Milwaukee Ave\n",
       "3 Stony Island Ave & 67th St     102              University Ave & 57th St  \n",
       "4 Clark St & Grace St            165              Broadway & Sheridan Rd    \n",
       "5 Southport Ave & Wrightwood Ave 190              Stave St & Armitage Ave   \n",
       "6 Larrabee St & Division St      359              Wells St & Huron St       \n",
       "  end_station_id start_lat start_lng end_lat  end_lng   member_casual\n",
       "1 125            41.92610  -87.63898 41.89035 -87.62607 casual       \n",
       "2 260            41.94817  -87.66391 41.92953 -87.70782 casual       \n",
       "3 423            41.77346  -87.58537 41.79145 -87.60005 casual       \n",
       "4 256            41.95085  -87.65924 41.95281 -87.65010 casual       \n",
       "5 185            41.92886  -87.66396 41.91778 -87.69143 casual       \n",
       "6  53            41.90353  -87.64335 41.89440 -87.63431 casual       "
      ]
     },
     "metadata": {},
     "output_type": "display_data"
    },
    {
     "name": "stdout",
     "output_type": "stream",
     "text": [
      "[1] \"November 2020\"\n"
     ]
    },
    {
     "data": {
      "text/html": [
       "<table class=\"dataframe\">\n",
       "<caption>A tibble: 6 × 13</caption>\n",
       "<thead>\n",
       "\t<tr><th scope=col>ride_id</th><th scope=col>rideable_type</th><th scope=col>started_at</th><th scope=col>ended_at</th><th scope=col>start_station_name</th><th scope=col>start_station_id</th><th scope=col>end_station_name</th><th scope=col>end_station_id</th><th scope=col>start_lat</th><th scope=col>start_lng</th><th scope=col>end_lat</th><th scope=col>end_lng</th><th scope=col>member_casual</th></tr>\n",
       "\t<tr><th scope=col>&lt;chr&gt;</th><th scope=col>&lt;chr&gt;</th><th scope=col>&lt;dttm&gt;</th><th scope=col>&lt;dttm&gt;</th><th scope=col>&lt;chr&gt;</th><th scope=col>&lt;dbl&gt;</th><th scope=col>&lt;chr&gt;</th><th scope=col>&lt;dbl&gt;</th><th scope=col>&lt;dbl&gt;</th><th scope=col>&lt;dbl&gt;</th><th scope=col>&lt;dbl&gt;</th><th scope=col>&lt;dbl&gt;</th><th scope=col>&lt;chr&gt;</th></tr>\n",
       "</thead>\n",
       "<tbody>\n",
       "\t<tr><td>BD0A6FF6FFF9B921</td><td>electric_bike</td><td>2020-11-01 13:36:00</td><td>2020-11-01 13:45:40</td><td><span style=white-space:pre-wrap>Dearborn St &amp; Erie St    </span></td><td>110</td><td><span style=white-space:pre-wrap>St. Clair St &amp; Erie St   </span></td><td>211</td><td>41.89418</td><td>-87.62913</td><td>41.89443</td><td>-87.62338</td><td>casual</td></tr>\n",
       "\t<tr><td>96A7A7A4BDE4F82D</td><td>electric_bike</td><td>2020-11-01 10:03:26</td><td>2020-11-01 10:14:45</td><td>Franklin St &amp; Illinois St</td><td>672</td><td>Noble St &amp; Milwaukee Ave </td><td> 29</td><td>41.89096</td><td>-87.63534</td><td>41.90067</td><td>-87.66248</td><td>casual</td></tr>\n",
       "\t<tr><td>C61526D06582BDC5</td><td>electric_bike</td><td>2020-11-01 00:34:05</td><td>2020-11-01 01:03:06</td><td>Lake Shore Dr &amp; Monroe St</td><td> 76</td><td><span style=white-space:pre-wrap>Federal St &amp; Polk St     </span></td><td> 41</td><td>41.88098</td><td>-87.61675</td><td>41.87205</td><td>-87.62955</td><td>casual</td></tr>\n",
       "\t<tr><td>E533E89C32080B9E</td><td>electric_bike</td><td>2020-11-01 00:45:16</td><td>2020-11-01 00:54:31</td><td>Leavitt St &amp; Chicago Ave </td><td>659</td><td><span style=white-space:pre-wrap>Stave St &amp; Armitage Ave  </span></td><td>185</td><td>41.89550</td><td>-87.68201</td><td>41.91774</td><td>-87.69139</td><td>casual</td></tr>\n",
       "\t<tr><td>1C9F4EF18C168C60</td><td>electric_bike</td><td>2020-11-01 15:43:25</td><td>2020-11-01 16:16:52</td><td>Buckingham Fountain      </td><td>  2</td><td>Buckingham Fountain      </td><td>  2</td><td>41.87650</td><td>-87.62036</td><td>41.87645</td><td>-87.62034</td><td>casual</td></tr>\n",
       "\t<tr><td>7259585D8276D338</td><td>electric_bike</td><td>2020-11-14 15:55:17</td><td>2020-11-14 16:44:38</td><td><span style=white-space:pre-wrap>Wabash Ave &amp; 16th St     </span></td><td> 72</td><td>Lake Shore Dr &amp; Monroe St</td><td> 76</td><td>41.86029</td><td>-87.62581</td><td>41.88099</td><td>-87.61677</td><td>casual</td></tr>\n",
       "</tbody>\n",
       "</table>\n"
      ],
      "text/latex": [
       "A tibble: 6 × 13\n",
       "\\begin{tabular}{lllllllllllll}\n",
       " ride\\_id & rideable\\_type & started\\_at & ended\\_at & start\\_station\\_name & start\\_station\\_id & end\\_station\\_name & end\\_station\\_id & start\\_lat & start\\_lng & end\\_lat & end\\_lng & member\\_casual\\\\\n",
       " <chr> & <chr> & <dttm> & <dttm> & <chr> & <dbl> & <chr> & <dbl> & <dbl> & <dbl> & <dbl> & <dbl> & <chr>\\\\\n",
       "\\hline\n",
       "\t BD0A6FF6FFF9B921 & electric\\_bike & 2020-11-01 13:36:00 & 2020-11-01 13:45:40 & Dearborn St \\& Erie St     & 110 & St. Clair St \\& Erie St    & 211 & 41.89418 & -87.62913 & 41.89443 & -87.62338 & casual\\\\\n",
       "\t 96A7A7A4BDE4F82D & electric\\_bike & 2020-11-01 10:03:26 & 2020-11-01 10:14:45 & Franklin St \\& Illinois St & 672 & Noble St \\& Milwaukee Ave  &  29 & 41.89096 & -87.63534 & 41.90067 & -87.66248 & casual\\\\\n",
       "\t C61526D06582BDC5 & electric\\_bike & 2020-11-01 00:34:05 & 2020-11-01 01:03:06 & Lake Shore Dr \\& Monroe St &  76 & Federal St \\& Polk St      &  41 & 41.88098 & -87.61675 & 41.87205 & -87.62955 & casual\\\\\n",
       "\t E533E89C32080B9E & electric\\_bike & 2020-11-01 00:45:16 & 2020-11-01 00:54:31 & Leavitt St \\& Chicago Ave  & 659 & Stave St \\& Armitage Ave   & 185 & 41.89550 & -87.68201 & 41.91774 & -87.69139 & casual\\\\\n",
       "\t 1C9F4EF18C168C60 & electric\\_bike & 2020-11-01 15:43:25 & 2020-11-01 16:16:52 & Buckingham Fountain       &   2 & Buckingham Fountain       &   2 & 41.87650 & -87.62036 & 41.87645 & -87.62034 & casual\\\\\n",
       "\t 7259585D8276D338 & electric\\_bike & 2020-11-14 15:55:17 & 2020-11-14 16:44:38 & Wabash Ave \\& 16th St      &  72 & Lake Shore Dr \\& Monroe St &  76 & 41.86029 & -87.62581 & 41.88099 & -87.61677 & casual\\\\\n",
       "\\end{tabular}\n"
      ],
      "text/markdown": [
       "\n",
       "A tibble: 6 × 13\n",
       "\n",
       "| ride_id &lt;chr&gt; | rideable_type &lt;chr&gt; | started_at &lt;dttm&gt; | ended_at &lt;dttm&gt; | start_station_name &lt;chr&gt; | start_station_id &lt;dbl&gt; | end_station_name &lt;chr&gt; | end_station_id &lt;dbl&gt; | start_lat &lt;dbl&gt; | start_lng &lt;dbl&gt; | end_lat &lt;dbl&gt; | end_lng &lt;dbl&gt; | member_casual &lt;chr&gt; |\n",
       "|---|---|---|---|---|---|---|---|---|---|---|---|---|\n",
       "| BD0A6FF6FFF9B921 | electric_bike | 2020-11-01 13:36:00 | 2020-11-01 13:45:40 | Dearborn St &amp; Erie St     | 110 | St. Clair St &amp; Erie St    | 211 | 41.89418 | -87.62913 | 41.89443 | -87.62338 | casual |\n",
       "| 96A7A7A4BDE4F82D | electric_bike | 2020-11-01 10:03:26 | 2020-11-01 10:14:45 | Franklin St &amp; Illinois St | 672 | Noble St &amp; Milwaukee Ave  |  29 | 41.89096 | -87.63534 | 41.90067 | -87.66248 | casual |\n",
       "| C61526D06582BDC5 | electric_bike | 2020-11-01 00:34:05 | 2020-11-01 01:03:06 | Lake Shore Dr &amp; Monroe St |  76 | Federal St &amp; Polk St      |  41 | 41.88098 | -87.61675 | 41.87205 | -87.62955 | casual |\n",
       "| E533E89C32080B9E | electric_bike | 2020-11-01 00:45:16 | 2020-11-01 00:54:31 | Leavitt St &amp; Chicago Ave  | 659 | Stave St &amp; Armitage Ave   | 185 | 41.89550 | -87.68201 | 41.91774 | -87.69139 | casual |\n",
       "| 1C9F4EF18C168C60 | electric_bike | 2020-11-01 15:43:25 | 2020-11-01 16:16:52 | Buckingham Fountain       |   2 | Buckingham Fountain       |   2 | 41.87650 | -87.62036 | 41.87645 | -87.62034 | casual |\n",
       "| 7259585D8276D338 | electric_bike | 2020-11-14 15:55:17 | 2020-11-14 16:44:38 | Wabash Ave &amp; 16th St      |  72 | Lake Shore Dr &amp; Monroe St |  76 | 41.86029 | -87.62581 | 41.88099 | -87.61677 | casual |\n",
       "\n"
      ],
      "text/plain": [
       "  ride_id          rideable_type started_at          ended_at           \n",
       "1 BD0A6FF6FFF9B921 electric_bike 2020-11-01 13:36:00 2020-11-01 13:45:40\n",
       "2 96A7A7A4BDE4F82D electric_bike 2020-11-01 10:03:26 2020-11-01 10:14:45\n",
       "3 C61526D06582BDC5 electric_bike 2020-11-01 00:34:05 2020-11-01 01:03:06\n",
       "4 E533E89C32080B9E electric_bike 2020-11-01 00:45:16 2020-11-01 00:54:31\n",
       "5 1C9F4EF18C168C60 electric_bike 2020-11-01 15:43:25 2020-11-01 16:16:52\n",
       "6 7259585D8276D338 electric_bike 2020-11-14 15:55:17 2020-11-14 16:44:38\n",
       "  start_station_name        start_station_id end_station_name         \n",
       "1 Dearborn St & Erie St     110              St. Clair St & Erie St   \n",
       "2 Franklin St & Illinois St 672              Noble St & Milwaukee Ave \n",
       "3 Lake Shore Dr & Monroe St  76              Federal St & Polk St     \n",
       "4 Leavitt St & Chicago Ave  659              Stave St & Armitage Ave  \n",
       "5 Buckingham Fountain         2              Buckingham Fountain      \n",
       "6 Wabash Ave & 16th St       72              Lake Shore Dr & Monroe St\n",
       "  end_station_id start_lat start_lng end_lat  end_lng   member_casual\n",
       "1 211            41.89418  -87.62913 41.89443 -87.62338 casual       \n",
       "2  29            41.89096  -87.63534 41.90067 -87.66248 casual       \n",
       "3  41            41.88098  -87.61675 41.87205 -87.62955 casual       \n",
       "4 185            41.89550  -87.68201 41.91774 -87.69139 casual       \n",
       "5   2            41.87650  -87.62036 41.87645 -87.62034 casual       \n",
       "6  76            41.86029  -87.62581 41.88099 -87.61677 casual       "
      ]
     },
     "metadata": {},
     "output_type": "display_data"
    },
    {
     "name": "stdout",
     "output_type": "stream",
     "text": [
      "[1] \"December 2020\"\n"
     ]
    },
    {
     "data": {
      "text/html": [
       "<table class=\"dataframe\">\n",
       "<caption>A tibble: 6 × 13</caption>\n",
       "<thead>\n",
       "\t<tr><th scope=col>ride_id</th><th scope=col>rideable_type</th><th scope=col>started_at</th><th scope=col>ended_at</th><th scope=col>start_station_name</th><th scope=col>start_station_id</th><th scope=col>end_station_name</th><th scope=col>end_station_id</th><th scope=col>start_lat</th><th scope=col>start_lng</th><th scope=col>end_lat</th><th scope=col>end_lng</th><th scope=col>member_casual</th></tr>\n",
       "\t<tr><th scope=col>&lt;chr&gt;</th><th scope=col>&lt;chr&gt;</th><th scope=col>&lt;dttm&gt;</th><th scope=col>&lt;dttm&gt;</th><th scope=col>&lt;chr&gt;</th><th scope=col>&lt;chr&gt;</th><th scope=col>&lt;chr&gt;</th><th scope=col>&lt;chr&gt;</th><th scope=col>&lt;dbl&gt;</th><th scope=col>&lt;dbl&gt;</th><th scope=col>&lt;dbl&gt;</th><th scope=col>&lt;dbl&gt;</th><th scope=col>&lt;chr&gt;</th></tr>\n",
       "</thead>\n",
       "<tbody>\n",
       "\t<tr><td>70B6A9A437D4C30D</td><td>classic_bike </td><td>2020-12-27 12:44:29</td><td>2020-12-27 12:55:06</td><td>Aberdeen St &amp; Jackson Blvd</td><td>13157</td><td>Desplaines St &amp; Kinzie St</td><td>TA1306000003</td><td>41.87773</td><td>-87.65479</td><td>41.88872</td><td>-87.64445</td><td>member</td></tr>\n",
       "\t<tr><td>158A465D4E74C54A</td><td>electric_bike</td><td>2020-12-18 17:37:15</td><td>2020-12-18 17:44:19</td><td>NA                        </td><td>NA   </td><td>NA                       </td><td>NA          </td><td>41.93000</td><td>-87.70000</td><td>41.91000</td><td>-87.70000</td><td>member</td></tr>\n",
       "\t<tr><td>5262016E0F1F2F9A</td><td>electric_bike</td><td>2020-12-15 15:04:33</td><td>2020-12-15 15:11:28</td><td>NA                        </td><td>NA   </td><td>NA                       </td><td>NA          </td><td>41.91000</td><td>-87.69000</td><td>41.93000</td><td>-87.70000</td><td>member</td></tr>\n",
       "\t<tr><td>BE119628E44F871E</td><td>electric_bike</td><td>2020-12-15 15:54:18</td><td>2020-12-15 16:00:11</td><td>NA                        </td><td>NA   </td><td>NA                       </td><td>NA          </td><td>41.92000</td><td>-87.70000</td><td>41.91000</td><td>-87.70000</td><td>member</td></tr>\n",
       "\t<tr><td>69AF78D57854E110</td><td>electric_bike</td><td>2020-12-22 12:08:17</td><td>2020-12-22 12:10:59</td><td>NA                        </td><td>NA   </td><td>NA                       </td><td>NA          </td><td>41.80000</td><td>-87.59000</td><td>41.80000</td><td>-87.59000</td><td>member</td></tr>\n",
       "\t<tr><td>C1DECC4AB488831C</td><td>electric_bike</td><td>2020-12-22 13:26:37</td><td>2020-12-22 13:34:50</td><td>NA                        </td><td>NA   </td><td>NA                       </td><td>NA          </td><td>41.80000</td><td>-87.59000</td><td>41.78000</td><td>-87.60000</td><td>member</td></tr>\n",
       "</tbody>\n",
       "</table>\n"
      ],
      "text/latex": [
       "A tibble: 6 × 13\n",
       "\\begin{tabular}{lllllllllllll}\n",
       " ride\\_id & rideable\\_type & started\\_at & ended\\_at & start\\_station\\_name & start\\_station\\_id & end\\_station\\_name & end\\_station\\_id & start\\_lat & start\\_lng & end\\_lat & end\\_lng & member\\_casual\\\\\n",
       " <chr> & <chr> & <dttm> & <dttm> & <chr> & <chr> & <chr> & <chr> & <dbl> & <dbl> & <dbl> & <dbl> & <chr>\\\\\n",
       "\\hline\n",
       "\t 70B6A9A437D4C30D & classic\\_bike  & 2020-12-27 12:44:29 & 2020-12-27 12:55:06 & Aberdeen St \\& Jackson Blvd & 13157 & Desplaines St \\& Kinzie St & TA1306000003 & 41.87773 & -87.65479 & 41.88872 & -87.64445 & member\\\\\n",
       "\t 158A465D4E74C54A & electric\\_bike & 2020-12-18 17:37:15 & 2020-12-18 17:44:19 & NA                         & NA    & NA                        & NA           & 41.93000 & -87.70000 & 41.91000 & -87.70000 & member\\\\\n",
       "\t 5262016E0F1F2F9A & electric\\_bike & 2020-12-15 15:04:33 & 2020-12-15 15:11:28 & NA                         & NA    & NA                        & NA           & 41.91000 & -87.69000 & 41.93000 & -87.70000 & member\\\\\n",
       "\t BE119628E44F871E & electric\\_bike & 2020-12-15 15:54:18 & 2020-12-15 16:00:11 & NA                         & NA    & NA                        & NA           & 41.92000 & -87.70000 & 41.91000 & -87.70000 & member\\\\\n",
       "\t 69AF78D57854E110 & electric\\_bike & 2020-12-22 12:08:17 & 2020-12-22 12:10:59 & NA                         & NA    & NA                        & NA           & 41.80000 & -87.59000 & 41.80000 & -87.59000 & member\\\\\n",
       "\t C1DECC4AB488831C & electric\\_bike & 2020-12-22 13:26:37 & 2020-12-22 13:34:50 & NA                         & NA    & NA                        & NA           & 41.80000 & -87.59000 & 41.78000 & -87.60000 & member\\\\\n",
       "\\end{tabular}\n"
      ],
      "text/markdown": [
       "\n",
       "A tibble: 6 × 13\n",
       "\n",
       "| ride_id &lt;chr&gt; | rideable_type &lt;chr&gt; | started_at &lt;dttm&gt; | ended_at &lt;dttm&gt; | start_station_name &lt;chr&gt; | start_station_id &lt;chr&gt; | end_station_name &lt;chr&gt; | end_station_id &lt;chr&gt; | start_lat &lt;dbl&gt; | start_lng &lt;dbl&gt; | end_lat &lt;dbl&gt; | end_lng &lt;dbl&gt; | member_casual &lt;chr&gt; |\n",
       "|---|---|---|---|---|---|---|---|---|---|---|---|---|\n",
       "| 70B6A9A437D4C30D | classic_bike  | 2020-12-27 12:44:29 | 2020-12-27 12:55:06 | Aberdeen St &amp; Jackson Blvd | 13157 | Desplaines St &amp; Kinzie St | TA1306000003 | 41.87773 | -87.65479 | 41.88872 | -87.64445 | member |\n",
       "| 158A465D4E74C54A | electric_bike | 2020-12-18 17:37:15 | 2020-12-18 17:44:19 | NA                         | NA    | NA                        | NA           | 41.93000 | -87.70000 | 41.91000 | -87.70000 | member |\n",
       "| 5262016E0F1F2F9A | electric_bike | 2020-12-15 15:04:33 | 2020-12-15 15:11:28 | NA                         | NA    | NA                        | NA           | 41.91000 | -87.69000 | 41.93000 | -87.70000 | member |\n",
       "| BE119628E44F871E | electric_bike | 2020-12-15 15:54:18 | 2020-12-15 16:00:11 | NA                         | NA    | NA                        | NA           | 41.92000 | -87.70000 | 41.91000 | -87.70000 | member |\n",
       "| 69AF78D57854E110 | electric_bike | 2020-12-22 12:08:17 | 2020-12-22 12:10:59 | NA                         | NA    | NA                        | NA           | 41.80000 | -87.59000 | 41.80000 | -87.59000 | member |\n",
       "| C1DECC4AB488831C | electric_bike | 2020-12-22 13:26:37 | 2020-12-22 13:34:50 | NA                         | NA    | NA                        | NA           | 41.80000 | -87.59000 | 41.78000 | -87.60000 | member |\n",
       "\n"
      ],
      "text/plain": [
       "  ride_id          rideable_type started_at          ended_at           \n",
       "1 70B6A9A437D4C30D classic_bike  2020-12-27 12:44:29 2020-12-27 12:55:06\n",
       "2 158A465D4E74C54A electric_bike 2020-12-18 17:37:15 2020-12-18 17:44:19\n",
       "3 5262016E0F1F2F9A electric_bike 2020-12-15 15:04:33 2020-12-15 15:11:28\n",
       "4 BE119628E44F871E electric_bike 2020-12-15 15:54:18 2020-12-15 16:00:11\n",
       "5 69AF78D57854E110 electric_bike 2020-12-22 12:08:17 2020-12-22 12:10:59\n",
       "6 C1DECC4AB488831C electric_bike 2020-12-22 13:26:37 2020-12-22 13:34:50\n",
       "  start_station_name         start_station_id end_station_name         \n",
       "1 Aberdeen St & Jackson Blvd 13157            Desplaines St & Kinzie St\n",
       "2 NA                         NA               NA                       \n",
       "3 NA                         NA               NA                       \n",
       "4 NA                         NA               NA                       \n",
       "5 NA                         NA               NA                       \n",
       "6 NA                         NA               NA                       \n",
       "  end_station_id start_lat start_lng end_lat  end_lng   member_casual\n",
       "1 TA1306000003   41.87773  -87.65479 41.88872 -87.64445 member       \n",
       "2 NA             41.93000  -87.70000 41.91000 -87.70000 member       \n",
       "3 NA             41.91000  -87.69000 41.93000 -87.70000 member       \n",
       "4 NA             41.92000  -87.70000 41.91000 -87.70000 member       \n",
       "5 NA             41.80000  -87.59000 41.80000 -87.59000 member       \n",
       "6 NA             41.80000  -87.59000 41.78000 -87.60000 member       "
      ]
     },
     "metadata": {},
     "output_type": "display_data"
    },
    {
     "name": "stdout",
     "output_type": "stream",
     "text": [
      "[1] \"January 2021\"\n"
     ]
    },
    {
     "data": {
      "text/html": [
       "<table class=\"dataframe\">\n",
       "<caption>A tibble: 6 × 13</caption>\n",
       "<thead>\n",
       "\t<tr><th scope=col>ride_id</th><th scope=col>rideable_type</th><th scope=col>started_at</th><th scope=col>ended_at</th><th scope=col>start_station_name</th><th scope=col>start_station_id</th><th scope=col>end_station_name</th><th scope=col>end_station_id</th><th scope=col>start_lat</th><th scope=col>start_lng</th><th scope=col>end_lat</th><th scope=col>end_lng</th><th scope=col>member_casual</th></tr>\n",
       "\t<tr><th scope=col>&lt;chr&gt;</th><th scope=col>&lt;chr&gt;</th><th scope=col>&lt;dttm&gt;</th><th scope=col>&lt;dttm&gt;</th><th scope=col>&lt;chr&gt;</th><th scope=col>&lt;chr&gt;</th><th scope=col>&lt;chr&gt;</th><th scope=col>&lt;chr&gt;</th><th scope=col>&lt;dbl&gt;</th><th scope=col>&lt;dbl&gt;</th><th scope=col>&lt;dbl&gt;</th><th scope=col>&lt;dbl&gt;</th><th scope=col>&lt;chr&gt;</th></tr>\n",
       "</thead>\n",
       "<tbody>\n",
       "\t<tr><td>E19E6F1B8D4C42ED</td><td>electric_bike</td><td>2021-01-23 16:14:19</td><td>2021-01-23 16:24:44</td><td>California Ave &amp; Cortez St</td><td>17660</td><td>NA</td><td>NA</td><td>41.90034</td><td>-87.69674</td><td>41.89</td><td>-87.72</td><td>member</td></tr>\n",
       "\t<tr><td>DC88F20C2C55F27F</td><td>electric_bike</td><td>2021-01-27 18:43:08</td><td>2021-01-27 18:47:12</td><td>California Ave &amp; Cortez St</td><td>17660</td><td>NA</td><td>NA</td><td>41.90033</td><td>-87.69671</td><td>41.90</td><td>-87.69</td><td>member</td></tr>\n",
       "\t<tr><td>EC45C94683FE3F27</td><td>electric_bike</td><td>2021-01-21 22:35:54</td><td>2021-01-21 22:37:14</td><td>California Ave &amp; Cortez St</td><td>17660</td><td>NA</td><td>NA</td><td>41.90031</td><td>-87.69664</td><td>41.90</td><td>-87.70</td><td>member</td></tr>\n",
       "\t<tr><td>4FA453A75AE377DB</td><td>electric_bike</td><td>2021-01-07 13:31:13</td><td>2021-01-07 13:42:55</td><td>California Ave &amp; Cortez St</td><td>17660</td><td>NA</td><td>NA</td><td>41.90040</td><td>-87.69666</td><td>41.92</td><td>-87.69</td><td>member</td></tr>\n",
       "\t<tr><td>BE5E8EB4E7263A0B</td><td>electric_bike</td><td>2021-01-23 02:24:02</td><td>2021-01-23 02:24:45</td><td>California Ave &amp; Cortez St</td><td>17660</td><td>NA</td><td>NA</td><td>41.90033</td><td>-87.69670</td><td>41.90</td><td>-87.70</td><td>casual</td></tr>\n",
       "\t<tr><td>5D8969F88C773979</td><td>electric_bike</td><td>2021-01-09 14:24:07</td><td>2021-01-09 15:17:54</td><td>California Ave &amp; Cortez St</td><td>17660</td><td>NA</td><td>NA</td><td>41.90041</td><td>-87.69676</td><td>41.94</td><td>-87.71</td><td>casual</td></tr>\n",
       "</tbody>\n",
       "</table>\n"
      ],
      "text/latex": [
       "A tibble: 6 × 13\n",
       "\\begin{tabular}{lllllllllllll}\n",
       " ride\\_id & rideable\\_type & started\\_at & ended\\_at & start\\_station\\_name & start\\_station\\_id & end\\_station\\_name & end\\_station\\_id & start\\_lat & start\\_lng & end\\_lat & end\\_lng & member\\_casual\\\\\n",
       " <chr> & <chr> & <dttm> & <dttm> & <chr> & <chr> & <chr> & <chr> & <dbl> & <dbl> & <dbl> & <dbl> & <chr>\\\\\n",
       "\\hline\n",
       "\t E19E6F1B8D4C42ED & electric\\_bike & 2021-01-23 16:14:19 & 2021-01-23 16:24:44 & California Ave \\& Cortez St & 17660 & NA & NA & 41.90034 & -87.69674 & 41.89 & -87.72 & member\\\\\n",
       "\t DC88F20C2C55F27F & electric\\_bike & 2021-01-27 18:43:08 & 2021-01-27 18:47:12 & California Ave \\& Cortez St & 17660 & NA & NA & 41.90033 & -87.69671 & 41.90 & -87.69 & member\\\\\n",
       "\t EC45C94683FE3F27 & electric\\_bike & 2021-01-21 22:35:54 & 2021-01-21 22:37:14 & California Ave \\& Cortez St & 17660 & NA & NA & 41.90031 & -87.69664 & 41.90 & -87.70 & member\\\\\n",
       "\t 4FA453A75AE377DB & electric\\_bike & 2021-01-07 13:31:13 & 2021-01-07 13:42:55 & California Ave \\& Cortez St & 17660 & NA & NA & 41.90040 & -87.69666 & 41.92 & -87.69 & member\\\\\n",
       "\t BE5E8EB4E7263A0B & electric\\_bike & 2021-01-23 02:24:02 & 2021-01-23 02:24:45 & California Ave \\& Cortez St & 17660 & NA & NA & 41.90033 & -87.69670 & 41.90 & -87.70 & casual\\\\\n",
       "\t 5D8969F88C773979 & electric\\_bike & 2021-01-09 14:24:07 & 2021-01-09 15:17:54 & California Ave \\& Cortez St & 17660 & NA & NA & 41.90041 & -87.69676 & 41.94 & -87.71 & casual\\\\\n",
       "\\end{tabular}\n"
      ],
      "text/markdown": [
       "\n",
       "A tibble: 6 × 13\n",
       "\n",
       "| ride_id &lt;chr&gt; | rideable_type &lt;chr&gt; | started_at &lt;dttm&gt; | ended_at &lt;dttm&gt; | start_station_name &lt;chr&gt; | start_station_id &lt;chr&gt; | end_station_name &lt;chr&gt; | end_station_id &lt;chr&gt; | start_lat &lt;dbl&gt; | start_lng &lt;dbl&gt; | end_lat &lt;dbl&gt; | end_lng &lt;dbl&gt; | member_casual &lt;chr&gt; |\n",
       "|---|---|---|---|---|---|---|---|---|---|---|---|---|\n",
       "| E19E6F1B8D4C42ED | electric_bike | 2021-01-23 16:14:19 | 2021-01-23 16:24:44 | California Ave &amp; Cortez St | 17660 | NA | NA | 41.90034 | -87.69674 | 41.89 | -87.72 | member |\n",
       "| DC88F20C2C55F27F | electric_bike | 2021-01-27 18:43:08 | 2021-01-27 18:47:12 | California Ave &amp; Cortez St | 17660 | NA | NA | 41.90033 | -87.69671 | 41.90 | -87.69 | member |\n",
       "| EC45C94683FE3F27 | electric_bike | 2021-01-21 22:35:54 | 2021-01-21 22:37:14 | California Ave &amp; Cortez St | 17660 | NA | NA | 41.90031 | -87.69664 | 41.90 | -87.70 | member |\n",
       "| 4FA453A75AE377DB | electric_bike | 2021-01-07 13:31:13 | 2021-01-07 13:42:55 | California Ave &amp; Cortez St | 17660 | NA | NA | 41.90040 | -87.69666 | 41.92 | -87.69 | member |\n",
       "| BE5E8EB4E7263A0B | electric_bike | 2021-01-23 02:24:02 | 2021-01-23 02:24:45 | California Ave &amp; Cortez St | 17660 | NA | NA | 41.90033 | -87.69670 | 41.90 | -87.70 | casual |\n",
       "| 5D8969F88C773979 | electric_bike | 2021-01-09 14:24:07 | 2021-01-09 15:17:54 | California Ave &amp; Cortez St | 17660 | NA | NA | 41.90041 | -87.69676 | 41.94 | -87.71 | casual |\n",
       "\n"
      ],
      "text/plain": [
       "  ride_id          rideable_type started_at          ended_at           \n",
       "1 E19E6F1B8D4C42ED electric_bike 2021-01-23 16:14:19 2021-01-23 16:24:44\n",
       "2 DC88F20C2C55F27F electric_bike 2021-01-27 18:43:08 2021-01-27 18:47:12\n",
       "3 EC45C94683FE3F27 electric_bike 2021-01-21 22:35:54 2021-01-21 22:37:14\n",
       "4 4FA453A75AE377DB electric_bike 2021-01-07 13:31:13 2021-01-07 13:42:55\n",
       "5 BE5E8EB4E7263A0B electric_bike 2021-01-23 02:24:02 2021-01-23 02:24:45\n",
       "6 5D8969F88C773979 electric_bike 2021-01-09 14:24:07 2021-01-09 15:17:54\n",
       "  start_station_name         start_station_id end_station_name end_station_id\n",
       "1 California Ave & Cortez St 17660            NA               NA            \n",
       "2 California Ave & Cortez St 17660            NA               NA            \n",
       "3 California Ave & Cortez St 17660            NA               NA            \n",
       "4 California Ave & Cortez St 17660            NA               NA            \n",
       "5 California Ave & Cortez St 17660            NA               NA            \n",
       "6 California Ave & Cortez St 17660            NA               NA            \n",
       "  start_lat start_lng end_lat end_lng member_casual\n",
       "1 41.90034  -87.69674 41.89   -87.72  member       \n",
       "2 41.90033  -87.69671 41.90   -87.69  member       \n",
       "3 41.90031  -87.69664 41.90   -87.70  member       \n",
       "4 41.90040  -87.69666 41.92   -87.69  member       \n",
       "5 41.90033  -87.69670 41.90   -87.70  casual       \n",
       "6 41.90041  -87.69676 41.94   -87.71  casual       "
      ]
     },
     "metadata": {},
     "output_type": "display_data"
    },
    {
     "name": "stdout",
     "output_type": "stream",
     "text": [
      "[1] \"Febuary 2021\"\n"
     ]
    },
    {
     "data": {
      "text/html": [
       "<table class=\"dataframe\">\n",
       "<caption>A tibble: 6 × 13</caption>\n",
       "<thead>\n",
       "\t<tr><th scope=col>ride_id</th><th scope=col>rideable_type</th><th scope=col>started_at</th><th scope=col>ended_at</th><th scope=col>start_station_name</th><th scope=col>start_station_id</th><th scope=col>end_station_name</th><th scope=col>end_station_id</th><th scope=col>start_lat</th><th scope=col>start_lng</th><th scope=col>end_lat</th><th scope=col>end_lng</th><th scope=col>member_casual</th></tr>\n",
       "\t<tr><th scope=col>&lt;chr&gt;</th><th scope=col>&lt;chr&gt;</th><th scope=col>&lt;dttm&gt;</th><th scope=col>&lt;dttm&gt;</th><th scope=col>&lt;chr&gt;</th><th scope=col>&lt;chr&gt;</th><th scope=col>&lt;chr&gt;</th><th scope=col>&lt;chr&gt;</th><th scope=col>&lt;dbl&gt;</th><th scope=col>&lt;dbl&gt;</th><th scope=col>&lt;dbl&gt;</th><th scope=col>&lt;dbl&gt;</th><th scope=col>&lt;chr&gt;</th></tr>\n",
       "</thead>\n",
       "<tbody>\n",
       "\t<tr><td>89E7AA6C29227EFF</td><td>classic_bike </td><td>2021-02-12 16:14:56</td><td>2021-02-12 16:21:43</td><td><span style=white-space:pre-wrap>Glenwood Ave &amp; Touhy Ave  </span></td><td><span style=white-space:pre-wrap>525         </span></td><td>Sheridan Rd &amp; Columbia Ave</td><td><span style=white-space:pre-wrap>660         </span></td><td>42.01270</td><td>-87.66606</td><td>42.00458</td><td>-87.66141</td><td>member</td></tr>\n",
       "\t<tr><td>0FEFDE2603568365</td><td>classic_bike </td><td>2021-02-14 17:52:38</td><td>2021-02-14 18:12:09</td><td><span style=white-space:pre-wrap>Glenwood Ave &amp; Touhy Ave  </span></td><td><span style=white-space:pre-wrap>525         </span></td><td><span style=white-space:pre-wrap>Bosworth Ave &amp; Howard St  </span></td><td><span style=white-space:pre-wrap>16806       </span></td><td>42.01270</td><td>-87.66606</td><td>42.01954</td><td>-87.66956</td><td>casual</td></tr>\n",
       "\t<tr><td>E6159D746B2DBB91</td><td>electric_bike</td><td>2021-02-09 19:10:18</td><td>2021-02-09 19:19:10</td><td><span style=white-space:pre-wrap>Clark St &amp; Lake St        </span></td><td>KA1503000012</td><td><span style=white-space:pre-wrap>State St &amp; Randolph St    </span></td><td>TA1305000029</td><td>41.88579</td><td>-87.63110</td><td>41.88487</td><td>-87.62750</td><td>member</td></tr>\n",
       "\t<tr><td>B32D3199F1C2E75B</td><td>classic_bike </td><td>2021-02-02 17:49:41</td><td>2021-02-02 17:54:06</td><td><span style=white-space:pre-wrap>Wood St &amp; Chicago Ave     </span></td><td><span style=white-space:pre-wrap>637         </span></td><td><span style=white-space:pre-wrap>Honore St &amp; Division St   </span></td><td>TA1305000034</td><td>41.89563</td><td>-87.67207</td><td>41.90312</td><td>-87.67394</td><td>member</td></tr>\n",
       "\t<tr><td>83E463F23575F4BF</td><td>electric_bike</td><td>2021-02-23 15:07:23</td><td>2021-02-23 15:22:37</td><td><span style=white-space:pre-wrap>State St &amp; 33rd St        </span></td><td><span style=white-space:pre-wrap>13216       </span></td><td><span style=white-space:pre-wrap>Emerald Ave &amp; 31st St     </span></td><td>TA1309000055</td><td>41.83473</td><td>-87.62583</td><td>41.83816</td><td>-87.64512</td><td>member</td></tr>\n",
       "\t<tr><td>BDAA7E3494E8D545</td><td>electric_bike</td><td>2021-02-24 15:43:33</td><td>2021-02-24 15:49:05</td><td>Fairbanks St &amp; Superior St</td><td><span style=white-space:pre-wrap>18003       </span></td><td><span style=white-space:pre-wrap>LaSalle Dr &amp; Huron St     </span></td><td>KP1705001026</td><td>41.89581</td><td>-87.62025</td><td>41.89489</td><td>-87.63198</td><td>casual</td></tr>\n",
       "</tbody>\n",
       "</table>\n"
      ],
      "text/latex": [
       "A tibble: 6 × 13\n",
       "\\begin{tabular}{lllllllllllll}\n",
       " ride\\_id & rideable\\_type & started\\_at & ended\\_at & start\\_station\\_name & start\\_station\\_id & end\\_station\\_name & end\\_station\\_id & start\\_lat & start\\_lng & end\\_lat & end\\_lng & member\\_casual\\\\\n",
       " <chr> & <chr> & <dttm> & <dttm> & <chr> & <chr> & <chr> & <chr> & <dbl> & <dbl> & <dbl> & <dbl> & <chr>\\\\\n",
       "\\hline\n",
       "\t 89E7AA6C29227EFF & classic\\_bike  & 2021-02-12 16:14:56 & 2021-02-12 16:21:43 & Glenwood Ave \\& Touhy Ave   & 525          & Sheridan Rd \\& Columbia Ave & 660          & 42.01270 & -87.66606 & 42.00458 & -87.66141 & member\\\\\n",
       "\t 0FEFDE2603568365 & classic\\_bike  & 2021-02-14 17:52:38 & 2021-02-14 18:12:09 & Glenwood Ave \\& Touhy Ave   & 525          & Bosworth Ave \\& Howard St   & 16806        & 42.01270 & -87.66606 & 42.01954 & -87.66956 & casual\\\\\n",
       "\t E6159D746B2DBB91 & electric\\_bike & 2021-02-09 19:10:18 & 2021-02-09 19:19:10 & Clark St \\& Lake St         & KA1503000012 & State St \\& Randolph St     & TA1305000029 & 41.88579 & -87.63110 & 41.88487 & -87.62750 & member\\\\\n",
       "\t B32D3199F1C2E75B & classic\\_bike  & 2021-02-02 17:49:41 & 2021-02-02 17:54:06 & Wood St \\& Chicago Ave      & 637          & Honore St \\& Division St    & TA1305000034 & 41.89563 & -87.67207 & 41.90312 & -87.67394 & member\\\\\n",
       "\t 83E463F23575F4BF & electric\\_bike & 2021-02-23 15:07:23 & 2021-02-23 15:22:37 & State St \\& 33rd St         & 13216        & Emerald Ave \\& 31st St      & TA1309000055 & 41.83473 & -87.62583 & 41.83816 & -87.64512 & member\\\\\n",
       "\t BDAA7E3494E8D545 & electric\\_bike & 2021-02-24 15:43:33 & 2021-02-24 15:49:05 & Fairbanks St \\& Superior St & 18003        & LaSalle Dr \\& Huron St      & KP1705001026 & 41.89581 & -87.62025 & 41.89489 & -87.63198 & casual\\\\\n",
       "\\end{tabular}\n"
      ],
      "text/markdown": [
       "\n",
       "A tibble: 6 × 13\n",
       "\n",
       "| ride_id &lt;chr&gt; | rideable_type &lt;chr&gt; | started_at &lt;dttm&gt; | ended_at &lt;dttm&gt; | start_station_name &lt;chr&gt; | start_station_id &lt;chr&gt; | end_station_name &lt;chr&gt; | end_station_id &lt;chr&gt; | start_lat &lt;dbl&gt; | start_lng &lt;dbl&gt; | end_lat &lt;dbl&gt; | end_lng &lt;dbl&gt; | member_casual &lt;chr&gt; |\n",
       "|---|---|---|---|---|---|---|---|---|---|---|---|---|\n",
       "| 89E7AA6C29227EFF | classic_bike  | 2021-02-12 16:14:56 | 2021-02-12 16:21:43 | Glenwood Ave &amp; Touhy Ave   | 525          | Sheridan Rd &amp; Columbia Ave | 660          | 42.01270 | -87.66606 | 42.00458 | -87.66141 | member |\n",
       "| 0FEFDE2603568365 | classic_bike  | 2021-02-14 17:52:38 | 2021-02-14 18:12:09 | Glenwood Ave &amp; Touhy Ave   | 525          | Bosworth Ave &amp; Howard St   | 16806        | 42.01270 | -87.66606 | 42.01954 | -87.66956 | casual |\n",
       "| E6159D746B2DBB91 | electric_bike | 2021-02-09 19:10:18 | 2021-02-09 19:19:10 | Clark St &amp; Lake St         | KA1503000012 | State St &amp; Randolph St     | TA1305000029 | 41.88579 | -87.63110 | 41.88487 | -87.62750 | member |\n",
       "| B32D3199F1C2E75B | classic_bike  | 2021-02-02 17:49:41 | 2021-02-02 17:54:06 | Wood St &amp; Chicago Ave      | 637          | Honore St &amp; Division St    | TA1305000034 | 41.89563 | -87.67207 | 41.90312 | -87.67394 | member |\n",
       "| 83E463F23575F4BF | electric_bike | 2021-02-23 15:07:23 | 2021-02-23 15:22:37 | State St &amp; 33rd St         | 13216        | Emerald Ave &amp; 31st St      | TA1309000055 | 41.83473 | -87.62583 | 41.83816 | -87.64512 | member |\n",
       "| BDAA7E3494E8D545 | electric_bike | 2021-02-24 15:43:33 | 2021-02-24 15:49:05 | Fairbanks St &amp; Superior St | 18003        | LaSalle Dr &amp; Huron St      | KP1705001026 | 41.89581 | -87.62025 | 41.89489 | -87.63198 | casual |\n",
       "\n"
      ],
      "text/plain": [
       "  ride_id          rideable_type started_at          ended_at           \n",
       "1 89E7AA6C29227EFF classic_bike  2021-02-12 16:14:56 2021-02-12 16:21:43\n",
       "2 0FEFDE2603568365 classic_bike  2021-02-14 17:52:38 2021-02-14 18:12:09\n",
       "3 E6159D746B2DBB91 electric_bike 2021-02-09 19:10:18 2021-02-09 19:19:10\n",
       "4 B32D3199F1C2E75B classic_bike  2021-02-02 17:49:41 2021-02-02 17:54:06\n",
       "5 83E463F23575F4BF electric_bike 2021-02-23 15:07:23 2021-02-23 15:22:37\n",
       "6 BDAA7E3494E8D545 electric_bike 2021-02-24 15:43:33 2021-02-24 15:49:05\n",
       "  start_station_name         start_station_id end_station_name          \n",
       "1 Glenwood Ave & Touhy Ave   525              Sheridan Rd & Columbia Ave\n",
       "2 Glenwood Ave & Touhy Ave   525              Bosworth Ave & Howard St  \n",
       "3 Clark St & Lake St         KA1503000012     State St & Randolph St    \n",
       "4 Wood St & Chicago Ave      637              Honore St & Division St   \n",
       "5 State St & 33rd St         13216            Emerald Ave & 31st St     \n",
       "6 Fairbanks St & Superior St 18003            LaSalle Dr & Huron St     \n",
       "  end_station_id start_lat start_lng end_lat  end_lng   member_casual\n",
       "1 660            42.01270  -87.66606 42.00458 -87.66141 member       \n",
       "2 16806          42.01270  -87.66606 42.01954 -87.66956 casual       \n",
       "3 TA1305000029   41.88579  -87.63110 41.88487 -87.62750 member       \n",
       "4 TA1305000034   41.89563  -87.67207 41.90312 -87.67394 member       \n",
       "5 TA1309000055   41.83473  -87.62583 41.83816 -87.64512 member       \n",
       "6 KP1705001026   41.89581  -87.62025 41.89489 -87.63198 casual       "
      ]
     },
     "metadata": {},
     "output_type": "display_data"
    },
    {
     "name": "stdout",
     "output_type": "stream",
     "text": [
      "[1] \"March 2021\"\n"
     ]
    },
    {
     "data": {
      "text/html": [
       "<table class=\"dataframe\">\n",
       "<caption>A tibble: 6 × 13</caption>\n",
       "<thead>\n",
       "\t<tr><th scope=col>ride_id</th><th scope=col>rideable_type</th><th scope=col>started_at</th><th scope=col>ended_at</th><th scope=col>start_station_name</th><th scope=col>start_station_id</th><th scope=col>end_station_name</th><th scope=col>end_station_id</th><th scope=col>start_lat</th><th scope=col>start_lng</th><th scope=col>end_lat</th><th scope=col>end_lng</th><th scope=col>member_casual</th></tr>\n",
       "\t<tr><th scope=col>&lt;chr&gt;</th><th scope=col>&lt;chr&gt;</th><th scope=col>&lt;dttm&gt;</th><th scope=col>&lt;dttm&gt;</th><th scope=col>&lt;chr&gt;</th><th scope=col>&lt;chr&gt;</th><th scope=col>&lt;chr&gt;</th><th scope=col>&lt;chr&gt;</th><th scope=col>&lt;dbl&gt;</th><th scope=col>&lt;dbl&gt;</th><th scope=col>&lt;dbl&gt;</th><th scope=col>&lt;dbl&gt;</th><th scope=col>&lt;chr&gt;</th></tr>\n",
       "</thead>\n",
       "<tbody>\n",
       "\t<tr><td>CFA86D4455AA1030</td><td>classic_bike</td><td>2021-03-16 08:32:30</td><td>2021-03-16 08:36:34</td><td>Humboldt Blvd &amp; Armitage Ave</td><td><span style=white-space:pre-wrap>15651       </span></td><td><span style=white-space:pre-wrap>Stave St &amp; Armitage Ave            </span></td><td><span style=white-space:pre-wrap>13266       </span></td><td>41.91751</td><td>-87.70181</td><td>41.91774</td><td>-87.69139</td><td>casual</td></tr>\n",
       "\t<tr><td>30D9DC61227D1AF3</td><td>classic_bike</td><td>2021-03-28 01:26:28</td><td>2021-03-28 01:36:55</td><td>Humboldt Blvd &amp; Armitage Ave</td><td><span style=white-space:pre-wrap>15651       </span></td><td>Central Park Ave &amp; Bloomingdale Ave</td><td><span style=white-space:pre-wrap>18017       </span></td><td>41.91751</td><td>-87.70181</td><td>41.91417</td><td>-87.71676</td><td>casual</td></tr>\n",
       "\t<tr><td>846D87A15682A284</td><td>classic_bike</td><td>2021-03-11 21:17:29</td><td>2021-03-11 21:33:53</td><td><span style=white-space:pre-wrap>Shields Ave &amp; 28th Pl       </span></td><td><span style=white-space:pre-wrap>15443       </span></td><td><span style=white-space:pre-wrap>Halsted St &amp; 35th St               </span></td><td>TA1308000043</td><td>41.84273</td><td>-87.63549</td><td>41.83066</td><td>-87.64717</td><td>casual</td></tr>\n",
       "\t<tr><td>994D05AA75A168F2</td><td>classic_bike</td><td>2021-03-11 13:26:42</td><td>2021-03-11 13:55:41</td><td>Winthrop Ave &amp; Lawrence Ave </td><td>TA1308000021</td><td><span style=white-space:pre-wrap>Broadway &amp; Sheridan Rd             </span></td><td><span style=white-space:pre-wrap>13323       </span></td><td>41.96881</td><td>-87.65766</td><td>41.95283</td><td>-87.64999</td><td>casual</td></tr>\n",
       "\t<tr><td>DF7464FBE92D8308</td><td>classic_bike</td><td>2021-03-21 09:09:37</td><td>2021-03-21 09:27:33</td><td><span style=white-space:pre-wrap>Glenwood Ave &amp; Touhy Ave    </span></td><td><span style=white-space:pre-wrap>525         </span></td><td><span style=white-space:pre-wrap>Chicago Ave &amp; Sheridan Rd          </span></td><td><span style=white-space:pre-wrap>E008        </span></td><td>42.01270</td><td>-87.66606</td><td>42.05049</td><td>-87.67782</td><td>casual</td></tr>\n",
       "\t<tr><td>CEBA8516FD17F8D8</td><td>classic_bike</td><td>2021-03-20 11:08:47</td><td>2021-03-20 11:29:39</td><td><span style=white-space:pre-wrap>Glenwood Ave &amp; Touhy Ave    </span></td><td><span style=white-space:pre-wrap>525         </span></td><td><span style=white-space:pre-wrap>Chicago Ave &amp; Sheridan Rd          </span></td><td><span style=white-space:pre-wrap>E008        </span></td><td>42.01270</td><td>-87.66606</td><td>42.05049</td><td>-87.67782</td><td>casual</td></tr>\n",
       "</tbody>\n",
       "</table>\n"
      ],
      "text/latex": [
       "A tibble: 6 × 13\n",
       "\\begin{tabular}{lllllllllllll}\n",
       " ride\\_id & rideable\\_type & started\\_at & ended\\_at & start\\_station\\_name & start\\_station\\_id & end\\_station\\_name & end\\_station\\_id & start\\_lat & start\\_lng & end\\_lat & end\\_lng & member\\_casual\\\\\n",
       " <chr> & <chr> & <dttm> & <dttm> & <chr> & <chr> & <chr> & <chr> & <dbl> & <dbl> & <dbl> & <dbl> & <chr>\\\\\n",
       "\\hline\n",
       "\t CFA86D4455AA1030 & classic\\_bike & 2021-03-16 08:32:30 & 2021-03-16 08:36:34 & Humboldt Blvd \\& Armitage Ave & 15651        & Stave St \\& Armitage Ave             & 13266        & 41.91751 & -87.70181 & 41.91774 & -87.69139 & casual\\\\\n",
       "\t 30D9DC61227D1AF3 & classic\\_bike & 2021-03-28 01:26:28 & 2021-03-28 01:36:55 & Humboldt Blvd \\& Armitage Ave & 15651        & Central Park Ave \\& Bloomingdale Ave & 18017        & 41.91751 & -87.70181 & 41.91417 & -87.71676 & casual\\\\\n",
       "\t 846D87A15682A284 & classic\\_bike & 2021-03-11 21:17:29 & 2021-03-11 21:33:53 & Shields Ave \\& 28th Pl        & 15443        & Halsted St \\& 35th St                & TA1308000043 & 41.84273 & -87.63549 & 41.83066 & -87.64717 & casual\\\\\n",
       "\t 994D05AA75A168F2 & classic\\_bike & 2021-03-11 13:26:42 & 2021-03-11 13:55:41 & Winthrop Ave \\& Lawrence Ave  & TA1308000021 & Broadway \\& Sheridan Rd              & 13323        & 41.96881 & -87.65766 & 41.95283 & -87.64999 & casual\\\\\n",
       "\t DF7464FBE92D8308 & classic\\_bike & 2021-03-21 09:09:37 & 2021-03-21 09:27:33 & Glenwood Ave \\& Touhy Ave     & 525          & Chicago Ave \\& Sheridan Rd           & E008         & 42.01270 & -87.66606 & 42.05049 & -87.67782 & casual\\\\\n",
       "\t CEBA8516FD17F8D8 & classic\\_bike & 2021-03-20 11:08:47 & 2021-03-20 11:29:39 & Glenwood Ave \\& Touhy Ave     & 525          & Chicago Ave \\& Sheridan Rd           & E008         & 42.01270 & -87.66606 & 42.05049 & -87.67782 & casual\\\\\n",
       "\\end{tabular}\n"
      ],
      "text/markdown": [
       "\n",
       "A tibble: 6 × 13\n",
       "\n",
       "| ride_id &lt;chr&gt; | rideable_type &lt;chr&gt; | started_at &lt;dttm&gt; | ended_at &lt;dttm&gt; | start_station_name &lt;chr&gt; | start_station_id &lt;chr&gt; | end_station_name &lt;chr&gt; | end_station_id &lt;chr&gt; | start_lat &lt;dbl&gt; | start_lng &lt;dbl&gt; | end_lat &lt;dbl&gt; | end_lng &lt;dbl&gt; | member_casual &lt;chr&gt; |\n",
       "|---|---|---|---|---|---|---|---|---|---|---|---|---|\n",
       "| CFA86D4455AA1030 | classic_bike | 2021-03-16 08:32:30 | 2021-03-16 08:36:34 | Humboldt Blvd &amp; Armitage Ave | 15651        | Stave St &amp; Armitage Ave             | 13266        | 41.91751 | -87.70181 | 41.91774 | -87.69139 | casual |\n",
       "| 30D9DC61227D1AF3 | classic_bike | 2021-03-28 01:26:28 | 2021-03-28 01:36:55 | Humboldt Blvd &amp; Armitage Ave | 15651        | Central Park Ave &amp; Bloomingdale Ave | 18017        | 41.91751 | -87.70181 | 41.91417 | -87.71676 | casual |\n",
       "| 846D87A15682A284 | classic_bike | 2021-03-11 21:17:29 | 2021-03-11 21:33:53 | Shields Ave &amp; 28th Pl        | 15443        | Halsted St &amp; 35th St                | TA1308000043 | 41.84273 | -87.63549 | 41.83066 | -87.64717 | casual |\n",
       "| 994D05AA75A168F2 | classic_bike | 2021-03-11 13:26:42 | 2021-03-11 13:55:41 | Winthrop Ave &amp; Lawrence Ave  | TA1308000021 | Broadway &amp; Sheridan Rd              | 13323        | 41.96881 | -87.65766 | 41.95283 | -87.64999 | casual |\n",
       "| DF7464FBE92D8308 | classic_bike | 2021-03-21 09:09:37 | 2021-03-21 09:27:33 | Glenwood Ave &amp; Touhy Ave     | 525          | Chicago Ave &amp; Sheridan Rd           | E008         | 42.01270 | -87.66606 | 42.05049 | -87.67782 | casual |\n",
       "| CEBA8516FD17F8D8 | classic_bike | 2021-03-20 11:08:47 | 2021-03-20 11:29:39 | Glenwood Ave &amp; Touhy Ave     | 525          | Chicago Ave &amp; Sheridan Rd           | E008         | 42.01270 | -87.66606 | 42.05049 | -87.67782 | casual |\n",
       "\n"
      ],
      "text/plain": [
       "  ride_id          rideable_type started_at          ended_at           \n",
       "1 CFA86D4455AA1030 classic_bike  2021-03-16 08:32:30 2021-03-16 08:36:34\n",
       "2 30D9DC61227D1AF3 classic_bike  2021-03-28 01:26:28 2021-03-28 01:36:55\n",
       "3 846D87A15682A284 classic_bike  2021-03-11 21:17:29 2021-03-11 21:33:53\n",
       "4 994D05AA75A168F2 classic_bike  2021-03-11 13:26:42 2021-03-11 13:55:41\n",
       "5 DF7464FBE92D8308 classic_bike  2021-03-21 09:09:37 2021-03-21 09:27:33\n",
       "6 CEBA8516FD17F8D8 classic_bike  2021-03-20 11:08:47 2021-03-20 11:29:39\n",
       "  start_station_name           start_station_id\n",
       "1 Humboldt Blvd & Armitage Ave 15651           \n",
       "2 Humboldt Blvd & Armitage Ave 15651           \n",
       "3 Shields Ave & 28th Pl        15443           \n",
       "4 Winthrop Ave & Lawrence Ave  TA1308000021    \n",
       "5 Glenwood Ave & Touhy Ave     525             \n",
       "6 Glenwood Ave & Touhy Ave     525             \n",
       "  end_station_name                    end_station_id start_lat start_lng\n",
       "1 Stave St & Armitage Ave             13266          41.91751  -87.70181\n",
       "2 Central Park Ave & Bloomingdale Ave 18017          41.91751  -87.70181\n",
       "3 Halsted St & 35th St                TA1308000043   41.84273  -87.63549\n",
       "4 Broadway & Sheridan Rd              13323          41.96881  -87.65766\n",
       "5 Chicago Ave & Sheridan Rd           E008           42.01270  -87.66606\n",
       "6 Chicago Ave & Sheridan Rd           E008           42.01270  -87.66606\n",
       "  end_lat  end_lng   member_casual\n",
       "1 41.91774 -87.69139 casual       \n",
       "2 41.91417 -87.71676 casual       \n",
       "3 41.83066 -87.64717 casual       \n",
       "4 41.95283 -87.64999 casual       \n",
       "5 42.05049 -87.67782 casual       \n",
       "6 42.05049 -87.67782 casual       "
      ]
     },
     "metadata": {},
     "output_type": "display_data"
    }
   ],
   "source": [
    "print(\"April 2020\")\n",
    "head(apr20)\n",
    "print(\"May 2020\")\n",
    "head(may20)\n",
    "print(\"June 2020\")\n",
    "head(jun20)\n",
    "print(\"July 2020\")\n",
    "head(jul20)\n",
    "print(\"August 2020\")\n",
    "head(aug20)\n",
    "print(\"September 2020\")\n",
    "head(sept20)\n",
    "print(\"October 2020\")\n",
    "head(oct20)\n",
    "print(\"November 2020\")\n",
    "head(nov20)\n",
    "print(\"December 2020\")\n",
    "head(dec20)\n",
    "print(\"January 2021\")\n",
    "head(jan21)\n",
    "print(\"Febuary 2021\")\n",
    "head(feb21)\n",
    "print(\"March 2021\")\n",
    "head(mar21)\n"
   ]
  },
  {
   "cell_type": "markdown",
   "id": "617664d9",
   "metadata": {
    "papermill": {
     "duration": 0.061541,
     "end_time": "2021-06-13T14:00:47.796049",
     "exception": false,
     "start_time": "2021-06-13T14:00:47.734508",
     "status": "completed"
    },
    "tags": []
   },
   "source": [
    "# Process \n",
    "### Cleaning and Transforming Data"
   ]
  },
  {
   "cell_type": "markdown",
   "id": "b400069e",
   "metadata": {
    "papermill": {
     "duration": 0.060877,
     "end_time": "2021-06-13T14:00:47.918483",
     "exception": false,
     "start_time": "2021-06-13T14:00:47.857606",
     "status": "completed"
    },
    "tags": []
   },
   "source": [
    "Some of the coloumns in each table have different data type, we will be changing them here by using mutate function. So that all of them are of the same type, this will help us in combining the tables in one single Dataframe."
   ]
  },
  {
   "cell_type": "code",
   "execution_count": 6,
   "id": "5de7c438",
   "metadata": {
    "execution": {
     "iopub.execute_input": "2021-06-13T14:00:48.047085Z",
     "iopub.status.busy": "2021-06-13T14:00:48.045127Z",
     "iopub.status.idle": "2021-06-13T14:00:48.130332Z",
     "shell.execute_reply": "2021-06-13T14:00:48.126855Z"
    },
    "papermill": {
     "duration": 0.150626,
     "end_time": "2021-06-13T14:00:48.130559",
     "exception": false,
     "start_time": "2021-06-13T14:00:47.979933",
     "status": "completed"
    },
    "tags": []
   },
   "outputs": [],
   "source": [
    "apr20 <-  mutate(apr20, start_station_id = as.character(start_station_id)\n",
    "                       ,end_station_id = as.character(end_station_id)) \n",
    "\n",
    "may20 <-  mutate(may20, start_station_id = as.character(start_station_id)\n",
    "                       ,end_station_id = as.character(end_station_id)) \n",
    "\n",
    "jun20 <-  mutate(jun20, start_station_id = as.character(start_station_id)\n",
    "                       ,end_station_id = as.character(end_station_id)) \n",
    "\n",
    "jul20 <-  mutate(jul20, start_station_id = as.character(start_station_id)\n",
    "                       ,end_station_id = as.character(end_station_id)) \n",
    "\n",
    "aug20 <-  mutate(aug20, start_station_id = as.character(start_station_id)\n",
    "                       ,end_station_id = as.character(end_station_id)) \n",
    "\n",
    "sept20 <-  mutate(sept20, start_station_id = as.character(start_station_id)\n",
    "                       ,end_station_id = as.character(end_station_id)) \n",
    "\n",
    "oct20 <-  mutate(oct20, start_station_id = as.character(start_station_id)\n",
    "                       ,end_station_id = as.character(end_station_id)) \n",
    "\n",
    "nov20 <-  mutate(nov20, start_station_id = as.character(start_station_id)\n",
    "                       ,end_station_id = as.character(end_station_id)) \n",
    "\n"
   ]
  },
  {
   "cell_type": "markdown",
   "id": "65ec95ba",
   "metadata": {
    "papermill": {
     "duration": 0.061188,
     "end_time": "2021-06-13T14:00:48.253024",
     "exception": false,
     "start_time": "2021-06-13T14:00:48.191836",
     "status": "completed"
    },
    "tags": []
   },
   "source": [
    "**Binding (combining) all the monthly datasets**"
   ]
  },
  {
   "cell_type": "code",
   "execution_count": 7,
   "id": "fcdbf9d2",
   "metadata": {
    "execution": {
     "iopub.execute_input": "2021-06-13T14:00:48.382933Z",
     "iopub.status.busy": "2021-06-13T14:00:48.380520Z",
     "iopub.status.idle": "2021-06-13T14:00:58.559055Z",
     "shell.execute_reply": "2021-06-13T14:00:58.557759Z"
    },
    "papermill": {
     "duration": 10.245069,
     "end_time": "2021-06-13T14:00:58.559370",
     "exception": false,
     "start_time": "2021-06-13T14:00:48.314301",
     "status": "completed"
    },
    "tags": []
   },
   "outputs": [],
   "source": [
    "trips <- bind_rows(apr20, may20, jun20, jul20, aug20, sept20, \n",
    "                   oct20, nov20, dec20, jan21, feb21, mar21)"
   ]
  },
  {
   "cell_type": "markdown",
   "id": "1697a754",
   "metadata": {
    "papermill": {
     "duration": 0.061677,
     "end_time": "2021-06-13T14:00:58.682396",
     "exception": false,
     "start_time": "2021-06-13T14:00:58.620719",
     "status": "completed"
    },
    "tags": []
   },
   "source": [
    "**Adding a new column in the dataset, that calculates the length of the time each member rode the bikes.**"
   ]
  },
  {
   "cell_type": "code",
   "execution_count": 8,
   "id": "d076f405",
   "metadata": {
    "execution": {
     "iopub.execute_input": "2021-06-13T14:00:58.808251Z",
     "iopub.status.busy": "2021-06-13T14:00:58.807064Z",
     "iopub.status.idle": "2021-06-13T14:00:58.886461Z",
     "shell.execute_reply": "2021-06-13T14:00:58.885260Z"
    },
    "papermill": {
     "duration": 0.143789,
     "end_time": "2021-06-13T14:00:58.886617",
     "exception": false,
     "start_time": "2021-06-13T14:00:58.742828",
     "status": "completed"
    },
    "tags": []
   },
   "outputs": [
    {
     "data": {
      "text/html": [
       "<table class=\"dataframe\">\n",
       "<caption>A tibble: 6 × 14</caption>\n",
       "<thead>\n",
       "\t<tr><th scope=col>ride_id</th><th scope=col>rideable_type</th><th scope=col>started_at</th><th scope=col>ended_at</th><th scope=col>start_station_name</th><th scope=col>start_station_id</th><th scope=col>end_station_name</th><th scope=col>end_station_id</th><th scope=col>start_lat</th><th scope=col>start_lng</th><th scope=col>end_lat</th><th scope=col>end_lng</th><th scope=col>member_casual</th><th scope=col>ride_len</th></tr>\n",
       "\t<tr><th scope=col>&lt;chr&gt;</th><th scope=col>&lt;chr&gt;</th><th scope=col>&lt;dttm&gt;</th><th scope=col>&lt;dttm&gt;</th><th scope=col>&lt;chr&gt;</th><th scope=col>&lt;chr&gt;</th><th scope=col>&lt;chr&gt;</th><th scope=col>&lt;chr&gt;</th><th scope=col>&lt;dbl&gt;</th><th scope=col>&lt;dbl&gt;</th><th scope=col>&lt;dbl&gt;</th><th scope=col>&lt;dbl&gt;</th><th scope=col>&lt;chr&gt;</th><th scope=col>&lt;drtn&gt;</th></tr>\n",
       "</thead>\n",
       "<tbody>\n",
       "\t<tr><td>A847FADBBC638E45</td><td>docked_bike</td><td>2020-04-26 17:45:14</td><td>2020-04-26 18:12:03</td><td><span style=white-space:pre-wrap>Eckhart Park                       </span></td><td>86 </td><td>Lincoln Ave &amp; Diversey Pkwy</td><td>152</td><td>41.8964</td><td>-87.6610</td><td>41.9322</td><td>-87.6586</td><td>member</td><td>26.81667 mins</td></tr>\n",
       "\t<tr><td>5405B80E996FF60D</td><td>docked_bike</td><td>2020-04-17 17:08:54</td><td>2020-04-17 17:17:03</td><td><span style=white-space:pre-wrap>Drake Ave &amp; Fullerton Ave          </span></td><td>503</td><td><span style=white-space:pre-wrap>Kosciuszko Park            </span></td><td>499</td><td>41.9244</td><td>-87.7154</td><td>41.9306</td><td>-87.7238</td><td>member</td><td> 8.15000 mins</td></tr>\n",
       "\t<tr><td>5DD24A79A4E006F4</td><td>docked_bike</td><td>2020-04-01 17:54:13</td><td>2020-04-01 18:08:36</td><td><span style=white-space:pre-wrap>McClurg Ct &amp; Erie St               </span></td><td>142</td><td>Indiana Ave &amp; Roosevelt Rd </td><td>255</td><td>41.8945</td><td>-87.6179</td><td>41.8679</td><td>-87.6230</td><td>member</td><td>14.38333 mins</td></tr>\n",
       "\t<tr><td>2A59BBDF5CDBA725</td><td>docked_bike</td><td>2020-04-07 12:50:19</td><td>2020-04-07 13:02:31</td><td><span style=white-space:pre-wrap>California Ave &amp; Division St       </span></td><td>216</td><td><span style=white-space:pre-wrap>Wood St &amp; Augusta Blvd     </span></td><td>657</td><td>41.9030</td><td>-87.6975</td><td>41.8992</td><td>-87.6722</td><td>member</td><td>12.20000 mins</td></tr>\n",
       "\t<tr><td>27AD306C119C6158</td><td>docked_bike</td><td>2020-04-18 10:22:59</td><td>2020-04-18 11:15:54</td><td><span style=white-space:pre-wrap>Rush St &amp; Hubbard St               </span></td><td>125</td><td>Sheridan Rd &amp; Lawrence Ave </td><td>323</td><td>41.8902</td><td>-87.6262</td><td>41.9695</td><td>-87.6547</td><td>casual</td><td>52.91667 mins</td></tr>\n",
       "\t<tr><td>356216E875132F61</td><td>docked_bike</td><td>2020-04-30 17:55:47</td><td>2020-04-30 18:01:11</td><td>Mies van der Rohe Way &amp; Chicago Ave</td><td>173</td><td><span style=white-space:pre-wrap>Streeter Dr &amp; Grand Ave    </span></td><td>35 </td><td>41.8969</td><td>-87.6217</td><td>41.8923</td><td>-87.6120</td><td>member</td><td> 5.40000 mins</td></tr>\n",
       "</tbody>\n",
       "</table>\n"
      ],
      "text/latex": [
       "A tibble: 6 × 14\n",
       "\\begin{tabular}{llllllllllllll}\n",
       " ride\\_id & rideable\\_type & started\\_at & ended\\_at & start\\_station\\_name & start\\_station\\_id & end\\_station\\_name & end\\_station\\_id & start\\_lat & start\\_lng & end\\_lat & end\\_lng & member\\_casual & ride\\_len\\\\\n",
       " <chr> & <chr> & <dttm> & <dttm> & <chr> & <chr> & <chr> & <chr> & <dbl> & <dbl> & <dbl> & <dbl> & <chr> & <drtn>\\\\\n",
       "\\hline\n",
       "\t A847FADBBC638E45 & docked\\_bike & 2020-04-26 17:45:14 & 2020-04-26 18:12:03 & Eckhart Park                        & 86  & Lincoln Ave \\& Diversey Pkwy & 152 & 41.8964 & -87.6610 & 41.9322 & -87.6586 & member & 26.81667 mins\\\\\n",
       "\t 5405B80E996FF60D & docked\\_bike & 2020-04-17 17:08:54 & 2020-04-17 17:17:03 & Drake Ave \\& Fullerton Ave           & 503 & Kosciuszko Park             & 499 & 41.9244 & -87.7154 & 41.9306 & -87.7238 & member &  8.15000 mins\\\\\n",
       "\t 5DD24A79A4E006F4 & docked\\_bike & 2020-04-01 17:54:13 & 2020-04-01 18:08:36 & McClurg Ct \\& Erie St                & 142 & Indiana Ave \\& Roosevelt Rd  & 255 & 41.8945 & -87.6179 & 41.8679 & -87.6230 & member & 14.38333 mins\\\\\n",
       "\t 2A59BBDF5CDBA725 & docked\\_bike & 2020-04-07 12:50:19 & 2020-04-07 13:02:31 & California Ave \\& Division St        & 216 & Wood St \\& Augusta Blvd      & 657 & 41.9030 & -87.6975 & 41.8992 & -87.6722 & member & 12.20000 mins\\\\\n",
       "\t 27AD306C119C6158 & docked\\_bike & 2020-04-18 10:22:59 & 2020-04-18 11:15:54 & Rush St \\& Hubbard St                & 125 & Sheridan Rd \\& Lawrence Ave  & 323 & 41.8902 & -87.6262 & 41.9695 & -87.6547 & casual & 52.91667 mins\\\\\n",
       "\t 356216E875132F61 & docked\\_bike & 2020-04-30 17:55:47 & 2020-04-30 18:01:11 & Mies van der Rohe Way \\& Chicago Ave & 173 & Streeter Dr \\& Grand Ave     & 35  & 41.8969 & -87.6217 & 41.8923 & -87.6120 & member &  5.40000 mins\\\\\n",
       "\\end{tabular}\n"
      ],
      "text/markdown": [
       "\n",
       "A tibble: 6 × 14\n",
       "\n",
       "| ride_id &lt;chr&gt; | rideable_type &lt;chr&gt; | started_at &lt;dttm&gt; | ended_at &lt;dttm&gt; | start_station_name &lt;chr&gt; | start_station_id &lt;chr&gt; | end_station_name &lt;chr&gt; | end_station_id &lt;chr&gt; | start_lat &lt;dbl&gt; | start_lng &lt;dbl&gt; | end_lat &lt;dbl&gt; | end_lng &lt;dbl&gt; | member_casual &lt;chr&gt; | ride_len &lt;drtn&gt; |\n",
       "|---|---|---|---|---|---|---|---|---|---|---|---|---|---|\n",
       "| A847FADBBC638E45 | docked_bike | 2020-04-26 17:45:14 | 2020-04-26 18:12:03 | Eckhart Park                        | 86  | Lincoln Ave &amp; Diversey Pkwy | 152 | 41.8964 | -87.6610 | 41.9322 | -87.6586 | member | 26.81667 mins |\n",
       "| 5405B80E996FF60D | docked_bike | 2020-04-17 17:08:54 | 2020-04-17 17:17:03 | Drake Ave &amp; Fullerton Ave           | 503 | Kosciuszko Park             | 499 | 41.9244 | -87.7154 | 41.9306 | -87.7238 | member |  8.15000 mins |\n",
       "| 5DD24A79A4E006F4 | docked_bike | 2020-04-01 17:54:13 | 2020-04-01 18:08:36 | McClurg Ct &amp; Erie St                | 142 | Indiana Ave &amp; Roosevelt Rd  | 255 | 41.8945 | -87.6179 | 41.8679 | -87.6230 | member | 14.38333 mins |\n",
       "| 2A59BBDF5CDBA725 | docked_bike | 2020-04-07 12:50:19 | 2020-04-07 13:02:31 | California Ave &amp; Division St        | 216 | Wood St &amp; Augusta Blvd      | 657 | 41.9030 | -87.6975 | 41.8992 | -87.6722 | member | 12.20000 mins |\n",
       "| 27AD306C119C6158 | docked_bike | 2020-04-18 10:22:59 | 2020-04-18 11:15:54 | Rush St &amp; Hubbard St                | 125 | Sheridan Rd &amp; Lawrence Ave  | 323 | 41.8902 | -87.6262 | 41.9695 | -87.6547 | casual | 52.91667 mins |\n",
       "| 356216E875132F61 | docked_bike | 2020-04-30 17:55:47 | 2020-04-30 18:01:11 | Mies van der Rohe Way &amp; Chicago Ave | 173 | Streeter Dr &amp; Grand Ave     | 35  | 41.8969 | -87.6217 | 41.8923 | -87.6120 | member |  5.40000 mins |\n",
       "\n"
      ],
      "text/plain": [
       "  ride_id          rideable_type started_at          ended_at           \n",
       "1 A847FADBBC638E45 docked_bike   2020-04-26 17:45:14 2020-04-26 18:12:03\n",
       "2 5405B80E996FF60D docked_bike   2020-04-17 17:08:54 2020-04-17 17:17:03\n",
       "3 5DD24A79A4E006F4 docked_bike   2020-04-01 17:54:13 2020-04-01 18:08:36\n",
       "4 2A59BBDF5CDBA725 docked_bike   2020-04-07 12:50:19 2020-04-07 13:02:31\n",
       "5 27AD306C119C6158 docked_bike   2020-04-18 10:22:59 2020-04-18 11:15:54\n",
       "6 356216E875132F61 docked_bike   2020-04-30 17:55:47 2020-04-30 18:01:11\n",
       "  start_station_name                  start_station_id\n",
       "1 Eckhart Park                        86              \n",
       "2 Drake Ave & Fullerton Ave           503             \n",
       "3 McClurg Ct & Erie St                142             \n",
       "4 California Ave & Division St        216             \n",
       "5 Rush St & Hubbard St                125             \n",
       "6 Mies van der Rohe Way & Chicago Ave 173             \n",
       "  end_station_name            end_station_id start_lat start_lng end_lat\n",
       "1 Lincoln Ave & Diversey Pkwy 152            41.8964   -87.6610  41.9322\n",
       "2 Kosciuszko Park             499            41.9244   -87.7154  41.9306\n",
       "3 Indiana Ave & Roosevelt Rd  255            41.8945   -87.6179  41.8679\n",
       "4 Wood St & Augusta Blvd      657            41.9030   -87.6975  41.8992\n",
       "5 Sheridan Rd & Lawrence Ave  323            41.8902   -87.6262  41.9695\n",
       "6 Streeter Dr & Grand Ave     35             41.8969   -87.6217  41.8923\n",
       "  end_lng  member_casual ride_len     \n",
       "1 -87.6586 member        26.81667 mins\n",
       "2 -87.7238 member         8.15000 mins\n",
       "3 -87.6230 member        14.38333 mins\n",
       "4 -87.6722 member        12.20000 mins\n",
       "5 -87.6547 casual        52.91667 mins\n",
       "6 -87.6120 member         5.40000 mins"
      ]
     },
     "metadata": {},
     "output_type": "display_data"
    }
   ],
   "source": [
    "trips <- trips %>%\n",
    "    mutate(ride_len = difftime(ended_at, started_at, units = \"mins\"))\n",
    "\n",
    "head(trips)"
   ]
  },
  {
   "cell_type": "markdown",
   "id": "07c9f5f5",
   "metadata": {
    "papermill": {
     "duration": 0.061124,
     "end_time": "2021-06-13T14:00:59.009650",
     "exception": false,
     "start_time": "2021-06-13T14:00:58.948526",
     "status": "completed"
    },
    "tags": []
   },
   "source": [
    "**Adding a new columns as weekday, date, month, day and year which tells which day was it of the week,** \n",
    "\n",
    "_1=Monday, 2=Tuesday, 3=Wednesday, 4=Thursday, 5=Friday, 6= Saturday, 7=Sunday_"
   ]
  },
  {
   "cell_type": "code",
   "execution_count": 9,
   "id": "ad5f49f4",
   "metadata": {
    "execution": {
     "iopub.execute_input": "2021-06-13T14:00:59.138335Z",
     "iopub.status.busy": "2021-06-13T14:00:59.136993Z",
     "iopub.status.idle": "2021-06-13T14:01:01.924848Z",
     "shell.execute_reply": "2021-06-13T14:01:01.923565Z"
    },
    "papermill": {
     "duration": 2.85341,
     "end_time": "2021-06-13T14:01:01.924987",
     "exception": false,
     "start_time": "2021-06-13T14:00:59.071577",
     "status": "completed"
    },
    "tags": []
   },
   "outputs": [],
   "source": [
    "trips <- trips %>%\n",
    "    mutate(weekday = as.numeric(format(trips$started_at, format = \"%u\")))\n"
   ]
  },
  {
   "cell_type": "code",
   "execution_count": 10,
   "id": "64409657",
   "metadata": {
    "execution": {
     "iopub.execute_input": "2021-06-13T14:01:02.054921Z",
     "iopub.status.busy": "2021-06-13T14:01:02.053670Z",
     "iopub.status.idle": "2021-06-13T14:01:05.959441Z",
     "shell.execute_reply": "2021-06-13T14:01:05.958180Z"
    },
    "papermill": {
     "duration": 3.972504,
     "end_time": "2021-06-13T14:01:05.959669",
     "exception": false,
     "start_time": "2021-06-13T14:01:01.987165",
     "status": "completed"
    },
    "tags": []
   },
   "outputs": [
    {
     "data": {
      "text/html": [
       "<table class=\"dataframe\">\n",
       "<caption>A tibble: 6 × 19</caption>\n",
       "<thead>\n",
       "\t<tr><th scope=col>ride_id</th><th scope=col>rideable_type</th><th scope=col>started_at</th><th scope=col>ended_at</th><th scope=col>start_station_name</th><th scope=col>start_station_id</th><th scope=col>end_station_name</th><th scope=col>end_station_id</th><th scope=col>start_lat</th><th scope=col>start_lng</th><th scope=col>end_lat</th><th scope=col>end_lng</th><th scope=col>member_casual</th><th scope=col>ride_len</th><th scope=col>weekday</th><th scope=col>date</th><th scope=col>month</th><th scope=col>day</th><th scope=col>year</th></tr>\n",
       "\t<tr><th scope=col>&lt;chr&gt;</th><th scope=col>&lt;chr&gt;</th><th scope=col>&lt;dttm&gt;</th><th scope=col>&lt;dttm&gt;</th><th scope=col>&lt;chr&gt;</th><th scope=col>&lt;chr&gt;</th><th scope=col>&lt;chr&gt;</th><th scope=col>&lt;chr&gt;</th><th scope=col>&lt;dbl&gt;</th><th scope=col>&lt;dbl&gt;</th><th scope=col>&lt;dbl&gt;</th><th scope=col>&lt;dbl&gt;</th><th scope=col>&lt;chr&gt;</th><th scope=col>&lt;drtn&gt;</th><th scope=col>&lt;dbl&gt;</th><th scope=col>&lt;date&gt;</th><th scope=col>&lt;yearmon&gt;</th><th scope=col>&lt;chr&gt;</th><th scope=col>&lt;chr&gt;</th></tr>\n",
       "</thead>\n",
       "<tbody>\n",
       "\t<tr><td>A847FADBBC638E45</td><td>docked_bike</td><td>2020-04-26 17:45:14</td><td>2020-04-26 18:12:03</td><td><span style=white-space:pre-wrap>Eckhart Park                       </span></td><td>86 </td><td>Lincoln Ave &amp; Diversey Pkwy</td><td>152</td><td>41.8964</td><td>-87.6610</td><td>41.9322</td><td>-87.6586</td><td>member</td><td>26.81667 mins</td><td>7</td><td>2020-04-26</td><td>Apr 2020</td><td>26</td><td>2020</td></tr>\n",
       "\t<tr><td>5405B80E996FF60D</td><td>docked_bike</td><td>2020-04-17 17:08:54</td><td>2020-04-17 17:17:03</td><td><span style=white-space:pre-wrap>Drake Ave &amp; Fullerton Ave          </span></td><td>503</td><td><span style=white-space:pre-wrap>Kosciuszko Park            </span></td><td>499</td><td>41.9244</td><td>-87.7154</td><td>41.9306</td><td>-87.7238</td><td>member</td><td> 8.15000 mins</td><td>5</td><td>2020-04-17</td><td>Apr 2020</td><td>17</td><td>2020</td></tr>\n",
       "\t<tr><td>5DD24A79A4E006F4</td><td>docked_bike</td><td>2020-04-01 17:54:13</td><td>2020-04-01 18:08:36</td><td><span style=white-space:pre-wrap>McClurg Ct &amp; Erie St               </span></td><td>142</td><td>Indiana Ave &amp; Roosevelt Rd </td><td>255</td><td>41.8945</td><td>-87.6179</td><td>41.8679</td><td>-87.6230</td><td>member</td><td>14.38333 mins</td><td>3</td><td>2020-04-01</td><td>Apr 2020</td><td>01</td><td>2020</td></tr>\n",
       "\t<tr><td>2A59BBDF5CDBA725</td><td>docked_bike</td><td>2020-04-07 12:50:19</td><td>2020-04-07 13:02:31</td><td><span style=white-space:pre-wrap>California Ave &amp; Division St       </span></td><td>216</td><td><span style=white-space:pre-wrap>Wood St &amp; Augusta Blvd     </span></td><td>657</td><td>41.9030</td><td>-87.6975</td><td>41.8992</td><td>-87.6722</td><td>member</td><td>12.20000 mins</td><td>2</td><td>2020-04-07</td><td>Apr 2020</td><td>07</td><td>2020</td></tr>\n",
       "\t<tr><td>27AD306C119C6158</td><td>docked_bike</td><td>2020-04-18 10:22:59</td><td>2020-04-18 11:15:54</td><td><span style=white-space:pre-wrap>Rush St &amp; Hubbard St               </span></td><td>125</td><td>Sheridan Rd &amp; Lawrence Ave </td><td>323</td><td>41.8902</td><td>-87.6262</td><td>41.9695</td><td>-87.6547</td><td>casual</td><td>52.91667 mins</td><td>6</td><td>2020-04-18</td><td>Apr 2020</td><td>18</td><td>2020</td></tr>\n",
       "\t<tr><td>356216E875132F61</td><td>docked_bike</td><td>2020-04-30 17:55:47</td><td>2020-04-30 18:01:11</td><td>Mies van der Rohe Way &amp; Chicago Ave</td><td>173</td><td><span style=white-space:pre-wrap>Streeter Dr &amp; Grand Ave    </span></td><td>35 </td><td>41.8969</td><td>-87.6217</td><td>41.8923</td><td>-87.6120</td><td>member</td><td> 5.40000 mins</td><td>4</td><td>2020-04-30</td><td>Apr 2020</td><td>30</td><td>2020</td></tr>\n",
       "</tbody>\n",
       "</table>\n"
      ],
      "text/latex": [
       "A tibble: 6 × 19\n",
       "\\begin{tabular}{lllllllllllllllllll}\n",
       " ride\\_id & rideable\\_type & started\\_at & ended\\_at & start\\_station\\_name & start\\_station\\_id & end\\_station\\_name & end\\_station\\_id & start\\_lat & start\\_lng & end\\_lat & end\\_lng & member\\_casual & ride\\_len & weekday & date & month & day & year\\\\\n",
       " <chr> & <chr> & <dttm> & <dttm> & <chr> & <chr> & <chr> & <chr> & <dbl> & <dbl> & <dbl> & <dbl> & <chr> & <drtn> & <dbl> & <date> & <yearmon> & <chr> & <chr>\\\\\n",
       "\\hline\n",
       "\t A847FADBBC638E45 & docked\\_bike & 2020-04-26 17:45:14 & 2020-04-26 18:12:03 & Eckhart Park                        & 86  & Lincoln Ave \\& Diversey Pkwy & 152 & 41.8964 & -87.6610 & 41.9322 & -87.6586 & member & 26.81667 mins & 7 & 2020-04-26 & Apr 2020 & 26 & 2020\\\\\n",
       "\t 5405B80E996FF60D & docked\\_bike & 2020-04-17 17:08:54 & 2020-04-17 17:17:03 & Drake Ave \\& Fullerton Ave           & 503 & Kosciuszko Park             & 499 & 41.9244 & -87.7154 & 41.9306 & -87.7238 & member &  8.15000 mins & 5 & 2020-04-17 & Apr 2020 & 17 & 2020\\\\\n",
       "\t 5DD24A79A4E006F4 & docked\\_bike & 2020-04-01 17:54:13 & 2020-04-01 18:08:36 & McClurg Ct \\& Erie St                & 142 & Indiana Ave \\& Roosevelt Rd  & 255 & 41.8945 & -87.6179 & 41.8679 & -87.6230 & member & 14.38333 mins & 3 & 2020-04-01 & Apr 2020 & 01 & 2020\\\\\n",
       "\t 2A59BBDF5CDBA725 & docked\\_bike & 2020-04-07 12:50:19 & 2020-04-07 13:02:31 & California Ave \\& Division St        & 216 & Wood St \\& Augusta Blvd      & 657 & 41.9030 & -87.6975 & 41.8992 & -87.6722 & member & 12.20000 mins & 2 & 2020-04-07 & Apr 2020 & 07 & 2020\\\\\n",
       "\t 27AD306C119C6158 & docked\\_bike & 2020-04-18 10:22:59 & 2020-04-18 11:15:54 & Rush St \\& Hubbard St                & 125 & Sheridan Rd \\& Lawrence Ave  & 323 & 41.8902 & -87.6262 & 41.9695 & -87.6547 & casual & 52.91667 mins & 6 & 2020-04-18 & Apr 2020 & 18 & 2020\\\\\n",
       "\t 356216E875132F61 & docked\\_bike & 2020-04-30 17:55:47 & 2020-04-30 18:01:11 & Mies van der Rohe Way \\& Chicago Ave & 173 & Streeter Dr \\& Grand Ave     & 35  & 41.8969 & -87.6217 & 41.8923 & -87.6120 & member &  5.40000 mins & 4 & 2020-04-30 & Apr 2020 & 30 & 2020\\\\\n",
       "\\end{tabular}\n"
      ],
      "text/markdown": [
       "\n",
       "A tibble: 6 × 19\n",
       "\n",
       "| ride_id &lt;chr&gt; | rideable_type &lt;chr&gt; | started_at &lt;dttm&gt; | ended_at &lt;dttm&gt; | start_station_name &lt;chr&gt; | start_station_id &lt;chr&gt; | end_station_name &lt;chr&gt; | end_station_id &lt;chr&gt; | start_lat &lt;dbl&gt; | start_lng &lt;dbl&gt; | end_lat &lt;dbl&gt; | end_lng &lt;dbl&gt; | member_casual &lt;chr&gt; | ride_len &lt;drtn&gt; | weekday &lt;dbl&gt; | date &lt;date&gt; | month &lt;yearmon&gt; | day &lt;chr&gt; | year &lt;chr&gt; |\n",
       "|---|---|---|---|---|---|---|---|---|---|---|---|---|---|---|---|---|---|---|\n",
       "| A847FADBBC638E45 | docked_bike | 2020-04-26 17:45:14 | 2020-04-26 18:12:03 | Eckhart Park                        | 86  | Lincoln Ave &amp; Diversey Pkwy | 152 | 41.8964 | -87.6610 | 41.9322 | -87.6586 | member | 26.81667 mins | 7 | 2020-04-26 | Apr 2020 | 26 | 2020 |\n",
       "| 5405B80E996FF60D | docked_bike | 2020-04-17 17:08:54 | 2020-04-17 17:17:03 | Drake Ave &amp; Fullerton Ave           | 503 | Kosciuszko Park             | 499 | 41.9244 | -87.7154 | 41.9306 | -87.7238 | member |  8.15000 mins | 5 | 2020-04-17 | Apr 2020 | 17 | 2020 |\n",
       "| 5DD24A79A4E006F4 | docked_bike | 2020-04-01 17:54:13 | 2020-04-01 18:08:36 | McClurg Ct &amp; Erie St                | 142 | Indiana Ave &amp; Roosevelt Rd  | 255 | 41.8945 | -87.6179 | 41.8679 | -87.6230 | member | 14.38333 mins | 3 | 2020-04-01 | Apr 2020 | 01 | 2020 |\n",
       "| 2A59BBDF5CDBA725 | docked_bike | 2020-04-07 12:50:19 | 2020-04-07 13:02:31 | California Ave &amp; Division St        | 216 | Wood St &amp; Augusta Blvd      | 657 | 41.9030 | -87.6975 | 41.8992 | -87.6722 | member | 12.20000 mins | 2 | 2020-04-07 | Apr 2020 | 07 | 2020 |\n",
       "| 27AD306C119C6158 | docked_bike | 2020-04-18 10:22:59 | 2020-04-18 11:15:54 | Rush St &amp; Hubbard St                | 125 | Sheridan Rd &amp; Lawrence Ave  | 323 | 41.8902 | -87.6262 | 41.9695 | -87.6547 | casual | 52.91667 mins | 6 | 2020-04-18 | Apr 2020 | 18 | 2020 |\n",
       "| 356216E875132F61 | docked_bike | 2020-04-30 17:55:47 | 2020-04-30 18:01:11 | Mies van der Rohe Way &amp; Chicago Ave | 173 | Streeter Dr &amp; Grand Ave     | 35  | 41.8969 | -87.6217 | 41.8923 | -87.6120 | member |  5.40000 mins | 4 | 2020-04-30 | Apr 2020 | 30 | 2020 |\n",
       "\n"
      ],
      "text/plain": [
       "  ride_id          rideable_type started_at          ended_at           \n",
       "1 A847FADBBC638E45 docked_bike   2020-04-26 17:45:14 2020-04-26 18:12:03\n",
       "2 5405B80E996FF60D docked_bike   2020-04-17 17:08:54 2020-04-17 17:17:03\n",
       "3 5DD24A79A4E006F4 docked_bike   2020-04-01 17:54:13 2020-04-01 18:08:36\n",
       "4 2A59BBDF5CDBA725 docked_bike   2020-04-07 12:50:19 2020-04-07 13:02:31\n",
       "5 27AD306C119C6158 docked_bike   2020-04-18 10:22:59 2020-04-18 11:15:54\n",
       "6 356216E875132F61 docked_bike   2020-04-30 17:55:47 2020-04-30 18:01:11\n",
       "  start_station_name                  start_station_id\n",
       "1 Eckhart Park                        86              \n",
       "2 Drake Ave & Fullerton Ave           503             \n",
       "3 McClurg Ct & Erie St                142             \n",
       "4 California Ave & Division St        216             \n",
       "5 Rush St & Hubbard St                125             \n",
       "6 Mies van der Rohe Way & Chicago Ave 173             \n",
       "  end_station_name            end_station_id start_lat start_lng end_lat\n",
       "1 Lincoln Ave & Diversey Pkwy 152            41.8964   -87.6610  41.9322\n",
       "2 Kosciuszko Park             499            41.9244   -87.7154  41.9306\n",
       "3 Indiana Ave & Roosevelt Rd  255            41.8945   -87.6179  41.8679\n",
       "4 Wood St & Augusta Blvd      657            41.9030   -87.6975  41.8992\n",
       "5 Sheridan Rd & Lawrence Ave  323            41.8902   -87.6262  41.9695\n",
       "6 Streeter Dr & Grand Ave     35             41.8969   -87.6217  41.8923\n",
       "  end_lng  member_casual ride_len      weekday date       month    day year\n",
       "1 -87.6586 member        26.81667 mins 7       2020-04-26 Apr 2020 26  2020\n",
       "2 -87.7238 member         8.15000 mins 5       2020-04-17 Apr 2020 17  2020\n",
       "3 -87.6230 member        14.38333 mins 3       2020-04-01 Apr 2020 01  2020\n",
       "4 -87.6722 member        12.20000 mins 2       2020-04-07 Apr 2020 07  2020\n",
       "5 -87.6547 casual        52.91667 mins 6       2020-04-18 Apr 2020 18  2020\n",
       "6 -87.6120 member         5.40000 mins 4       2020-04-30 Apr 2020 30  2020"
      ]
     },
     "metadata": {},
     "output_type": "display_data"
    }
   ],
   "source": [
    "trips$date <- as.Date(trips$started_at)\n",
    "trips$month <- as.yearmon(trips$date, \"%Y-%m\")\n",
    "trips$day <- format(trips$date, \"%d\")\n",
    "trips$year <- format(trips$date, \"%Y\")\n",
    "head(trips)"
   ]
  },
  {
   "cell_type": "markdown",
   "id": "73349e02",
   "metadata": {
    "papermill": {
     "duration": 0.064412,
     "end_time": "2021-06-13T14:01:06.088517",
     "exception": false,
     "start_time": "2021-06-13T14:01:06.024105",
     "status": "completed"
    },
    "tags": []
   },
   "source": [
    "**Changing the data type of ride_len to numeric**"
   ]
  },
  {
   "cell_type": "code",
   "execution_count": 11,
   "id": "536695a6",
   "metadata": {
    "execution": {
     "iopub.execute_input": "2021-06-13T14:01:06.221549Z",
     "iopub.status.busy": "2021-06-13T14:01:06.220311Z",
     "iopub.status.idle": "2021-06-13T14:01:11.756571Z",
     "shell.execute_reply": "2021-06-13T14:01:11.755233Z"
    },
    "papermill": {
     "duration": 5.604123,
     "end_time": "2021-06-13T14:01:11.756801",
     "exception": false,
     "start_time": "2021-06-13T14:01:06.152678",
     "status": "completed"
    },
    "tags": []
   },
   "outputs": [
    {
     "data": {
      "text/html": [
       "TRUE"
      ],
      "text/latex": [
       "TRUE"
      ],
      "text/markdown": [
       "TRUE"
      ],
      "text/plain": [
       "[1] TRUE"
      ]
     },
     "metadata": {},
     "output_type": "display_data"
    }
   ],
   "source": [
    "trips$ride_len <- as.numeric(as.character(trips$ride_len))\n",
    "is.numeric(trips$ride_len)"
   ]
  },
  {
   "cell_type": "markdown",
   "id": "6c02ba0f",
   "metadata": {
    "papermill": {
     "duration": 0.063102,
     "end_time": "2021-06-13T14:01:11.884120",
     "exception": false,
     "start_time": "2021-06-13T14:01:11.821018",
     "status": "completed"
    },
    "tags": []
   },
   "source": [
    "**Checking if there are any rows that have ride length less than 0 and are used for test rides by Cyclistic**"
   ]
  },
  {
   "cell_type": "code",
   "execution_count": 12,
   "id": "389421c0",
   "metadata": {
    "execution": {
     "iopub.execute_input": "2021-06-13T14:01:12.017970Z",
     "iopub.status.busy": "2021-06-13T14:01:12.016696Z",
     "iopub.status.idle": "2021-06-13T14:01:12.043521Z",
     "shell.execute_reply": "2021-06-13T14:01:12.042272Z"
    },
    "papermill": {
     "duration": 0.095934,
     "end_time": "2021-06-13T14:01:12.043666",
     "exception": false,
     "start_time": "2021-06-13T14:01:11.947732",
     "status": "completed"
    },
    "tags": []
   },
   "outputs": [
    {
     "data": {
      "text/html": [
       "10552"
      ],
      "text/latex": [
       "10552"
      ],
      "text/markdown": [
       "10552"
      ],
      "text/plain": [
       "[1] 10552"
      ]
     },
     "metadata": {},
     "output_type": "display_data"
    }
   ],
   "source": [
    "sum(trips$ride_len<0)"
   ]
  },
  {
   "cell_type": "code",
   "execution_count": 13,
   "id": "a984f76c",
   "metadata": {
    "execution": {
     "iopub.execute_input": "2021-06-13T14:01:12.178472Z",
     "iopub.status.busy": "2021-06-13T14:01:12.177852Z",
     "iopub.status.idle": "2021-06-13T14:01:16.061338Z",
     "shell.execute_reply": "2021-06-13T14:01:16.060089Z"
    },
    "papermill": {
     "duration": 3.952475,
     "end_time": "2021-06-13T14:01:16.061558",
     "exception": false,
     "start_time": "2021-06-13T14:01:12.109083",
     "status": "completed"
    },
    "tags": []
   },
   "outputs": [
    {
     "data": {
      "text/html": [
       "3364"
      ],
      "text/latex": [
       "3364"
      ],
      "text/markdown": [
       "3364"
      ],
      "text/plain": [
       "[1] 3364"
      ]
     },
     "metadata": {},
     "output_type": "display_data"
    },
    {
     "data": {
      "text/html": [
       "0"
      ],
      "text/latex": [
       "0"
      ],
      "text/markdown": [
       "0"
      ],
      "text/plain": [
       "[1] 0"
      ]
     },
     "metadata": {},
     "output_type": "display_data"
    },
    {
     "data": {
      "text/html": [
       "3"
      ],
      "text/latex": [
       "3"
      ],
      "text/markdown": [
       "3"
      ],
      "text/plain": [
       "[1] 3"
      ]
     },
     "metadata": {},
     "output_type": "display_data"
    }
   ],
   "source": [
    "nrow(subset(trips, start_station_name %like% \"TEST\"))\n",
    "nrow(subset(trips, start_station_name %like% \"Test\"))\n",
    "nrow(subset(trips, start_station_name %like% \"test\"))"
   ]
  },
  {
   "cell_type": "markdown",
   "id": "bec26bbb",
   "metadata": {
    "papermill": {
     "duration": 0.065913,
     "end_time": "2021-06-13T14:01:16.195359",
     "exception": false,
     "start_time": "2021-06-13T14:01:16.129446",
     "status": "completed"
    },
    "tags": []
   },
   "source": [
    "**Created a new Dataframe which deletes all the rows that has negetive ride length or is used for test drive by Cyclistic**"
   ]
  },
  {
   "cell_type": "code",
   "execution_count": 14,
   "id": "673ee5b6",
   "metadata": {
    "execution": {
     "iopub.execute_input": "2021-06-13T14:01:16.331752Z",
     "iopub.status.busy": "2021-06-13T14:01:16.330504Z",
     "iopub.status.idle": "2021-06-13T14:01:17.578032Z",
     "shell.execute_reply": "2021-06-13T14:01:17.577010Z"
    },
    "papermill": {
     "duration": 1.317055,
     "end_time": "2021-06-13T14:01:17.578311",
     "exception": false,
     "start_time": "2021-06-13T14:01:16.261256",
     "status": "completed"
    },
    "tags": []
   },
   "outputs": [],
   "source": [
    "trips_v2 <- trips[!(trips$start_station_name == \"Test\" \n",
    "                    | trips$ride_len<0 \n",
    "                    | trips$start_station_name == \"TEST\" \n",
    "                    | trips$start_station_name == \"test\" ),]\n"
   ]
  },
  {
   "cell_type": "markdown",
   "id": "0ed1d660",
   "metadata": {
    "papermill": {
     "duration": 0.066441,
     "end_time": "2021-06-13T14:01:17.710872",
     "exception": false,
     "start_time": "2021-06-13T14:01:17.644431",
     "status": "completed"
    },
    "tags": []
   },
   "source": [
    "**Dropping/ Deleting the rows that has no values or empty cells**"
   ]
  },
  {
   "cell_type": "code",
   "execution_count": 15,
   "id": "82d184c0",
   "metadata": {
    "execution": {
     "iopub.execute_input": "2021-06-13T14:01:17.847893Z",
     "iopub.status.busy": "2021-06-13T14:01:17.846742Z",
     "iopub.status.idle": "2021-06-13T14:01:21.838959Z",
     "shell.execute_reply": "2021-06-13T14:01:21.837691Z"
    },
    "papermill": {
     "duration": 4.061831,
     "end_time": "2021-06-13T14:01:21.839111",
     "exception": false,
     "start_time": "2021-06-13T14:01:17.777280",
     "status": "completed"
    },
    "tags": []
   },
   "outputs": [],
   "source": [
    "trips_v2 <- drop_na(trips_v2)"
   ]
  },
  {
   "cell_type": "code",
   "execution_count": 16,
   "id": "71138bdc",
   "metadata": {
    "execution": {
     "iopub.execute_input": "2021-06-13T14:01:21.999316Z",
     "iopub.status.busy": "2021-06-13T14:01:21.998057Z",
     "iopub.status.idle": "2021-06-13T14:01:22.027764Z",
     "shell.execute_reply": "2021-06-13T14:01:22.026730Z"
    },
    "papermill": {
     "duration": 0.098616,
     "end_time": "2021-06-13T14:01:22.027946",
     "exception": false,
     "start_time": "2021-06-13T14:01:21.929330",
     "status": "completed"
    },
    "tags": []
   },
   "outputs": [
    {
     "name": "stdout",
     "output_type": "stream",
     "text": [
      "Rows: 3,284,237\n",
      "Columns: 19\n",
      "$ ride_id            \u001b[3m\u001b[90m<chr>\u001b[39m\u001b[23m \"A847FADBBC638E45\", \"5405B80E996FF60D\", \"5DD24A79A4…\n",
      "$ rideable_type      \u001b[3m\u001b[90m<chr>\u001b[39m\u001b[23m \"docked_bike\", \"docked_bike\", \"docked_bike\", \"docke…\n",
      "$ started_at         \u001b[3m\u001b[90m<dttm>\u001b[39m\u001b[23m 2020-04-26 17:45:14, 2020-04-17 17:08:54, 2020-04-…\n",
      "$ ended_at           \u001b[3m\u001b[90m<dttm>\u001b[39m\u001b[23m 2020-04-26 18:12:03, 2020-04-17 17:17:03, 2020-04-…\n",
      "$ start_station_name \u001b[3m\u001b[90m<chr>\u001b[39m\u001b[23m \"Eckhart Park\", \"Drake Ave & Fullerton Ave\", \"McClu…\n",
      "$ start_station_id   \u001b[3m\u001b[90m<chr>\u001b[39m\u001b[23m \"86\", \"503\", \"142\", \"216\", \"125\", \"173\", \"35\", \"434…\n",
      "$ end_station_name   \u001b[3m\u001b[90m<chr>\u001b[39m\u001b[23m \"Lincoln Ave & Diversey Pkwy\", \"Kosciuszko Park\", \"…\n",
      "$ end_station_id     \u001b[3m\u001b[90m<chr>\u001b[39m\u001b[23m \"152\", \"499\", \"255\", \"657\", \"323\", \"35\", \"635\", \"38…\n",
      "$ start_lat          \u001b[3m\u001b[90m<dbl>\u001b[39m\u001b[23m 41.8964, 41.9244, 41.8945, 41.9030, 41.8902, 41.896…\n",
      "$ start_lng          \u001b[3m\u001b[90m<dbl>\u001b[39m\u001b[23m -87.6610, -87.7154, -87.6179, -87.6975, -87.6262, -…\n",
      "$ end_lat            \u001b[3m\u001b[90m<dbl>\u001b[39m\u001b[23m 41.9322, 41.9306, 41.8679, 41.8992, 41.9695, 41.892…\n",
      "$ end_lng            \u001b[3m\u001b[90m<dbl>\u001b[39m\u001b[23m -87.6586, -87.7238, -87.6230, -87.6722, -87.6547, -…\n",
      "$ member_casual      \u001b[3m\u001b[90m<chr>\u001b[39m\u001b[23m \"member\", \"member\", \"member\", \"member\", \"casual\", \"…\n",
      "$ ride_len           \u001b[3m\u001b[90m<dbl>\u001b[39m\u001b[23m 26.816667, 8.150000, 14.383333, 12.200000, 52.91666…\n",
      "$ weekday            \u001b[3m\u001b[90m<dbl>\u001b[39m\u001b[23m 7, 5, 3, 2, 6, 4, 4, 2, 3, 6, 6, 6, 5, 6, 1, 6, 7, …\n",
      "$ date               \u001b[3m\u001b[90m<date>\u001b[39m\u001b[23m 2020-04-26, 2020-04-17, 2020-04-01, 2020-04-07, 20…\n",
      "$ month              \u001b[3m\u001b[90m<yearmon>\u001b[39m\u001b[23m Apr 2020, Apr 2020, Apr 2020, Apr 2020, Apr 202…\n",
      "$ day                \u001b[3m\u001b[90m<chr>\u001b[39m\u001b[23m \"26\", \"17\", \"01\", \"07\", \"18\", \"30\", \"02\", \"07\", \"15…\n",
      "$ year               \u001b[3m\u001b[90m<chr>\u001b[39m\u001b[23m \"2020\", \"2020\", \"2020\", \"2020\", \"2020\", \"2020\", \"20…\n"
     ]
    }
   ],
   "source": [
    "glimpse(trips_v2)"
   ]
  },
  {
   "cell_type": "markdown",
   "id": "4708fceb",
   "metadata": {
    "papermill": {
     "duration": 0.067912,
     "end_time": "2021-06-13T14:01:22.162088",
     "exception": false,
     "start_time": "2021-06-13T14:01:22.094176",
     "status": "completed"
    },
    "tags": []
   },
   "source": [
    "**Total number of members and casual riders, along with their distance covered**"
   ]
  },
  {
   "cell_type": "code",
   "execution_count": 17,
   "id": "bd7517aa",
   "metadata": {
    "execution": {
     "iopub.execute_input": "2021-06-13T14:01:22.300622Z",
     "iopub.status.busy": "2021-06-13T14:01:22.299366Z",
     "iopub.status.idle": "2021-06-13T14:01:24.589607Z",
     "shell.execute_reply": "2021-06-13T14:01:24.588067Z"
    },
    "papermill": {
     "duration": 2.361491,
     "end_time": "2021-06-13T14:01:24.589815",
     "exception": false,
     "start_time": "2021-06-13T14:01:22.228324",
     "status": "completed"
    },
    "tags": []
   },
   "outputs": [
    {
     "data": {
      "text/plain": [
       "\n",
       " casual  member \n",
       "1348018 1936219 "
      ]
     },
     "metadata": {},
     "output_type": "display_data"
    },
    {
     "data": {
      "text/html": [
       "<table class=\"dataframe\">\n",
       "<caption>A data.frame: 2 × 2</caption>\n",
       "<thead>\n",
       "\t<tr><th scope=col>member_casual</th><th scope=col>ride_len</th></tr>\n",
       "\t<tr><th scope=col>&lt;chr&gt;</th><th scope=col>&lt;dbl&gt;</th></tr>\n",
       "</thead>\n",
       "<tbody>\n",
       "\t<tr><td>casual</td><td>61270741</td></tr>\n",
       "\t<tr><td>member</td><td>30850069</td></tr>\n",
       "</tbody>\n",
       "</table>\n"
      ],
      "text/latex": [
       "A data.frame: 2 × 2\n",
       "\\begin{tabular}{ll}\n",
       " member\\_casual & ride\\_len\\\\\n",
       " <chr> & <dbl>\\\\\n",
       "\\hline\n",
       "\t casual & 61270741\\\\\n",
       "\t member & 30850069\\\\\n",
       "\\end{tabular}\n"
      ],
      "text/markdown": [
       "\n",
       "A data.frame: 2 × 2\n",
       "\n",
       "| member_casual &lt;chr&gt; | ride_len &lt;dbl&gt; |\n",
       "|---|---|\n",
       "| casual | 61270741 |\n",
       "| member | 30850069 |\n",
       "\n"
      ],
      "text/plain": [
       "  member_casual ride_len\n",
       "1 casual        61270741\n",
       "2 member        30850069"
      ]
     },
     "metadata": {},
     "output_type": "display_data"
    }
   ],
   "source": [
    "table(trips_v2$member_casual)\n",
    "aggregate(ride_len ~ member_casual, trips_v2, sum)"
   ]
  },
  {
   "cell_type": "markdown",
   "id": "fbb1f26a",
   "metadata": {
    "papermill": {
     "duration": 0.067332,
     "end_time": "2021-06-13T14:01:24.725612",
     "exception": false,
     "start_time": "2021-06-13T14:01:24.658280",
     "status": "completed"
    },
    "tags": []
   },
   "source": [
    "# Analyze"
   ]
  },
  {
   "cell_type": "markdown",
   "id": "aa03082e",
   "metadata": {
    "papermill": {
     "duration": 0.067198,
     "end_time": "2021-06-13T14:01:24.859917",
     "exception": false,
     "start_time": "2021-06-13T14:01:24.792719",
     "status": "completed"
    },
    "tags": []
   },
   "source": [
    "**Finding the Mean, Median, Max, Min of the Ride Length. We will begin by finding the Mode of the Weekdays, meaning the days where most Cyclistic bikes were used.**"
   ]
  },
  {
   "cell_type": "code",
   "execution_count": 18,
   "id": "d1720f59",
   "metadata": {
    "execution": {
     "iopub.execute_input": "2021-06-13T14:01:24.999191Z",
     "iopub.status.busy": "2021-06-13T14:01:24.997081Z",
     "iopub.status.idle": "2021-06-13T14:01:25.148524Z",
     "shell.execute_reply": "2021-06-13T14:01:25.147269Z"
    },
    "papermill": {
     "duration": 0.221564,
     "end_time": "2021-06-13T14:01:25.148654",
     "exception": false,
     "start_time": "2021-06-13T14:01:24.927090",
     "status": "completed"
    },
    "tags": []
   },
   "outputs": [
    {
     "name": "stdout",
     "output_type": "stream",
     "text": [
      "[1] \"Mode\"\n"
     ]
    },
    {
     "data": {
      "text/html": [
       "6"
      ],
      "text/latex": [
       "6"
      ],
      "text/markdown": [
       "6"
      ],
      "text/plain": [
       "[1] 6"
      ]
     },
     "metadata": {},
     "output_type": "display_data"
    },
    {
     "name": "stdout",
     "output_type": "stream",
     "text": [
      "[1] \"Saturday\"\n"
     ]
    }
   ],
   "source": [
    "#Finding Mode since Mode can't be calculated in summarize()\n",
    "getmode <- function(v) {\n",
    "   uniqv <- unique(v)\n",
    "   uniqv[which.max(tabulate(match(v, uniqv)))]\n",
    "}\n",
    "\n",
    "# Create the vector with numbers.\n",
    "v <- trips_v2$weekday\n",
    "\n",
    "# Calculate the mode using the user function.\n",
    "result <- getmode(v)\n",
    "print(\"Mode\")\n",
    "result\n",
    "print(\"Saturday\")"
   ]
  },
  {
   "cell_type": "code",
   "execution_count": 19,
   "id": "5328fa34",
   "metadata": {
    "execution": {
     "iopub.execute_input": "2021-06-13T14:01:25.289070Z",
     "iopub.status.busy": "2021-06-13T14:01:25.287918Z",
     "iopub.status.idle": "2021-06-13T14:01:25.404627Z",
     "shell.execute_reply": "2021-06-13T14:01:25.403449Z"
    },
    "papermill": {
     "duration": 0.18806,
     "end_time": "2021-06-13T14:01:25.404765",
     "exception": false,
     "start_time": "2021-06-13T14:01:25.216705",
     "status": "completed"
    },
    "tags": []
   },
   "outputs": [
    {
     "data": {
      "text/html": [
       "<table class=\"dataframe\">\n",
       "<caption>A tibble: 2 × 5</caption>\n",
       "<thead>\n",
       "\t<tr><th scope=col>member_casual</th><th scope=col>Min</th><th scope=col>Mean</th><th scope=col>Max</th><th scope=col>Mode</th></tr>\n",
       "\t<tr><th scope=col>&lt;chr&gt;</th><th scope=col>&lt;dbl&gt;</th><th scope=col>&lt;dbl&gt;</th><th scope=col>&lt;dbl&gt;</th><th scope=col>&lt;dbl&gt;</th></tr>\n",
       "</thead>\n",
       "<tbody>\n",
       "\t<tr><td>casual</td><td>0</td><td>45.45246</td><td>55683.88</td><td>6</td></tr>\n",
       "\t<tr><td>member</td><td>0</td><td>15.93315</td><td>58720.03</td><td>6</td></tr>\n",
       "</tbody>\n",
       "</table>\n"
      ],
      "text/latex": [
       "A tibble: 2 × 5\n",
       "\\begin{tabular}{lllll}\n",
       " member\\_casual & Min & Mean & Max & Mode\\\\\n",
       " <chr> & <dbl> & <dbl> & <dbl> & <dbl>\\\\\n",
       "\\hline\n",
       "\t casual & 0 & 45.45246 & 55683.88 & 6\\\\\n",
       "\t member & 0 & 15.93315 & 58720.03 & 6\\\\\n",
       "\\end{tabular}\n"
      ],
      "text/markdown": [
       "\n",
       "A tibble: 2 × 5\n",
       "\n",
       "| member_casual &lt;chr&gt; | Min &lt;dbl&gt; | Mean &lt;dbl&gt; | Max &lt;dbl&gt; | Mode &lt;dbl&gt; |\n",
       "|---|---|---|---|---|\n",
       "| casual | 0 | 45.45246 | 55683.88 | 6 |\n",
       "| member | 0 | 15.93315 | 58720.03 | 6 |\n",
       "\n"
      ],
      "text/plain": [
       "  member_casual Min Mean     Max      Mode\n",
       "1 casual        0   45.45246 55683.88 6   \n",
       "2 member        0   15.93315 58720.03 6   "
      ]
     },
     "metadata": {},
     "output_type": "display_data"
    }
   ],
   "source": [
    "trips_v2%>%\n",
    " group_by(member_casual)%>%\n",
    " summarize(Min= min(ride_len),\n",
    "            Mean=mean(ride_len),\n",
    "            Max=max(ride_len),\n",
    "            Mode= result)\n"
   ]
  },
  {
   "cell_type": "markdown",
   "id": "7223ae16",
   "metadata": {
    "papermill": {
     "duration": 0.067372,
     "end_time": "2021-06-13T14:01:25.539882",
     "exception": false,
     "start_time": "2021-06-13T14:01:25.472510",
     "status": "completed"
    },
    "tags": []
   },
   "source": [
    "**Assigning Names of the weekdays to their respective days**"
   ]
  },
  {
   "cell_type": "code",
   "execution_count": 20,
   "id": "17f2fef2",
   "metadata": {
    "execution": {
     "iopub.execute_input": "2021-06-13T14:01:25.679271Z",
     "iopub.status.busy": "2021-06-13T14:01:25.677659Z",
     "iopub.status.idle": "2021-06-13T14:01:27.000460Z",
     "shell.execute_reply": "2021-06-13T14:01:26.998876Z"
    },
    "papermill": {
     "duration": 1.394065,
     "end_time": "2021-06-13T14:01:27.000606",
     "exception": false,
     "start_time": "2021-06-13T14:01:25.606541",
     "status": "completed"
    },
    "tags": []
   },
   "outputs": [],
   "source": [
    "\n",
    "trips_v2$weekday <- recode(trips_v2$weekday, \n",
    "       \"1\"=\"Monday\",\n",
    "       \"2\"=\"Tuesday\",\n",
    "       \"3\"=\"Wednesday\",\n",
    "       \"4\"=\"Thursday\",\n",
    "       \"5\"=\"Friday\",\n",
    "       \"6\"=\"Saturday\",\n",
    "       \"7\"=\"Sunday\")"
   ]
  },
  {
   "cell_type": "code",
   "execution_count": 21,
   "id": "f3e43882",
   "metadata": {
    "execution": {
     "iopub.execute_input": "2021-06-13T14:01:27.140837Z",
     "iopub.status.busy": "2021-06-13T14:01:27.139241Z",
     "iopub.status.idle": "2021-06-13T14:01:27.175957Z",
     "shell.execute_reply": "2021-06-13T14:01:27.174654Z"
    },
    "papermill": {
     "duration": 0.108322,
     "end_time": "2021-06-13T14:01:27.176079",
     "exception": false,
     "start_time": "2021-06-13T14:01:27.067757",
     "status": "completed"
    },
    "tags": []
   },
   "outputs": [
    {
     "name": "stdout",
     "output_type": "stream",
     "text": [
      " chr [1:3284237] \"Sunday\" \"Friday\" \"Wednesday\" \"Tuesday\" \"Saturday\" ...\n"
     ]
    },
    {
     "data": {
      "text/html": [
       "<table class=\"dataframe\">\n",
       "<caption>A tibble: 6 × 19</caption>\n",
       "<thead>\n",
       "\t<tr><th scope=col>ride_id</th><th scope=col>rideable_type</th><th scope=col>started_at</th><th scope=col>ended_at</th><th scope=col>start_station_name</th><th scope=col>start_station_id</th><th scope=col>end_station_name</th><th scope=col>end_station_id</th><th scope=col>start_lat</th><th scope=col>start_lng</th><th scope=col>end_lat</th><th scope=col>end_lng</th><th scope=col>member_casual</th><th scope=col>ride_len</th><th scope=col>weekday</th><th scope=col>date</th><th scope=col>month</th><th scope=col>day</th><th scope=col>year</th></tr>\n",
       "\t<tr><th scope=col>&lt;chr&gt;</th><th scope=col>&lt;chr&gt;</th><th scope=col>&lt;dttm&gt;</th><th scope=col>&lt;dttm&gt;</th><th scope=col>&lt;chr&gt;</th><th scope=col>&lt;chr&gt;</th><th scope=col>&lt;chr&gt;</th><th scope=col>&lt;chr&gt;</th><th scope=col>&lt;dbl&gt;</th><th scope=col>&lt;dbl&gt;</th><th scope=col>&lt;dbl&gt;</th><th scope=col>&lt;dbl&gt;</th><th scope=col>&lt;chr&gt;</th><th scope=col>&lt;dbl&gt;</th><th scope=col>&lt;chr&gt;</th><th scope=col>&lt;date&gt;</th><th scope=col>&lt;yearmon&gt;</th><th scope=col>&lt;chr&gt;</th><th scope=col>&lt;chr&gt;</th></tr>\n",
       "</thead>\n",
       "<tbody>\n",
       "\t<tr><td>A847FADBBC638E45</td><td>docked_bike</td><td>2020-04-26 17:45:14</td><td>2020-04-26 18:12:03</td><td><span style=white-space:pre-wrap>Eckhart Park                       </span></td><td>86 </td><td>Lincoln Ave &amp; Diversey Pkwy</td><td>152</td><td>41.8964</td><td>-87.6610</td><td>41.9322</td><td>-87.6586</td><td>member</td><td>26.81667</td><td><span style=white-space:pre-wrap>Sunday   </span></td><td>2020-04-26</td><td>Apr 2020</td><td>26</td><td>2020</td></tr>\n",
       "\t<tr><td>5405B80E996FF60D</td><td>docked_bike</td><td>2020-04-17 17:08:54</td><td>2020-04-17 17:17:03</td><td><span style=white-space:pre-wrap>Drake Ave &amp; Fullerton Ave          </span></td><td>503</td><td><span style=white-space:pre-wrap>Kosciuszko Park            </span></td><td>499</td><td>41.9244</td><td>-87.7154</td><td>41.9306</td><td>-87.7238</td><td>member</td><td> 8.15000</td><td><span style=white-space:pre-wrap>Friday   </span></td><td>2020-04-17</td><td>Apr 2020</td><td>17</td><td>2020</td></tr>\n",
       "\t<tr><td>5DD24A79A4E006F4</td><td>docked_bike</td><td>2020-04-01 17:54:13</td><td>2020-04-01 18:08:36</td><td><span style=white-space:pre-wrap>McClurg Ct &amp; Erie St               </span></td><td>142</td><td>Indiana Ave &amp; Roosevelt Rd </td><td>255</td><td>41.8945</td><td>-87.6179</td><td>41.8679</td><td>-87.6230</td><td>member</td><td>14.38333</td><td>Wednesday</td><td>2020-04-01</td><td>Apr 2020</td><td>01</td><td>2020</td></tr>\n",
       "\t<tr><td>2A59BBDF5CDBA725</td><td>docked_bike</td><td>2020-04-07 12:50:19</td><td>2020-04-07 13:02:31</td><td><span style=white-space:pre-wrap>California Ave &amp; Division St       </span></td><td>216</td><td><span style=white-space:pre-wrap>Wood St &amp; Augusta Blvd     </span></td><td>657</td><td>41.9030</td><td>-87.6975</td><td>41.8992</td><td>-87.6722</td><td>member</td><td>12.20000</td><td><span style=white-space:pre-wrap>Tuesday  </span></td><td>2020-04-07</td><td>Apr 2020</td><td>07</td><td>2020</td></tr>\n",
       "\t<tr><td>27AD306C119C6158</td><td>docked_bike</td><td>2020-04-18 10:22:59</td><td>2020-04-18 11:15:54</td><td><span style=white-space:pre-wrap>Rush St &amp; Hubbard St               </span></td><td>125</td><td>Sheridan Rd &amp; Lawrence Ave </td><td>323</td><td>41.8902</td><td>-87.6262</td><td>41.9695</td><td>-87.6547</td><td>casual</td><td>52.91667</td><td>Saturday </td><td>2020-04-18</td><td>Apr 2020</td><td>18</td><td>2020</td></tr>\n",
       "\t<tr><td>356216E875132F61</td><td>docked_bike</td><td>2020-04-30 17:55:47</td><td>2020-04-30 18:01:11</td><td>Mies van der Rohe Way &amp; Chicago Ave</td><td>173</td><td><span style=white-space:pre-wrap>Streeter Dr &amp; Grand Ave    </span></td><td>35 </td><td>41.8969</td><td>-87.6217</td><td>41.8923</td><td>-87.6120</td><td>member</td><td> 5.40000</td><td>Thursday </td><td>2020-04-30</td><td>Apr 2020</td><td>30</td><td>2020</td></tr>\n",
       "</tbody>\n",
       "</table>\n"
      ],
      "text/latex": [
       "A tibble: 6 × 19\n",
       "\\begin{tabular}{lllllllllllllllllll}\n",
       " ride\\_id & rideable\\_type & started\\_at & ended\\_at & start\\_station\\_name & start\\_station\\_id & end\\_station\\_name & end\\_station\\_id & start\\_lat & start\\_lng & end\\_lat & end\\_lng & member\\_casual & ride\\_len & weekday & date & month & day & year\\\\\n",
       " <chr> & <chr> & <dttm> & <dttm> & <chr> & <chr> & <chr> & <chr> & <dbl> & <dbl> & <dbl> & <dbl> & <chr> & <dbl> & <chr> & <date> & <yearmon> & <chr> & <chr>\\\\\n",
       "\\hline\n",
       "\t A847FADBBC638E45 & docked\\_bike & 2020-04-26 17:45:14 & 2020-04-26 18:12:03 & Eckhart Park                        & 86  & Lincoln Ave \\& Diversey Pkwy & 152 & 41.8964 & -87.6610 & 41.9322 & -87.6586 & member & 26.81667 & Sunday    & 2020-04-26 & Apr 2020 & 26 & 2020\\\\\n",
       "\t 5405B80E996FF60D & docked\\_bike & 2020-04-17 17:08:54 & 2020-04-17 17:17:03 & Drake Ave \\& Fullerton Ave           & 503 & Kosciuszko Park             & 499 & 41.9244 & -87.7154 & 41.9306 & -87.7238 & member &  8.15000 & Friday    & 2020-04-17 & Apr 2020 & 17 & 2020\\\\\n",
       "\t 5DD24A79A4E006F4 & docked\\_bike & 2020-04-01 17:54:13 & 2020-04-01 18:08:36 & McClurg Ct \\& Erie St                & 142 & Indiana Ave \\& Roosevelt Rd  & 255 & 41.8945 & -87.6179 & 41.8679 & -87.6230 & member & 14.38333 & Wednesday & 2020-04-01 & Apr 2020 & 01 & 2020\\\\\n",
       "\t 2A59BBDF5CDBA725 & docked\\_bike & 2020-04-07 12:50:19 & 2020-04-07 13:02:31 & California Ave \\& Division St        & 216 & Wood St \\& Augusta Blvd      & 657 & 41.9030 & -87.6975 & 41.8992 & -87.6722 & member & 12.20000 & Tuesday   & 2020-04-07 & Apr 2020 & 07 & 2020\\\\\n",
       "\t 27AD306C119C6158 & docked\\_bike & 2020-04-18 10:22:59 & 2020-04-18 11:15:54 & Rush St \\& Hubbard St                & 125 & Sheridan Rd \\& Lawrence Ave  & 323 & 41.8902 & -87.6262 & 41.9695 & -87.6547 & casual & 52.91667 & Saturday  & 2020-04-18 & Apr 2020 & 18 & 2020\\\\\n",
       "\t 356216E875132F61 & docked\\_bike & 2020-04-30 17:55:47 & 2020-04-30 18:01:11 & Mies van der Rohe Way \\& Chicago Ave & 173 & Streeter Dr \\& Grand Ave     & 35  & 41.8969 & -87.6217 & 41.8923 & -87.6120 & member &  5.40000 & Thursday  & 2020-04-30 & Apr 2020 & 30 & 2020\\\\\n",
       "\\end{tabular}\n"
      ],
      "text/markdown": [
       "\n",
       "A tibble: 6 × 19\n",
       "\n",
       "| ride_id &lt;chr&gt; | rideable_type &lt;chr&gt; | started_at &lt;dttm&gt; | ended_at &lt;dttm&gt; | start_station_name &lt;chr&gt; | start_station_id &lt;chr&gt; | end_station_name &lt;chr&gt; | end_station_id &lt;chr&gt; | start_lat &lt;dbl&gt; | start_lng &lt;dbl&gt; | end_lat &lt;dbl&gt; | end_lng &lt;dbl&gt; | member_casual &lt;chr&gt; | ride_len &lt;dbl&gt; | weekday &lt;chr&gt; | date &lt;date&gt; | month &lt;yearmon&gt; | day &lt;chr&gt; | year &lt;chr&gt; |\n",
       "|---|---|---|---|---|---|---|---|---|---|---|---|---|---|---|---|---|---|---|\n",
       "| A847FADBBC638E45 | docked_bike | 2020-04-26 17:45:14 | 2020-04-26 18:12:03 | Eckhart Park                        | 86  | Lincoln Ave &amp; Diversey Pkwy | 152 | 41.8964 | -87.6610 | 41.9322 | -87.6586 | member | 26.81667 | Sunday    | 2020-04-26 | Apr 2020 | 26 | 2020 |\n",
       "| 5405B80E996FF60D | docked_bike | 2020-04-17 17:08:54 | 2020-04-17 17:17:03 | Drake Ave &amp; Fullerton Ave           | 503 | Kosciuszko Park             | 499 | 41.9244 | -87.7154 | 41.9306 | -87.7238 | member |  8.15000 | Friday    | 2020-04-17 | Apr 2020 | 17 | 2020 |\n",
       "| 5DD24A79A4E006F4 | docked_bike | 2020-04-01 17:54:13 | 2020-04-01 18:08:36 | McClurg Ct &amp; Erie St                | 142 | Indiana Ave &amp; Roosevelt Rd  | 255 | 41.8945 | -87.6179 | 41.8679 | -87.6230 | member | 14.38333 | Wednesday | 2020-04-01 | Apr 2020 | 01 | 2020 |\n",
       "| 2A59BBDF5CDBA725 | docked_bike | 2020-04-07 12:50:19 | 2020-04-07 13:02:31 | California Ave &amp; Division St        | 216 | Wood St &amp; Augusta Blvd      | 657 | 41.9030 | -87.6975 | 41.8992 | -87.6722 | member | 12.20000 | Tuesday   | 2020-04-07 | Apr 2020 | 07 | 2020 |\n",
       "| 27AD306C119C6158 | docked_bike | 2020-04-18 10:22:59 | 2020-04-18 11:15:54 | Rush St &amp; Hubbard St                | 125 | Sheridan Rd &amp; Lawrence Ave  | 323 | 41.8902 | -87.6262 | 41.9695 | -87.6547 | casual | 52.91667 | Saturday  | 2020-04-18 | Apr 2020 | 18 | 2020 |\n",
       "| 356216E875132F61 | docked_bike | 2020-04-30 17:55:47 | 2020-04-30 18:01:11 | Mies van der Rohe Way &amp; Chicago Ave | 173 | Streeter Dr &amp; Grand Ave     | 35  | 41.8969 | -87.6217 | 41.8923 | -87.6120 | member |  5.40000 | Thursday  | 2020-04-30 | Apr 2020 | 30 | 2020 |\n",
       "\n"
      ],
      "text/plain": [
       "  ride_id          rideable_type started_at          ended_at           \n",
       "1 A847FADBBC638E45 docked_bike   2020-04-26 17:45:14 2020-04-26 18:12:03\n",
       "2 5405B80E996FF60D docked_bike   2020-04-17 17:08:54 2020-04-17 17:17:03\n",
       "3 5DD24A79A4E006F4 docked_bike   2020-04-01 17:54:13 2020-04-01 18:08:36\n",
       "4 2A59BBDF5CDBA725 docked_bike   2020-04-07 12:50:19 2020-04-07 13:02:31\n",
       "5 27AD306C119C6158 docked_bike   2020-04-18 10:22:59 2020-04-18 11:15:54\n",
       "6 356216E875132F61 docked_bike   2020-04-30 17:55:47 2020-04-30 18:01:11\n",
       "  start_station_name                  start_station_id\n",
       "1 Eckhart Park                        86              \n",
       "2 Drake Ave & Fullerton Ave           503             \n",
       "3 McClurg Ct & Erie St                142             \n",
       "4 California Ave & Division St        216             \n",
       "5 Rush St & Hubbard St                125             \n",
       "6 Mies van der Rohe Way & Chicago Ave 173             \n",
       "  end_station_name            end_station_id start_lat start_lng end_lat\n",
       "1 Lincoln Ave & Diversey Pkwy 152            41.8964   -87.6610  41.9322\n",
       "2 Kosciuszko Park             499            41.9244   -87.7154  41.9306\n",
       "3 Indiana Ave & Roosevelt Rd  255            41.8945   -87.6179  41.8679\n",
       "4 Wood St & Augusta Blvd      657            41.9030   -87.6975  41.8992\n",
       "5 Sheridan Rd & Lawrence Ave  323            41.8902   -87.6262  41.9695\n",
       "6 Streeter Dr & Grand Ave     35             41.8969   -87.6217  41.8923\n",
       "  end_lng  member_casual ride_len weekday   date       month    day year\n",
       "1 -87.6586 member        26.81667 Sunday    2020-04-26 Apr 2020 26  2020\n",
       "2 -87.7238 member         8.15000 Friday    2020-04-17 Apr 2020 17  2020\n",
       "3 -87.6230 member        14.38333 Wednesday 2020-04-01 Apr 2020 01  2020\n",
       "4 -87.6722 member        12.20000 Tuesday   2020-04-07 Apr 2020 07  2020\n",
       "5 -87.6547 casual        52.91667 Saturday  2020-04-18 Apr 2020 18  2020\n",
       "6 -87.6120 member         5.40000 Thursday  2020-04-30 Apr 2020 30  2020"
      ]
     },
     "metadata": {},
     "output_type": "display_data"
    }
   ],
   "source": [
    "str(trips_v2$weekday)\n",
    "head(trips_v2)"
   ]
  },
  {
   "cell_type": "markdown",
   "id": "ec5ef95a",
   "metadata": {
    "papermill": {
     "duration": 0.06776,
     "end_time": "2021-06-13T14:01:27.311373",
     "exception": false,
     "start_time": "2021-06-13T14:01:27.243613",
     "status": "completed"
    },
    "tags": []
   },
   "source": [
    "#### Checking how many rides were taken by different members on the basis of Days"
   ]
  },
  {
   "cell_type": "code",
   "execution_count": 22,
   "id": "788ed221",
   "metadata": {
    "execution": {
     "iopub.execute_input": "2021-06-13T14:01:27.449792Z",
     "iopub.status.busy": "2021-06-13T14:01:27.448202Z",
     "iopub.status.idle": "2021-06-13T14:01:27.613140Z",
     "shell.execute_reply": "2021-06-13T14:01:27.611734Z"
    },
    "papermill": {
     "duration": 0.23578,
     "end_time": "2021-06-13T14:01:27.613272",
     "exception": false,
     "start_time": "2021-06-13T14:01:27.377492",
     "status": "completed"
    },
    "tags": []
   },
   "outputs": [
    {
     "name": "stderr",
     "output_type": "stream",
     "text": [
      "`summarise()` has grouped output by 'member_casual'. You can override using the `.groups` argument.\n",
      "\n"
     ]
    },
    {
     "data": {
      "text/html": [
       "<table class=\"dataframe\">\n",
       "<caption>A grouped_df: 14 × 4</caption>\n",
       "<thead>\n",
       "\t<tr><th scope=col>member_casual</th><th scope=col>weekday</th><th scope=col>number_of_rides</th><th scope=col>avg_ride_len</th></tr>\n",
       "\t<tr><th scope=col>&lt;chr&gt;</th><th scope=col>&lt;chr&gt;</th><th scope=col>&lt;int&gt;</th><th scope=col>&lt;dbl&gt;</th></tr>\n",
       "</thead>\n",
       "<tbody>\n",
       "\t<tr><td>casual</td><td>Saturday </td><td>319017</td><td>47.30757</td></tr>\n",
       "\t<tr><td>casual</td><td>Sunday   </td><td>249761</td><td>51.13508</td></tr>\n",
       "\t<tr><td>casual</td><td>Friday   </td><td>196451</td><td>43.25524</td></tr>\n",
       "\t<tr><td>casual</td><td>Thursday </td><td>156177</td><td>43.59505</td></tr>\n",
       "\t<tr><td>casual</td><td>Wednesday</td><td>148352</td><td>40.88315</td></tr>\n",
       "\t<tr><td>casual</td><td>Monday   </td><td>142042</td><td>45.48713</td></tr>\n",
       "\t<tr><td>casual</td><td>Tuesday  </td><td>136218</td><td>40.92711</td></tr>\n",
       "\t<tr><td>member</td><td>Saturday </td><td>304608</td><td>17.68358</td></tr>\n",
       "\t<tr><td>member</td><td>Friday   </td><td>288897</td><td>15.56674</td></tr>\n",
       "\t<tr><td>member</td><td>Wednesday</td><td>288390</td><td>15.04754</td></tr>\n",
       "\t<tr><td>member</td><td>Thursday </td><td>283731</td><td>15.03009</td></tr>\n",
       "\t<tr><td>member</td><td>Tuesday  </td><td>268223</td><td>14.97113</td></tr>\n",
       "\t<tr><td>member</td><td>Monday   </td><td>251905</td><td>15.09393</td></tr>\n",
       "\t<tr><td>member</td><td>Sunday   </td><td>250465</td><td>18.14395</td></tr>\n",
       "</tbody>\n",
       "</table>\n"
      ],
      "text/latex": [
       "A grouped\\_df: 14 × 4\n",
       "\\begin{tabular}{llll}\n",
       " member\\_casual & weekday & number\\_of\\_rides & avg\\_ride\\_len\\\\\n",
       " <chr> & <chr> & <int> & <dbl>\\\\\n",
       "\\hline\n",
       "\t casual & Saturday  & 319017 & 47.30757\\\\\n",
       "\t casual & Sunday    & 249761 & 51.13508\\\\\n",
       "\t casual & Friday    & 196451 & 43.25524\\\\\n",
       "\t casual & Thursday  & 156177 & 43.59505\\\\\n",
       "\t casual & Wednesday & 148352 & 40.88315\\\\\n",
       "\t casual & Monday    & 142042 & 45.48713\\\\\n",
       "\t casual & Tuesday   & 136218 & 40.92711\\\\\n",
       "\t member & Saturday  & 304608 & 17.68358\\\\\n",
       "\t member & Friday    & 288897 & 15.56674\\\\\n",
       "\t member & Wednesday & 288390 & 15.04754\\\\\n",
       "\t member & Thursday  & 283731 & 15.03009\\\\\n",
       "\t member & Tuesday   & 268223 & 14.97113\\\\\n",
       "\t member & Monday    & 251905 & 15.09393\\\\\n",
       "\t member & Sunday    & 250465 & 18.14395\\\\\n",
       "\\end{tabular}\n"
      ],
      "text/markdown": [
       "\n",
       "A grouped_df: 14 × 4\n",
       "\n",
       "| member_casual &lt;chr&gt; | weekday &lt;chr&gt; | number_of_rides &lt;int&gt; | avg_ride_len &lt;dbl&gt; |\n",
       "|---|---|---|---|\n",
       "| casual | Saturday  | 319017 | 47.30757 |\n",
       "| casual | Sunday    | 249761 | 51.13508 |\n",
       "| casual | Friday    | 196451 | 43.25524 |\n",
       "| casual | Thursday  | 156177 | 43.59505 |\n",
       "| casual | Wednesday | 148352 | 40.88315 |\n",
       "| casual | Monday    | 142042 | 45.48713 |\n",
       "| casual | Tuesday   | 136218 | 40.92711 |\n",
       "| member | Saturday  | 304608 | 17.68358 |\n",
       "| member | Friday    | 288897 | 15.56674 |\n",
       "| member | Wednesday | 288390 | 15.04754 |\n",
       "| member | Thursday  | 283731 | 15.03009 |\n",
       "| member | Tuesday   | 268223 | 14.97113 |\n",
       "| member | Monday    | 251905 | 15.09393 |\n",
       "| member | Sunday    | 250465 | 18.14395 |\n",
       "\n"
      ],
      "text/plain": [
       "   member_casual weekday   number_of_rides avg_ride_len\n",
       "1  casual        Saturday  319017          47.30757    \n",
       "2  casual        Sunday    249761          51.13508    \n",
       "3  casual        Friday    196451          43.25524    \n",
       "4  casual        Thursday  156177          43.59505    \n",
       "5  casual        Wednesday 148352          40.88315    \n",
       "6  casual        Monday    142042          45.48713    \n",
       "7  casual        Tuesday   136218          40.92711    \n",
       "8  member        Saturday  304608          17.68358    \n",
       "9  member        Friday    288897          15.56674    \n",
       "10 member        Wednesday 288390          15.04754    \n",
       "11 member        Thursday  283731          15.03009    \n",
       "12 member        Tuesday   268223          14.97113    \n",
       "13 member        Monday    251905          15.09393    \n",
       "14 member        Sunday    250465          18.14395    "
      ]
     },
     "metadata": {},
     "output_type": "display_data"
    }
   ],
   "source": [
    "trips_v2 %>% \n",
    " group_by(member_casual, weekday) %>%  \n",
    " summarise(number_of_rides = n(),avg_ride_len = mean(ride_len)) %>% \n",
    " arrange(member_casual, desc(number_of_rides))"
   ]
  },
  {
   "cell_type": "markdown",
   "id": "92f3993f",
   "metadata": {
    "papermill": {
     "duration": 0.069042,
     "end_time": "2021-06-13T14:01:27.749059",
     "exception": false,
     "start_time": "2021-06-13T14:01:27.680017",
     "status": "completed"
    },
    "tags": []
   },
   "source": [
    "#### Visualizing the different riders on each day and the ride length"
   ]
  },
  {
   "cell_type": "code",
   "execution_count": 23,
   "id": "9aea2a82",
   "metadata": {
    "execution": {
     "iopub.execute_input": "2021-06-13T14:01:27.893430Z",
     "iopub.status.busy": "2021-06-13T14:01:27.891593Z",
     "iopub.status.idle": "2021-06-13T14:01:28.874660Z",
     "shell.execute_reply": "2021-06-13T14:01:28.873593Z"
    },
    "papermill": {
     "duration": 1.056585,
     "end_time": "2021-06-13T14:01:28.875002",
     "exception": false,
     "start_time": "2021-06-13T14:01:27.818417",
     "status": "completed"
    },
    "tags": []
   },
   "outputs": [
    {
     "name": "stderr",
     "output_type": "stream",
     "text": [
      "`summarise()` has grouped output by 'member_casual'. You can override using the `.groups` argument.\n",
      "\n"
     ]
    },
    {
     "data": {
      "image/png": "[encoded data removed]"
     },
     "metadata": {
      "image/png": {
       "height": 420,
       "width": 420
      }
     },
     "output_type": "display_data"
    }
   ],
   "source": [
    "library(ggplot2)\n",
    "trips_v2 %>%  \n",
    "  group_by(member_casual, weekday) %>% \n",
    "  summarise(number_of_rides = n()) %>% \n",
    "  arrange(member_casual, weekday)  %>% \n",
    "  ggplot(aes(x = weekday, y = number_of_rides, fill = member_casual)) +\n",
    "  labs(title =\"Total trips by people each day depending on their type\",\n",
    "      x=\"Weekdays\", y=\"Trips\") +\n",
    "  geom_col(width=0.7, position = position_dodge(width=0.5), color=\"black\") +\n",
    "  scale_y_continuous(labels = function(x) format(x, scientific = FALSE))\n",
    "  "
   ]
  },
  {
   "cell_type": "markdown",
   "id": "7d4f1b7d",
   "metadata": {
    "papermill": {
     "duration": 0.072371,
     "end_time": "2021-06-13T14:01:29.020480",
     "exception": false,
     "start_time": "2021-06-13T14:01:28.948109",
     "status": "completed"
    },
    "tags": []
   },
   "source": [
    "#### Visualizing the different Riders each day with the time they spent "
   ]
  },
  {
   "cell_type": "code",
   "execution_count": 24,
   "id": "8d2ce81e",
   "metadata": {
    "execution": {
     "iopub.execute_input": "2021-06-13T14:01:29.171033Z",
     "iopub.status.busy": "2021-06-13T14:01:29.169532Z",
     "iopub.status.idle": "2021-06-13T14:01:29.655946Z",
     "shell.execute_reply": "2021-06-13T14:01:29.654887Z"
    },
    "papermill": {
     "duration": 0.56311,
     "end_time": "2021-06-13T14:01:29.656083",
     "exception": false,
     "start_time": "2021-06-13T14:01:29.092973",
     "status": "completed"
    },
    "tags": []
   },
   "outputs": [
    {
     "name": "stderr",
     "output_type": "stream",
     "text": [
      "`summarise()` has grouped output by 'member_casual'. You can override using the `.groups` argument.\n",
      "\n"
     ]
    },
    {
     "data": {
      "image/png": "[encoded data removed]"
     },
     "metadata": {
      "image/png": {
       "height": 420,
       "width": 420
      }
     },
     "output_type": "display_data"
    }
   ],
   "source": [
    "trips_v2 %>% \n",
    "  #mutate(weekday = weekday(started_at, label = TRUE)) %>% \n",
    "  group_by(member_casual, weekday) %>% \n",
    "  summarise(number_of_rides = n()\n",
    "            ,avg_ride_len = mean(ride_len)) %>% \n",
    "  arrange(member_casual, weekday)  %>% \n",
    "  ggplot(aes(y= avg_ride_len, x = weekday, fill = member_casual)) +\n",
    "  geom_col(position = \"dodge\", alpha=0.9, size=0.5, colour=\"black\") +\n",
    " #scale_fill_viridis(discrete = T) + \n",
    "#theme_ipsum() + \n",
    "  ggtitle(\"Average ride length by the different people each day\") +\n",
    "    labs(y=\"Ride length (mins)\", x=\"Weekdays \")"
   ]
  },
  {
   "cell_type": "markdown",
   "id": "337c0698",
   "metadata": {
    "papermill": {
     "duration": 0.075335,
     "end_time": "2021-06-13T14:01:29.806219",
     "exception": false,
     "start_time": "2021-06-13T14:01:29.730884",
     "status": "completed"
    },
    "tags": []
   },
   "source": [
    "### Checking how many rides were taken by different members on the basis of Months"
   ]
  },
  {
   "cell_type": "code",
   "execution_count": 25,
   "id": "a80a03de",
   "metadata": {
    "execution": {
     "iopub.execute_input": "2021-06-13T14:01:29.958683Z",
     "iopub.status.busy": "2021-06-13T14:01:29.957238Z",
     "iopub.status.idle": "2021-06-13T14:01:30.173100Z",
     "shell.execute_reply": "2021-06-13T14:01:30.171749Z"
    },
    "papermill": {
     "duration": 0.293613,
     "end_time": "2021-06-13T14:01:30.173401",
     "exception": false,
     "start_time": "2021-06-13T14:01:29.879788",
     "status": "completed"
    },
    "tags": []
   },
   "outputs": [
    {
     "name": "stderr",
     "output_type": "stream",
     "text": [
      "`summarise()` has grouped output by 'member_casual'. You can override using the `.groups` argument.\n",
      "\n"
     ]
    },
    {
     "data": {
      "text/html": [
       "<table class=\"dataframe\">\n",
       "<caption>A grouped_df: 24 × 4</caption>\n",
       "<thead>\n",
       "\t<tr><th scope=col>member_casual</th><th scope=col>month</th><th scope=col>number_of_rides</th><th scope=col>avg_ride</th></tr>\n",
       "\t<tr><th scope=col>&lt;chr&gt;</th><th scope=col>&lt;yearmon&gt;</th><th scope=col>&lt;int&gt;</th><th scope=col>&lt;dbl&gt;</th></tr>\n",
       "</thead>\n",
       "<tbody>\n",
       "\t<tr><td>casual</td><td>Aug 2020</td><td>281987</td><td>44.24402</td></tr>\n",
       "\t<tr><td>casual</td><td>Jul 2020</td><td>268125</td><td>59.28460</td></tr>\n",
       "\t<tr><td>casual</td><td>Sep 2020</td><td>214681</td><td>38.41992</td></tr>\n",
       "\t<tr><td>casual</td><td>Jun 2020</td><td>154342</td><td>51.22886</td></tr>\n",
       "\t<tr><td>casual</td><td>Oct 2020</td><td>122328</td><td>31.29656</td></tr>\n",
       "\t<tr><td>casual</td><td>May 2020</td><td> 86699</td><td>50.60586</td></tr>\n",
       "\t<tr><td>casual</td><td>Mar 2021</td><td> 75641</td><td>38.48048</td></tr>\n",
       "\t<tr><td>casual</td><td>Nov 2020</td><td> 72850</td><td>33.47880</td></tr>\n",
       "\t<tr><td>casual</td><td>Dec 2020</td><td> 24492</td><td>27.62127</td></tr>\n",
       "\t<tr><td>casual</td><td>Apr 2020</td><td> 23570</td><td>72.49064</td></tr>\n",
       "\t<tr><td>casual</td><td>Jan 2021</td><td> 14690</td><td>26.37000</td></tr>\n",
       "\t<tr><td>casual</td><td>Feb 2021</td><td>  8613</td><td>47.13712</td></tr>\n",
       "\t<tr><td>member</td><td>Aug 2020</td><td>323759</td><td>16.57365</td></tr>\n",
       "\t<tr><td>member</td><td>Sep 2020</td><td>283582</td><td>15.27631</td></tr>\n",
       "\t<tr><td>member</td><td>Jul 2020</td><td>280556</td><td>17.57165</td></tr>\n",
       "\t<tr><td>member</td><td>Oct 2020</td><td>215072</td><td>13.94036</td></tr>\n",
       "\t<tr><td>member</td><td>Jun 2020</td><td>187727</td><td>18.53929</td></tr>\n",
       "\t<tr><td>member</td><td>Nov 2020</td><td>149085</td><td>13.49002</td></tr>\n",
       "\t<tr><td>member</td><td>Mar 2021</td><td>130048</td><td>13.66509</td></tr>\n",
       "\t<tr><td>member</td><td>May 2020</td><td>113083</td><td>19.58867</td></tr>\n",
       "\t<tr><td>member</td><td>Dec 2020</td><td> 89049</td><td>12.34712</td></tr>\n",
       "\t<tr><td>member</td><td>Jan 2021</td><td> 68819</td><td>12.03096</td></tr>\n",
       "\t<tr><td>member</td><td>Apr 2020</td><td> 61056</td><td>21.36900</td></tr>\n",
       "\t<tr><td>member</td><td>Feb 2021</td><td> 34383</td><td>14.78034</td></tr>\n",
       "</tbody>\n",
       "</table>\n"
      ],
      "text/latex": [
       "A grouped\\_df: 24 × 4\n",
       "\\begin{tabular}{llll}\n",
       " member\\_casual & month & number\\_of\\_rides & avg\\_ride\\\\\n",
       " <chr> & <yearmon> & <int> & <dbl>\\\\\n",
       "\\hline\n",
       "\t casual & Aug 2020 & 281987 & 44.24402\\\\\n",
       "\t casual & Jul 2020 & 268125 & 59.28460\\\\\n",
       "\t casual & Sep 2020 & 214681 & 38.41992\\\\\n",
       "\t casual & Jun 2020 & 154342 & 51.22886\\\\\n",
       "\t casual & Oct 2020 & 122328 & 31.29656\\\\\n",
       "\t casual & May 2020 &  86699 & 50.60586\\\\\n",
       "\t casual & Mar 2021 &  75641 & 38.48048\\\\\n",
       "\t casual & Nov 2020 &  72850 & 33.47880\\\\\n",
       "\t casual & Dec 2020 &  24492 & 27.62127\\\\\n",
       "\t casual & Apr 2020 &  23570 & 72.49064\\\\\n",
       "\t casual & Jan 2021 &  14690 & 26.37000\\\\\n",
       "\t casual & Feb 2021 &   8613 & 47.13712\\\\\n",
       "\t member & Aug 2020 & 323759 & 16.57365\\\\\n",
       "\t member & Sep 2020 & 283582 & 15.27631\\\\\n",
       "\t member & Jul 2020 & 280556 & 17.57165\\\\\n",
       "\t member & Oct 2020 & 215072 & 13.94036\\\\\n",
       "\t member & Jun 2020 & 187727 & 18.53929\\\\\n",
       "\t member & Nov 2020 & 149085 & 13.49002\\\\\n",
       "\t member & Mar 2021 & 130048 & 13.66509\\\\\n",
       "\t member & May 2020 & 113083 & 19.58867\\\\\n",
       "\t member & Dec 2020 &  89049 & 12.34712\\\\\n",
       "\t member & Jan 2021 &  68819 & 12.03096\\\\\n",
       "\t member & Apr 2020 &  61056 & 21.36900\\\\\n",
       "\t member & Feb 2021 &  34383 & 14.78034\\\\\n",
       "\\end{tabular}\n"
      ],
      "text/markdown": [
       "\n",
       "A grouped_df: 24 × 4\n",
       "\n",
       "| member_casual &lt;chr&gt; | month &lt;yearmon&gt; | number_of_rides &lt;int&gt; | avg_ride &lt;dbl&gt; |\n",
       "|---|---|---|---|\n",
       "| casual | Aug 2020 | 281987 | 44.24402 |\n",
       "| casual | Jul 2020 | 268125 | 59.28460 |\n",
       "| casual | Sep 2020 | 214681 | 38.41992 |\n",
       "| casual | Jun 2020 | 154342 | 51.22886 |\n",
       "| casual | Oct 2020 | 122328 | 31.29656 |\n",
       "| casual | May 2020 |  86699 | 50.60586 |\n",
       "| casual | Mar 2021 |  75641 | 38.48048 |\n",
       "| casual | Nov 2020 |  72850 | 33.47880 |\n",
       "| casual | Dec 2020 |  24492 | 27.62127 |\n",
       "| casual | Apr 2020 |  23570 | 72.49064 |\n",
       "| casual | Jan 2021 |  14690 | 26.37000 |\n",
       "| casual | Feb 2021 |   8613 | 47.13712 |\n",
       "| member | Aug 2020 | 323759 | 16.57365 |\n",
       "| member | Sep 2020 | 283582 | 15.27631 |\n",
       "| member | Jul 2020 | 280556 | 17.57165 |\n",
       "| member | Oct 2020 | 215072 | 13.94036 |\n",
       "| member | Jun 2020 | 187727 | 18.53929 |\n",
       "| member | Nov 2020 | 149085 | 13.49002 |\n",
       "| member | Mar 2021 | 130048 | 13.66509 |\n",
       "| member | May 2020 | 113083 | 19.58867 |\n",
       "| member | Dec 2020 |  89049 | 12.34712 |\n",
       "| member | Jan 2021 |  68819 | 12.03096 |\n",
       "| member | Apr 2020 |  61056 | 21.36900 |\n",
       "| member | Feb 2021 |  34383 | 14.78034 |\n",
       "\n"
      ],
      "text/plain": [
       "   member_casual month    number_of_rides avg_ride\n",
       "1  casual        Aug 2020 281987          44.24402\n",
       "2  casual        Jul 2020 268125          59.28460\n",
       "3  casual        Sep 2020 214681          38.41992\n",
       "4  casual        Jun 2020 154342          51.22886\n",
       "5  casual        Oct 2020 122328          31.29656\n",
       "6  casual        May 2020  86699          50.60586\n",
       "7  casual        Mar 2021  75641          38.48048\n",
       "8  casual        Nov 2020  72850          33.47880\n",
       "9  casual        Dec 2020  24492          27.62127\n",
       "10 casual        Apr 2020  23570          72.49064\n",
       "11 casual        Jan 2021  14690          26.37000\n",
       "12 casual        Feb 2021   8613          47.13712\n",
       "13 member        Aug 2020 323759          16.57365\n",
       "14 member        Sep 2020 283582          15.27631\n",
       "15 member        Jul 2020 280556          17.57165\n",
       "16 member        Oct 2020 215072          13.94036\n",
       "17 member        Jun 2020 187727          18.53929\n",
       "18 member        Nov 2020 149085          13.49002\n",
       "19 member        Mar 2021 130048          13.66509\n",
       "20 member        May 2020 113083          19.58867\n",
       "21 member        Dec 2020  89049          12.34712\n",
       "22 member        Jan 2021  68819          12.03096\n",
       "23 member        Apr 2020  61056          21.36900\n",
       "24 member        Feb 2021  34383          14.78034"
      ]
     },
     "metadata": {},
     "output_type": "display_data"
    }
   ],
   "source": [
    "trips_v2 %>% \n",
    "  group_by(member_casual, month) %>%  \n",
    "  summarise(number_of_rides = n(),`avg_ride` = mean(ride_len)) %>% \n",
    "  arrange(member_casual,desc(number_of_rides))"
   ]
  },
  {
   "cell_type": "markdown",
   "id": "5fadd676",
   "metadata": {
    "papermill": {
     "duration": 0.07563,
     "end_time": "2021-06-13T14:01:30.325187",
     "exception": false,
     "start_time": "2021-06-13T14:01:30.249557",
     "status": "completed"
    },
    "tags": []
   },
   "source": [
    "#### Visalizing the Riders each month and the numbers of rides taken"
   ]
  },
  {
   "cell_type": "code",
   "execution_count": 26,
   "id": "aa5ffe47",
   "metadata": {
    "execution": {
     "iopub.execute_input": "2021-06-13T14:01:30.478738Z",
     "iopub.status.busy": "2021-06-13T14:01:30.477451Z",
     "iopub.status.idle": "2021-06-13T14:01:31.163733Z",
     "shell.execute_reply": "2021-06-13T14:01:31.162678Z"
    },
    "papermill": {
     "duration": 0.764591,
     "end_time": "2021-06-13T14:01:31.163891",
     "exception": false,
     "start_time": "2021-06-13T14:01:30.399300",
     "status": "completed"
    },
    "tags": []
   },
   "outputs": [
    {
     "name": "stderr",
     "output_type": "stream",
     "text": [
      "`summarise()` has grouped output by 'member_casual'. You can override using the `.groups` argument.\n",
      "\n"
     ]
    },
    {
     "data": {
      "image/png": "[encoded data removed]"
     },
     "metadata": {
      "image/png": {
       "height": 420,
       "width": 420
      }
     },
     "output_type": "display_data"
    }
   ],
   "source": [
    "trips_v2 %>% \n",
    "  group_by(member_casual, month) %>% \n",
    "  summarise(number_of_rides = n()) %>% \n",
    "  arrange(member_casual, month)  %>% \n",
    "  ggplot(mapping=aes(x = month, y = number_of_rides, fill = member_casual)) +\n",
    "    #facet_wrap(~member_casual)+\n",
    "  labs(title =\"Total rides by different people each Month\",\n",
    "                  x= \"Month\", y=\"Total Rides\") +\n",
    "  geom_col(position = \"dodge\", alpha=0.9, size=0.5, colour=\"black\" )+\n",
    "  #theme(axis.text=element_text(angle=90))\n",
    "  scale_y_continuous(labels = function(x) format(x, scientific = FALSE))"
   ]
  },
  {
   "cell_type": "markdown",
   "id": "3768104b",
   "metadata": {
    "papermill": {
     "duration": 0.076739,
     "end_time": "2021-06-13T14:01:31.317882",
     "exception": false,
     "start_time": "2021-06-13T14:01:31.241143",
     "status": "completed"
    },
    "tags": []
   },
   "source": [
    "#### Visualizing the Riders and the Ride Length"
   ]
  },
  {
   "cell_type": "code",
   "execution_count": 27,
   "id": "2d58d187",
   "metadata": {
    "execution": {
     "iopub.execute_input": "2021-06-13T14:01:31.477320Z",
     "iopub.status.busy": "2021-06-13T14:01:31.475968Z",
     "iopub.status.idle": "2021-06-13T14:01:32.193226Z",
     "shell.execute_reply": "2021-06-13T14:01:32.192294Z"
    },
    "papermill": {
     "duration": 0.799128,
     "end_time": "2021-06-13T14:01:32.193381",
     "exception": false,
     "start_time": "2021-06-13T14:01:31.394253",
     "status": "completed"
    },
    "tags": []
   },
   "outputs": [
    {
     "name": "stderr",
     "output_type": "stream",
     "text": [
      "`summarise()` has grouped output by 'member_casual'. You can override using the `.groups` argument.\n",
      "\n"
     ]
    },
    {
     "data": {
      "image/png": "[encoded data removed]"
     },
     "metadata": {
      "image/png": {
       "height": 420,
       "width": 420
      }
     },
     "output_type": "display_data"
    }
   ],
   "source": [
    "trips_v2 %>% \n",
    "  group_by(member_casual, month) %>% \n",
    "  summarise(number_of_rides = n(),avg_ride_len = mean(ride_len)) %>% \n",
    "  arrange(member_casual, month)  %>% \n",
    "  ggplot(aes(x = month, y = avg_ride_len, fill = member_casual)) +\n",
    "  geom_col(position = \"dodge\", alpha=0.9, size=0.5, colour=\"black\") +\n",
    " #scale_fill_viridis(discrete = T) + \n",
    "#theme_ipsum() + \n",
    "  ggtitle(\"Average ride length by the different people each Month\") +\n",
    "    labs(x=\"Month\", y=\"Ride Time\")"
   ]
  },
  {
   "cell_type": "markdown",
   "id": "5b4282dd",
   "metadata": {
    "papermill": {
     "duration": 0.077672,
     "end_time": "2021-06-13T14:01:32.349976",
     "exception": false,
     "start_time": "2021-06-13T14:01:32.272304",
     "status": "completed"
    },
    "tags": []
   },
   "source": [
    "#### Visualizing the Different types of bikes that were used by Different Riders"
   ]
  },
  {
   "cell_type": "code",
   "execution_count": 28,
   "id": "509cf726",
   "metadata": {
    "execution": {
     "iopub.execute_input": "2021-06-13T14:01:32.540075Z",
     "iopub.status.busy": "2021-06-13T14:01:32.537440Z",
     "iopub.status.idle": "2021-06-13T14:01:33.171603Z",
     "shell.execute_reply": "2021-06-13T14:01:33.170654Z"
    },
    "papermill": {
     "duration": 0.743812,
     "end_time": "2021-06-13T14:01:33.171755",
     "exception": false,
     "start_time": "2021-06-13T14:01:32.427943",
     "status": "completed"
    },
    "tags": []
   },
   "outputs": [
    {
     "name": "stderr",
     "output_type": "stream",
     "text": [
      "`summarise()` has grouped output by 'rideable_type'. You can override using the `.groups` argument.\n",
      "\n"
     ]
    },
    {
     "data": {
      "image/png": "[encoded data removed]"
     },
     "metadata": {
      "image/png": {
       "height": 420,
       "width": 420
      }
     },
     "output_type": "display_data"
    }
   ],
   "source": [
    "trips_v2 %>%\n",
    "  group_by(rideable_type, member_casual) %>%\n",
    "  summarise(number_of_rides = n()) %>%  \n",
    "  ggplot(aes(x= rideable_type, y=number_of_rides, fill= member_casual))+\n",
    "  geom_bar(stat='identity', position = \"dodge\", color=\"black\") +\n",
    "  scale_y_continuous(labels = function(x) format(x, scientific = FALSE)) +\n",
    "  labs(title =\"Ride type and Number of Rides\",\n",
    "      x=\"Type of Ride\", y=\"Number of Rides\" )"
   ]
  },
  {
   "cell_type": "markdown",
   "id": "9477d974",
   "metadata": {
    "papermill": {
     "duration": 0.078891,
     "end_time": "2021-06-13T14:01:33.329368",
     "exception": false,
     "start_time": "2021-06-13T14:01:33.250477",
     "status": "completed"
    },
    "tags": []
   },
   "source": []
  },
  {
   "cell_type": "markdown",
   "id": "5727da4b",
   "metadata": {
    "papermill": {
     "duration": 0.079405,
     "end_time": "2021-06-13T14:01:33.487971",
     "exception": false,
     "start_time": "2021-06-13T14:01:33.408566",
     "status": "completed"
    },
    "tags": []
   },
   "source": [
    "#### Visualizing the Most used stations to pick up Bikes by different Riders"
   ]
  },
  {
   "cell_type": "code",
   "execution_count": 29,
   "id": "b97b266d",
   "metadata": {
    "execution": {
     "iopub.execute_input": "2021-06-13T14:01:33.649296Z",
     "iopub.status.busy": "2021-06-13T14:01:33.648159Z",
     "iopub.status.idle": "2021-06-13T14:01:34.518760Z",
     "shell.execute_reply": "2021-06-13T14:01:34.519294Z"
    },
    "papermill": {
     "duration": 0.953784,
     "end_time": "2021-06-13T14:01:34.519458",
     "exception": false,
     "start_time": "2021-06-13T14:01:33.565674",
     "status": "completed"
    },
    "tags": []
   },
   "outputs": [
    {
     "name": "stderr",
     "output_type": "stream",
     "text": [
      "`summarise()` has grouped output by 'start_station_name'. You can override using the `.groups` argument.\n",
      "\n"
     ]
    },
    {
     "data": {
      "image/png": "[encoded data removed]"
     },
     "metadata": {
      "image/png": {
       "height": 420,
       "width": 420
      }
     },
     "output_type": "display_data"
    }
   ],
   "source": [
    "trips_v2 %>% \n",
    "    group_by(start_station_name, member_casual) %>%\n",
    "    summarise(avg_ride = mean(ride_len)) %>%\n",
    "    arrange(desc(avg_ride)) %>%\n",
    "    head(26) %>%\n",
    "    ggplot(aes(x = avg_ride, y = start_station_name, fill=member_casual)) +\n",
    "    geom_col(position = \"dodge\", alpha=0.6 , size=0.5, color=\"black\") +\n",
    "    #scale_fill_viridis(discrete = T) +\n",
    "    # theme_ipsum() + \n",
    "    ggtitle(\"Top 25 starting stations\") +\n",
    "    labs(x=\"Average ride duration (mins)\", y=\"Station Name\")+\n",
    "    facet_wrap(~member_casual)"
   ]
  },
  {
   "cell_type": "markdown",
   "id": "1f40d2d5",
   "metadata": {
    "papermill": {
     "duration": 0.080132,
     "end_time": "2021-06-13T14:01:34.682339",
     "exception": false,
     "start_time": "2021-06-13T14:01:34.602207",
     "status": "completed"
    },
    "tags": []
   },
   "source": [
    "#### Visualizing the most drop off stations by Different Riders"
   ]
  },
  {
   "cell_type": "code",
   "execution_count": 30,
   "id": "2ed2008a",
   "metadata": {
    "execution": {
     "iopub.execute_input": "2021-06-13T14:01:34.853771Z",
     "iopub.status.busy": "2021-06-13T14:01:34.852501Z",
     "iopub.status.idle": "2021-06-13T14:01:35.688036Z",
     "shell.execute_reply": "2021-06-13T14:01:35.688550Z"
    },
    "papermill": {
     "duration": 0.92355,
     "end_time": "2021-06-13T14:01:35.688709",
     "exception": false,
     "start_time": "2021-06-13T14:01:34.765159",
     "status": "completed"
    },
    "tags": []
   },
   "outputs": [
    {
     "name": "stderr",
     "output_type": "stream",
     "text": [
      "`summarise()` has grouped output by 'end_station_name'. You can override using the `.groups` argument.\n",
      "\n"
     ]
    },
    {
     "data": {
      "image/png": "[encoded data removed]"
     },
     "metadata": {
      "image/png": {
       "height": 420,
       "width": 420
      }
     },
     "output_type": "display_data"
    }
   ],
   "source": [
    "trips_v2 %>% \n",
    "    group_by(end_station_name, member_casual) %>%\n",
    "    summarise(avg_ride = mean(ride_len)) %>%\n",
    "    arrange(desc(avg_ride)) %>%\n",
    "    head(26) %>%\n",
    "    ggplot(aes(x = avg_ride, y = end_station_name, fill=member_casual)) +\n",
    "    geom_col(position = \"dodge\", alpha=0.6 , size=0.5, color=\"black\") +\n",
    "    #scale_fill_viridis(discrete = T) +\n",
    "    # theme_ipsum() + \n",
    "    ggtitle(\"Top 25 drop off stations\") +\n",
    "    labs(x=\"Average ride duration (mins)\", y=\"Station Name\")+\n",
    "    facet_grid(~member_casual)"
   ]
  },
  {
   "cell_type": "markdown",
   "id": "7cfb6855",
   "metadata": {
    "papermill": {
     "duration": 0.083476,
     "end_time": "2021-06-13T14:01:35.857638",
     "exception": false,
     "start_time": "2021-06-13T14:01:35.774162",
     "status": "completed"
    },
    "tags": []
   },
   "source": [
    "# Share"
   ]
  },
  {
   "cell_type": "markdown",
   "id": "38650161",
   "metadata": {
    "papermill": {
     "duration": 0.085227,
     "end_time": "2021-06-13T14:01:36.026922",
     "exception": false,
     "start_time": "2021-06-13T14:01:35.941695",
     "status": "completed"
    },
    "tags": []
   },
   "source": [
    "## Conclutions"
   ]
  },
  {
   "cell_type": "markdown",
   "id": "390244d0",
   "metadata": {
    "papermill": {
     "duration": 0.084709,
     "end_time": "2021-06-13T14:01:36.196081",
     "exception": false,
     "start_time": "2021-06-13T14:01:36.111372",
     "status": "completed"
    },
    "tags": []
   },
   "source": [
    "**Casual Riders**\n",
    "* We can see by the visuals that we have more Casual riders than the Members.\n",
    "* Casual Riders prefer Docked Bikes.\n",
    "* Casual Riders use Cyclistic bikes more during the weekends.\n",
    "* Casual Riders also use more during the months of July, August and September.\n",
    "* Average time spent riding is 45 mins."
   ]
  },
  {
   "cell_type": "markdown",
   "id": "03d7ed76",
   "metadata": {
    "papermill": {
     "duration": 0.082811,
     "end_time": "2021-06-13T14:01:36.364904",
     "exception": false,
     "start_time": "2021-06-13T14:01:36.282093",
     "status": "completed"
    },
    "tags": []
   },
   "source": [
    "**Members**\n",
    "* We have same amount of Rides on the weekdays, but on weekends, the riders have increased.\n",
    "* They too mostly prefer Docked Bikes.\n",
    "* The time they spent Riding is average of 15 mins.\n",
    "* Saturdays had the most number of Riders."
   ]
  },
  {
   "cell_type": "markdown",
   "id": "7e3e986e",
   "metadata": {
    "papermill": {
     "duration": 0.083948,
     "end_time": "2021-06-13T14:01:36.532533",
     "exception": false,
     "start_time": "2021-06-13T14:01:36.448585",
     "status": "completed"
    },
    "tags": []
   },
   "source": [
    "# Act"
   ]
  },
  {
   "cell_type": "markdown",
   "id": "424e7deb",
   "metadata": {
    "papermill": {
     "duration": 0.083355,
     "end_time": "2021-06-13T14:01:36.700303",
     "exception": false,
     "start_time": "2021-06-13T14:01:36.616948",
     "status": "completed"
    },
    "tags": []
   },
   "source": [
    "## Suggestions "
   ]
  },
  {
   "cell_type": "markdown",
   "id": "32843ef7",
   "metadata": {
    "papermill": {
     "duration": 0.083965,
     "end_time": "2021-06-13T14:01:36.867573",
     "exception": false,
     "start_time": "2021-06-13T14:01:36.783608",
     "status": "completed"
    },
    "tags": []
   },
   "source": [
    "* Give offers or discounts for weekends to encourage the Casual riders to buy the Subcription.\n",
    "* Increase the number of Docked Bikes, since it is widely used.\n",
    "* Built stations near Public places,like, Parks, Malls, etc to attract Casual Riders.\n",
    "* Gift services to the members so that they can encourage their friends to buy Subcriptions."
   ]
  },
  {
   "cell_type": "markdown",
   "id": "de25d760",
   "metadata": {
    "papermill": {
     "duration": 0.085747,
     "end_time": "2021-06-13T14:01:37.037772",
     "exception": false,
     "start_time": "2021-06-13T14:01:36.952025",
     "status": "completed"
    },
    "tags": []
   },
   "source": [
    "# Thank You!"
   ]
  },
  {
   "cell_type": "markdown",
   "id": "87ddf47e",
   "metadata": {
    "papermill": {
     "duration": 0.087207,
     "end_time": "2021-06-13T14:01:37.209148",
     "exception": false,
     "start_time": "2021-06-13T14:01:37.121941",
     "status": "completed"
    },
    "tags": []
   },
   "source": [
    "### Resources\n",
    "> Kaggle\n",
    "\n",
    "> Stack Overflow\n",
    "\n",
    "> RDocumentation\n",
    "\n",
    "> RStudio"
   ]
  }
 ],
 "metadata": {
  "kernelspec": {
   "display_name": "R",
   "language": "R",
   "name": "ir"
  },
  "language_info": {
   "codemirror_mode": "r",
   "file_extension": ".r",
   "mimetype": "text/x-r-source",
   "name": "R",
   "pygments_lexer": "r",
   "version": "3.6.3"
  },
  "papermill": {
   "default_parameters": {},
   "duration": 82.262618,
   "end_time": "2021-06-13T14:01:37.505874",
   "environment_variables": {},
   "exception": null,
   "input_path": "__notebook__.ipynb",
   "output_path": "__notebook__.ipynb",
   "parameters": {},
   "start_time": "2021-06-13T14:00:15.243256",
   "version": "2.3.3"
  }
 },
 "nbformat": 4,
 "nbformat_minor": 5
}
